{
 "cells": [
  {
   "cell_type": "markdown",
   "id": "d326cbc1-b52e-46d6-8359-70c948b1c0e7",
   "metadata": {},
   "source": [
    "<div style = 'text-align: center;'>\n",
    "    <img src = '../images/ga_logo_large.png'>\n",
    "</div>\n",
    "\n",
    "# **Project 2: Ames Price Prediction Model**"
   ]
  },
  {
   "cell_type": "markdown",
   "id": "4326f312-433d-4aae-8b87-333a25b3c6cd",
   "metadata": {},
   "source": [
    "---\n",
    "### **Kaggle Submission**"
   ]
  },
  {
   "cell_type": "markdown",
   "id": "8132fc0d-9bcf-44c9-a676-5cfee913d43f",
   "metadata": {},
   "source": [
    "This first submission is based on `Model 1`, which uses four numeric features to predict the final home sale price.<br>\n",
    "The four features are in the same units (square feet) and they are: `lot_area`, `total_bsmt_sf`, `1st_flr_sf` and `2nd_flr_sf`."
   ]
  },
  {
   "cell_type": "markdown",
   "id": "ec6d3d4b-1d81-42e9-9ca4-db4ceeda7eeb",
   "metadata": {},
   "source": [
    "---\n",
    "### **Data Import & Cleaning**"
   ]
  },
  {
   "cell_type": "code",
   "execution_count": 5,
   "id": "4b5ec3df-97c2-4a6c-8608-20058d1f4101",
   "metadata": {
    "tags": []
   },
   "outputs": [],
   "source": [
    "# import needed libraries for this notebook\n",
    "\n",
    "import numpy as np\n",
    "import pandas as pd\n",
    "import matplotlib.pyplot as plt\n",
    "\n",
    "# sklearn modules\n",
    "from sklearn.linear_model import LinearRegression\n",
    "from sklearn.model_selection import train_test_split, cross_val_score\n",
    "from sklearn import metrics"
   ]
  },
  {
   "cell_type": "code",
   "execution_count": 6,
   "id": "66f89c3a-b17d-42d6-8280-6922c334a47f",
   "metadata": {
    "tags": []
   },
   "outputs": [
    {
     "data": {
      "text/plain": [
       "(878, 80)"
      ]
     },
     "execution_count": 6,
     "metadata": {},
     "output_type": "execute_result"
    }
   ],
   "source": [
    "# read in test data for kaggle\n",
    "\n",
    "file_path = '../datasets/test.csv'\n",
    "ames_kaggle = pd.read_csv(file_path)\n",
    "\n",
    "#check size\n",
    "ames_kaggle.shape"
   ]
  },
  {
   "cell_type": "code",
   "execution_count": 7,
   "id": "7a8c4f5b-ffd4-4d7f-86b0-ee4f2d1dfb7a",
   "metadata": {
    "tags": []
   },
   "outputs": [
    {
     "data": {
      "text/html": [
       "<div>\n",
       "<style scoped>\n",
       "    .dataframe tbody tr th:only-of-type {\n",
       "        vertical-align: middle;\n",
       "    }\n",
       "\n",
       "    .dataframe tbody tr th {\n",
       "        vertical-align: top;\n",
       "    }\n",
       "\n",
       "    .dataframe thead th {\n",
       "        text-align: right;\n",
       "    }\n",
       "</style>\n",
       "<table border=\"1\" class=\"dataframe\">\n",
       "  <thead>\n",
       "    <tr style=\"text-align: right;\">\n",
       "      <th></th>\n",
       "      <th>Id</th>\n",
       "      <th>PID</th>\n",
       "      <th>MS SubClass</th>\n",
       "      <th>MS Zoning</th>\n",
       "      <th>Lot Frontage</th>\n",
       "      <th>Lot Area</th>\n",
       "      <th>Street</th>\n",
       "      <th>Alley</th>\n",
       "      <th>Lot Shape</th>\n",
       "      <th>Land Contour</th>\n",
       "      <th>...</th>\n",
       "      <th>3Ssn Porch</th>\n",
       "      <th>Screen Porch</th>\n",
       "      <th>Pool Area</th>\n",
       "      <th>Pool QC</th>\n",
       "      <th>Fence</th>\n",
       "      <th>Misc Feature</th>\n",
       "      <th>Misc Val</th>\n",
       "      <th>Mo Sold</th>\n",
       "      <th>Yr Sold</th>\n",
       "      <th>Sale Type</th>\n",
       "    </tr>\n",
       "  </thead>\n",
       "  <tbody>\n",
       "    <tr>\n",
       "      <th>0</th>\n",
       "      <td>2658</td>\n",
       "      <td>902301120</td>\n",
       "      <td>190</td>\n",
       "      <td>RM</td>\n",
       "      <td>69.0</td>\n",
       "      <td>9142</td>\n",
       "      <td>Pave</td>\n",
       "      <td>Grvl</td>\n",
       "      <td>Reg</td>\n",
       "      <td>Lvl</td>\n",
       "      <td>...</td>\n",
       "      <td>0</td>\n",
       "      <td>0</td>\n",
       "      <td>0</td>\n",
       "      <td>NaN</td>\n",
       "      <td>NaN</td>\n",
       "      <td>NaN</td>\n",
       "      <td>0</td>\n",
       "      <td>4</td>\n",
       "      <td>2006</td>\n",
       "      <td>WD</td>\n",
       "    </tr>\n",
       "    <tr>\n",
       "      <th>1</th>\n",
       "      <td>2718</td>\n",
       "      <td>905108090</td>\n",
       "      <td>90</td>\n",
       "      <td>RL</td>\n",
       "      <td>NaN</td>\n",
       "      <td>9662</td>\n",
       "      <td>Pave</td>\n",
       "      <td>NaN</td>\n",
       "      <td>IR1</td>\n",
       "      <td>Lvl</td>\n",
       "      <td>...</td>\n",
       "      <td>0</td>\n",
       "      <td>0</td>\n",
       "      <td>0</td>\n",
       "      <td>NaN</td>\n",
       "      <td>NaN</td>\n",
       "      <td>NaN</td>\n",
       "      <td>0</td>\n",
       "      <td>8</td>\n",
       "      <td>2006</td>\n",
       "      <td>WD</td>\n",
       "    </tr>\n",
       "    <tr>\n",
       "      <th>2</th>\n",
       "      <td>2414</td>\n",
       "      <td>528218130</td>\n",
       "      <td>60</td>\n",
       "      <td>RL</td>\n",
       "      <td>58.0</td>\n",
       "      <td>17104</td>\n",
       "      <td>Pave</td>\n",
       "      <td>NaN</td>\n",
       "      <td>IR1</td>\n",
       "      <td>Lvl</td>\n",
       "      <td>...</td>\n",
       "      <td>0</td>\n",
       "      <td>0</td>\n",
       "      <td>0</td>\n",
       "      <td>NaN</td>\n",
       "      <td>NaN</td>\n",
       "      <td>NaN</td>\n",
       "      <td>0</td>\n",
       "      <td>9</td>\n",
       "      <td>2006</td>\n",
       "      <td>New</td>\n",
       "    </tr>\n",
       "    <tr>\n",
       "      <th>3</th>\n",
       "      <td>1989</td>\n",
       "      <td>902207150</td>\n",
       "      <td>30</td>\n",
       "      <td>RM</td>\n",
       "      <td>60.0</td>\n",
       "      <td>8520</td>\n",
       "      <td>Pave</td>\n",
       "      <td>NaN</td>\n",
       "      <td>Reg</td>\n",
       "      <td>Lvl</td>\n",
       "      <td>...</td>\n",
       "      <td>0</td>\n",
       "      <td>0</td>\n",
       "      <td>0</td>\n",
       "      <td>NaN</td>\n",
       "      <td>NaN</td>\n",
       "      <td>NaN</td>\n",
       "      <td>0</td>\n",
       "      <td>7</td>\n",
       "      <td>2007</td>\n",
       "      <td>WD</td>\n",
       "    </tr>\n",
       "    <tr>\n",
       "      <th>4</th>\n",
       "      <td>625</td>\n",
       "      <td>535105100</td>\n",
       "      <td>20</td>\n",
       "      <td>RL</td>\n",
       "      <td>NaN</td>\n",
       "      <td>9500</td>\n",
       "      <td>Pave</td>\n",
       "      <td>NaN</td>\n",
       "      <td>IR1</td>\n",
       "      <td>Lvl</td>\n",
       "      <td>...</td>\n",
       "      <td>0</td>\n",
       "      <td>185</td>\n",
       "      <td>0</td>\n",
       "      <td>NaN</td>\n",
       "      <td>NaN</td>\n",
       "      <td>NaN</td>\n",
       "      <td>0</td>\n",
       "      <td>7</td>\n",
       "      <td>2009</td>\n",
       "      <td>WD</td>\n",
       "    </tr>\n",
       "  </tbody>\n",
       "</table>\n",
       "<p>5 rows × 80 columns</p>\n",
       "</div>"
      ],
      "text/plain": [
       "     Id        PID  MS SubClass MS Zoning  Lot Frontage  Lot Area Street  \\\n",
       "0  2658  902301120          190        RM          69.0      9142   Pave   \n",
       "1  2718  905108090           90        RL           NaN      9662   Pave   \n",
       "2  2414  528218130           60        RL          58.0     17104   Pave   \n",
       "3  1989  902207150           30        RM          60.0      8520   Pave   \n",
       "4   625  535105100           20        RL           NaN      9500   Pave   \n",
       "\n",
       "  Alley Lot Shape Land Contour  ... 3Ssn Porch Screen Porch Pool Area Pool QC  \\\n",
       "0  Grvl       Reg          Lvl  ...          0            0         0     NaN   \n",
       "1   NaN       IR1          Lvl  ...          0            0         0     NaN   \n",
       "2   NaN       IR1          Lvl  ...          0            0         0     NaN   \n",
       "3   NaN       Reg          Lvl  ...          0            0         0     NaN   \n",
       "4   NaN       IR1          Lvl  ...          0          185         0     NaN   \n",
       "\n",
       "  Fence Misc Feature Misc Val Mo Sold  Yr Sold  Sale Type  \n",
       "0   NaN          NaN        0       4     2006        WD   \n",
       "1   NaN          NaN        0       8     2006        WD   \n",
       "2   NaN          NaN        0       9     2006        New  \n",
       "3   NaN          NaN        0       7     2007        WD   \n",
       "4   NaN          NaN        0       7     2009        WD   \n",
       "\n",
       "[5 rows x 80 columns]"
      ]
     },
     "execution_count": 7,
     "metadata": {},
     "output_type": "execute_result"
    }
   ],
   "source": [
    "# check some rows\n",
    "ames_kaggle.head()"
   ]
  },
  {
   "cell_type": "code",
   "execution_count": 8,
   "id": "03d0f64d-40c2-448b-8b8f-d526bd5034c2",
   "metadata": {
    "tags": []
   },
   "outputs": [
    {
     "name": "stdout",
     "output_type": "stream",
     "text": [
      "<class 'pandas.core.frame.DataFrame'>\n",
      "RangeIndex: 878 entries, 0 to 877\n",
      "Data columns (total 80 columns):\n",
      " #   Column           Non-Null Count  Dtype  \n",
      "---  ------           --------------  -----  \n",
      " 0   Id               878 non-null    int64  \n",
      " 1   PID              878 non-null    int64  \n",
      " 2   MS SubClass      878 non-null    int64  \n",
      " 3   MS Zoning        878 non-null    object \n",
      " 4   Lot Frontage     718 non-null    float64\n",
      " 5   Lot Area         878 non-null    int64  \n",
      " 6   Street           878 non-null    object \n",
      " 7   Alley            58 non-null     object \n",
      " 8   Lot Shape        878 non-null    object \n",
      " 9   Land Contour     878 non-null    object \n",
      " 10  Utilities        878 non-null    object \n",
      " 11  Lot Config       878 non-null    object \n",
      " 12  Land Slope       878 non-null    object \n",
      " 13  Neighborhood     878 non-null    object \n",
      " 14  Condition 1      878 non-null    object \n",
      " 15  Condition 2      878 non-null    object \n",
      " 16  Bldg Type        878 non-null    object \n",
      " 17  House Style      878 non-null    object \n",
      " 18  Overall Qual     878 non-null    int64  \n",
      " 19  Overall Cond     878 non-null    int64  \n",
      " 20  Year Built       878 non-null    int64  \n",
      " 21  Year Remod/Add   878 non-null    int64  \n",
      " 22  Roof Style       878 non-null    object \n",
      " 23  Roof Matl        878 non-null    object \n",
      " 24  Exterior 1st     878 non-null    object \n",
      " 25  Exterior 2nd     878 non-null    object \n",
      " 26  Mas Vnr Type     343 non-null    object \n",
      " 27  Mas Vnr Area     877 non-null    float64\n",
      " 28  Exter Qual       878 non-null    object \n",
      " 29  Exter Cond       878 non-null    object \n",
      " 30  Foundation       878 non-null    object \n",
      " 31  Bsmt Qual        853 non-null    object \n",
      " 32  Bsmt Cond        853 non-null    object \n",
      " 33  Bsmt Exposure    853 non-null    object \n",
      " 34  BsmtFin Type 1   853 non-null    object \n",
      " 35  BsmtFin SF 1     878 non-null    int64  \n",
      " 36  BsmtFin Type 2   853 non-null    object \n",
      " 37  BsmtFin SF 2     878 non-null    int64  \n",
      " 38  Bsmt Unf SF      878 non-null    int64  \n",
      " 39  Total Bsmt SF    878 non-null    int64  \n",
      " 40  Heating          878 non-null    object \n",
      " 41  Heating QC       878 non-null    object \n",
      " 42  Central Air      878 non-null    object \n",
      " 43  Electrical       877 non-null    object \n",
      " 44  1st Flr SF       878 non-null    int64  \n",
      " 45  2nd Flr SF       878 non-null    int64  \n",
      " 46  Low Qual Fin SF  878 non-null    int64  \n",
      " 47  Gr Liv Area      878 non-null    int64  \n",
      " 48  Bsmt Full Bath   878 non-null    int64  \n",
      " 49  Bsmt Half Bath   878 non-null    int64  \n",
      " 50  Full Bath        878 non-null    int64  \n",
      " 51  Half Bath        878 non-null    int64  \n",
      " 52  Bedroom AbvGr    878 non-null    int64  \n",
      " 53  Kitchen AbvGr    878 non-null    int64  \n",
      " 54  Kitchen Qual     878 non-null    object \n",
      " 55  TotRms AbvGrd    878 non-null    int64  \n",
      " 56  Functional       878 non-null    object \n",
      " 57  Fireplaces       878 non-null    int64  \n",
      " 58  Fireplace Qu     456 non-null    object \n",
      " 59  Garage Type      834 non-null    object \n",
      " 60  Garage Yr Blt    833 non-null    float64\n",
      " 61  Garage Finish    833 non-null    object \n",
      " 62  Garage Cars      878 non-null    int64  \n",
      " 63  Garage Area      878 non-null    int64  \n",
      " 64  Garage Qual      833 non-null    object \n",
      " 65  Garage Cond      833 non-null    object \n",
      " 66  Paved Drive      878 non-null    object \n",
      " 67  Wood Deck SF     878 non-null    int64  \n",
      " 68  Open Porch SF    878 non-null    int64  \n",
      " 69  Enclosed Porch   878 non-null    int64  \n",
      " 70  3Ssn Porch       878 non-null    int64  \n",
      " 71  Screen Porch     878 non-null    int64  \n",
      " 72  Pool Area        878 non-null    int64  \n",
      " 73  Pool QC          4 non-null      object \n",
      " 74  Fence            172 non-null    object \n",
      " 75  Misc Feature     41 non-null     object \n",
      " 76  Misc Val         878 non-null    int64  \n",
      " 77  Mo Sold          878 non-null    int64  \n",
      " 78  Yr Sold          878 non-null    int64  \n",
      " 79  Sale Type        878 non-null    object \n",
      "dtypes: float64(3), int64(35), object(42)\n",
      "memory usage: 548.9+ KB\n"
     ]
    }
   ],
   "source": [
    "# check missing values and data types\n",
    "ames_kaggle.info()"
   ]
  },
  {
   "cell_type": "markdown",
   "id": "ee4dcb32-9527-4d0c-900a-ea56e520683c",
   "metadata": {},
   "source": [
    "The dataset will have to be cleaned and some columns properly formatted to the right data type.<br>\n",
    "The cleanup workflow for this notebook will follow exactly the cleanup that was executed on the main dataset.  What this means is that all missing values will be filled with the values that were already selected for the main dataset, so the exploratory part is not needed, and thus will be skipped. "
   ]
  },
  {
   "cell_type": "markdown",
   "id": "5b77cded-6bf3-47f4-9e33-ae08ec370bd0",
   "metadata": {},
   "source": [
    "---\n",
    "**Column Names**<br>\n",
    "First, convert all column names to snake case.  Use function below to aid in this task."
   ]
  },
  {
   "cell_type": "code",
   "execution_count": 11,
   "id": "1bcf13c9-df1c-47f7-aa19-40c8b25d7d13",
   "metadata": {
    "tags": []
   },
   "outputs": [],
   "source": [
    "def fix_col_names(col_list):\n",
    "    '''\n",
    "    This function takes as argument a list of column names from a data frame.\n",
    "    It returns a dictionary where each key is the current column name and the \n",
    "    corresponding value is the very same column name in snake case.\n",
    "    \n",
    "    Parameters:\n",
    "    col_list: list of strings to pass in, these are the dataframe's column names.\n",
    "    \n",
    "    Return:\n",
    "    dictionary: organized dictionary with all new column names to pass into data \n",
    "    frame and facilitate column conversion.\n",
    "    '''\n",
    "    columns_dict = {}\n",
    "    \n",
    "    for col in col_list:\n",
    "        value = col.lower().replace(' ','_')\n",
    "        columns_dict[col] = value\n",
    "    \n",
    "    return columns_dict"
   ]
  },
  {
   "cell_type": "code",
   "execution_count": 12,
   "id": "870337a6-17a3-49c1-ad12-524fed362050",
   "metadata": {
    "tags": []
   },
   "outputs": [],
   "source": [
    "# get column names\n",
    "cols = fix_col_names(ames_kaggle.columns.tolist())"
   ]
  },
  {
   "cell_type": "code",
   "execution_count": 13,
   "id": "db804061-031c-4f9e-a1f3-db39698c8737",
   "metadata": {
    "tags": []
   },
   "outputs": [],
   "source": [
    "# change column names\n",
    "ames_kaggle.rename(columns = cols, inplace = True)"
   ]
  },
  {
   "cell_type": "code",
   "execution_count": 14,
   "id": "78ee0771-d25c-44cb-82f6-1b77024659e1",
   "metadata": {
    "tags": []
   },
   "outputs": [
    {
     "name": "stdout",
     "output_type": "stream",
     "text": [
      "<class 'pandas.core.frame.DataFrame'>\n",
      "RangeIndex: 878 entries, 0 to 877\n",
      "Data columns (total 80 columns):\n",
      " #   Column           Non-Null Count  Dtype  \n",
      "---  ------           --------------  -----  \n",
      " 0   id               878 non-null    int64  \n",
      " 1   pid              878 non-null    int64  \n",
      " 2   ms_subclass      878 non-null    int64  \n",
      " 3   ms_zoning        878 non-null    object \n",
      " 4   lot_frontage     718 non-null    float64\n",
      " 5   lot_area         878 non-null    int64  \n",
      " 6   street           878 non-null    object \n",
      " 7   alley            58 non-null     object \n",
      " 8   lot_shape        878 non-null    object \n",
      " 9   land_contour     878 non-null    object \n",
      " 10  utilities        878 non-null    object \n",
      " 11  lot_config       878 non-null    object \n",
      " 12  land_slope       878 non-null    object \n",
      " 13  neighborhood     878 non-null    object \n",
      " 14  condition_1      878 non-null    object \n",
      " 15  condition_2      878 non-null    object \n",
      " 16  bldg_type        878 non-null    object \n",
      " 17  house_style      878 non-null    object \n",
      " 18  overall_qual     878 non-null    int64  \n",
      " 19  overall_cond     878 non-null    int64  \n",
      " 20  year_built       878 non-null    int64  \n",
      " 21  year_remod/add   878 non-null    int64  \n",
      " 22  roof_style       878 non-null    object \n",
      " 23  roof_matl        878 non-null    object \n",
      " 24  exterior_1st     878 non-null    object \n",
      " 25  exterior_2nd     878 non-null    object \n",
      " 26  mas_vnr_type     343 non-null    object \n",
      " 27  mas_vnr_area     877 non-null    float64\n",
      " 28  exter_qual       878 non-null    object \n",
      " 29  exter_cond       878 non-null    object \n",
      " 30  foundation       878 non-null    object \n",
      " 31  bsmt_qual        853 non-null    object \n",
      " 32  bsmt_cond        853 non-null    object \n",
      " 33  bsmt_exposure    853 non-null    object \n",
      " 34  bsmtfin_type_1   853 non-null    object \n",
      " 35  bsmtfin_sf_1     878 non-null    int64  \n",
      " 36  bsmtfin_type_2   853 non-null    object \n",
      " 37  bsmtfin_sf_2     878 non-null    int64  \n",
      " 38  bsmt_unf_sf      878 non-null    int64  \n",
      " 39  total_bsmt_sf    878 non-null    int64  \n",
      " 40  heating          878 non-null    object \n",
      " 41  heating_qc       878 non-null    object \n",
      " 42  central_air      878 non-null    object \n",
      " 43  electrical       877 non-null    object \n",
      " 44  1st_flr_sf       878 non-null    int64  \n",
      " 45  2nd_flr_sf       878 non-null    int64  \n",
      " 46  low_qual_fin_sf  878 non-null    int64  \n",
      " 47  gr_liv_area      878 non-null    int64  \n",
      " 48  bsmt_full_bath   878 non-null    int64  \n",
      " 49  bsmt_half_bath   878 non-null    int64  \n",
      " 50  full_bath        878 non-null    int64  \n",
      " 51  half_bath        878 non-null    int64  \n",
      " 52  bedroom_abvgr    878 non-null    int64  \n",
      " 53  kitchen_abvgr    878 non-null    int64  \n",
      " 54  kitchen_qual     878 non-null    object \n",
      " 55  totrms_abvgrd    878 non-null    int64  \n",
      " 56  functional       878 non-null    object \n",
      " 57  fireplaces       878 non-null    int64  \n",
      " 58  fireplace_qu     456 non-null    object \n",
      " 59  garage_type      834 non-null    object \n",
      " 60  garage_yr_blt    833 non-null    float64\n",
      " 61  garage_finish    833 non-null    object \n",
      " 62  garage_cars      878 non-null    int64  \n",
      " 63  garage_area      878 non-null    int64  \n",
      " 64  garage_qual      833 non-null    object \n",
      " 65  garage_cond      833 non-null    object \n",
      " 66  paved_drive      878 non-null    object \n",
      " 67  wood_deck_sf     878 non-null    int64  \n",
      " 68  open_porch_sf    878 non-null    int64  \n",
      " 69  enclosed_porch   878 non-null    int64  \n",
      " 70  3ssn_porch       878 non-null    int64  \n",
      " 71  screen_porch     878 non-null    int64  \n",
      " 72  pool_area        878 non-null    int64  \n",
      " 73  pool_qc          4 non-null      object \n",
      " 74  fence            172 non-null    object \n",
      " 75  misc_feature     41 non-null     object \n",
      " 76  misc_val         878 non-null    int64  \n",
      " 77  mo_sold          878 non-null    int64  \n",
      " 78  yr_sold          878 non-null    int64  \n",
      " 79  sale_type        878 non-null    object \n",
      "dtypes: float64(3), int64(35), object(42)\n",
      "memory usage: 548.9+ KB\n"
     ]
    }
   ],
   "source": [
    "# confirm\n",
    "ames_kaggle.info()"
   ]
  },
  {
   "cell_type": "markdown",
   "id": "41536c7a-229c-4c0b-92ea-c12afb568326",
   "metadata": {},
   "source": [
    "---\n",
    "**Missing Values**<br>\n",
    "Column: `lot_frontage`<br>\n",
    "Fill in all `NaN` with the mean calculated for this column on the main dataset, which is 69.06."
   ]
  },
  {
   "cell_type": "code",
   "execution_count": 16,
   "id": "1498f6dd-5722-4ec3-b16a-8fe10a78b83d",
   "metadata": {
    "tags": []
   },
   "outputs": [],
   "source": [
    "# replace NaNs with mean value (69.06)\n",
    "indexes = ames_kaggle[ames_kaggle['lot_frontage'].isnull()].index.tolist()\n",
    "ames_kaggle.loc[indexes, 'lot_frontage'] = 69.06"
   ]
  },
  {
   "cell_type": "markdown",
   "id": "ca5829dc-fdfd-431b-9fc2-666068c692d8",
   "metadata": {},
   "source": [
    "---\n",
    "Column: `alley`<br>\n",
    "Fill all `NaN` values with `No_Alley`."
   ]
  },
  {
   "cell_type": "code",
   "execution_count": 18,
   "id": "8ef50aa6-d950-4a55-b99e-fe9984cc6000",
   "metadata": {
    "tags": []
   },
   "outputs": [],
   "source": [
    "# make the change\n",
    "indexes = ames_kaggle[ames_kaggle['alley'].isnull()].index.tolist()\n",
    "ames_kaggle.loc[indexes, 'alley'] = 'No_Alley'"
   ]
  },
  {
   "cell_type": "markdown",
   "id": "f7cd76c0-32ca-48e3-ac8c-058c510af739",
   "metadata": {},
   "source": [
    "---\n",
    "Column: `mas_vnr_type`<br>\n",
    "Fill in all `NaN` to `NoMsn`"
   ]
  },
  {
   "cell_type": "code",
   "execution_count": 20,
   "id": "7d3a932b-22a5-43e7-a18d-34f5c6bd654e",
   "metadata": {
    "tags": []
   },
   "outputs": [],
   "source": [
    "# make the change\n",
    "indexes = ames_kaggle[ames_kaggle['mas_vnr_type'].isnull()].index.tolist()\n",
    "ames_kaggle.loc[indexes, 'mas_vnr_type'] = 'NoMsn'"
   ]
  },
  {
   "cell_type": "markdown",
   "id": "23b65c8d-e8b9-4ac0-9552-219008f86cec",
   "metadata": {},
   "source": [
    "---\n",
    "Column: `mas_vnr_area`<br>\n",
    "Fill in all `NaN` to `0.0`"
   ]
  },
  {
   "cell_type": "code",
   "execution_count": 22,
   "id": "83401e35-a669-4918-8151-9a33a8ef38d3",
   "metadata": {
    "tags": []
   },
   "outputs": [],
   "source": [
    "# change all missing values on 'mas_vnr_area' to 0\n",
    "indexes = ames_kaggle[ames_kaggle['mas_vnr_area'].isnull()].index.tolist()\n",
    "ames_kaggle.loc[indexes, 'mas_vnr_area'] = 0.0"
   ]
  },
  {
   "cell_type": "markdown",
   "id": "13450b32-ad66-48ce-b6c4-8b3840fc1e8a",
   "metadata": {},
   "source": [
    "---\n",
    "Column: `bsmt_qual`<br>\n",
    "Change all `NaN` values to `Nb`."
   ]
  },
  {
   "cell_type": "code",
   "execution_count": 24,
   "id": "2d30e8f1-7c42-4bb1-ab9c-47ff72f38cd0",
   "metadata": {
    "tags": []
   },
   "outputs": [],
   "source": [
    "# make the change\n",
    "indexes = ames_kaggle[ames_kaggle['bsmt_qual'].isnull()].index.tolist()\n",
    "ames_kaggle.loc[indexes, 'bsmt_qual'] = 'Nb'"
   ]
  },
  {
   "cell_type": "markdown",
   "id": "524be473-4a3c-4981-a4fe-56b60e1b7298",
   "metadata": {},
   "source": [
    "---\n",
    "Column: `bsmt_cond` <br>\n",
    "Change all `NaN` values to `Nb`."
   ]
  },
  {
   "cell_type": "code",
   "execution_count": 26,
   "id": "373b1239-7a13-4ff1-ab02-c3350ee03af8",
   "metadata": {
    "tags": []
   },
   "outputs": [],
   "source": [
    "# make the change\n",
    "indexes = ames_kaggle[ames_kaggle['bsmt_cond'].isnull()].index.tolist()\n",
    "ames_kaggle.loc[indexes, 'bsmt_cond'] = 'Nb'"
   ]
  },
  {
   "cell_type": "markdown",
   "id": "01c9817a-81b2-4380-8545-1d16197a24d1",
   "metadata": {},
   "source": [
    "---\n",
    "Column: `bsmt_exposure` <br>\n",
    "Change all `NaN` values to `Nb`."
   ]
  },
  {
   "cell_type": "code",
   "execution_count": 28,
   "id": "87b63d4b-6d88-4d3b-aa9b-3e9a20b5140d",
   "metadata": {
    "tags": []
   },
   "outputs": [],
   "source": [
    "# make the change\n",
    "indexes = ames_kaggle[ames_kaggle['bsmt_exposure'].isnull()].index.tolist()\n",
    "ames_kaggle.loc[indexes, 'bsmt_exposure'] = 'Nb'"
   ]
  },
  {
   "cell_type": "markdown",
   "id": "00f9136d-44eb-4af2-aeeb-45e3112b5fa7",
   "metadata": {},
   "source": [
    "---\n",
    "Column: `bsmtfin_type_1`<br>\n",
    "Change all `NaN` values to `Nb`."
   ]
  },
  {
   "cell_type": "code",
   "execution_count": 30,
   "id": "667b68f2-f282-42e9-9cf9-58775c2d3dab",
   "metadata": {
    "tags": []
   },
   "outputs": [],
   "source": [
    "# make the change\n",
    "indexes = ames_kaggle[ames_kaggle['bsmtfin_type_1'].isnull()].index.tolist()\n",
    "ames_kaggle.loc[indexes, 'bsmtfin_type_1'] = 'Nb'"
   ]
  },
  {
   "cell_type": "markdown",
   "id": "a96daf3a-f558-450c-b80b-c6ab51c89209",
   "metadata": {},
   "source": [
    "---\n",
    "Column: `bsmtfin_type_2`<br>\n",
    "Change all `NaN` values to `Nb`."
   ]
  },
  {
   "cell_type": "code",
   "execution_count": 32,
   "id": "3057a491-5739-43e5-a884-9c5ff6c82a0b",
   "metadata": {
    "tags": []
   },
   "outputs": [],
   "source": [
    "# make the change\n",
    "indexes = ames_kaggle[ames_kaggle['bsmtfin_type_2'].isnull()].index.tolist()\n",
    "ames_kaggle.loc[indexes, 'bsmtfin_type_2'] = 'Nb'"
   ]
  },
  {
   "cell_type": "markdown",
   "id": "48683e8e-4064-4b3e-b379-f7ccf58dfa51",
   "metadata": {},
   "source": [
    "---\n",
    "Column: `electrical`<br>\n",
    "Change all `NaN` values to `SBrkr`."
   ]
  },
  {
   "cell_type": "code",
   "execution_count": 34,
   "id": "51bd0ade-4f9a-41d4-baf1-34c195503f42",
   "metadata": {
    "tags": []
   },
   "outputs": [],
   "source": [
    "# make the change\n",
    "indexes = ames_kaggle[ames_kaggle['electrical'].isnull()].index.tolist()\n",
    "ames_kaggle.loc[indexes, 'electrical'] = 'SBrkr'"
   ]
  },
  {
   "cell_type": "markdown",
   "id": "d172f47c-6d13-409f-b9ab-431e1dcfbd2b",
   "metadata": {},
   "source": [
    "---\n",
    "Column: `fireplace_qu`<br>\n",
    "Change all `NaN` values to `Nf`."
   ]
  },
  {
   "cell_type": "code",
   "execution_count": 36,
   "id": "227c7cee-8202-4f4e-9739-17968f421774",
   "metadata": {
    "tags": []
   },
   "outputs": [],
   "source": [
    "# make the change\n",
    "indexes = ames_kaggle[ames_kaggle['fireplace_qu'].isnull()].index.tolist()\n",
    "ames_kaggle.loc[indexes,'fireplace_qu'] = 'Nf'"
   ]
  },
  {
   "cell_type": "markdown",
   "id": "84d78bbb-fcfe-4026-8ee4-f55d7c9c0007",
   "metadata": {},
   "source": [
    "---\n",
    "Column: `garage_type`<br>\n",
    "Change all `NaN` values to `Ng`"
   ]
  },
  {
   "cell_type": "code",
   "execution_count": 38,
   "id": "3ac3d292-1cc3-497f-a433-919a44796e11",
   "metadata": {
    "tags": []
   },
   "outputs": [],
   "source": [
    "# make the changes\n",
    "indexes = ames_kaggle[ames_kaggle['garage_type'].isnull()].index.tolist()\n",
    "ames_kaggle.loc[indexes, 'garage_type'] = 'Ng'"
   ]
  },
  {
   "cell_type": "markdown",
   "id": "77e5d4a5-f5d7-42f6-8df9-cbd94721456d",
   "metadata": {},
   "source": [
    "---\n",
    "Column: `garage_yr_blt`<br>\n",
    "Change all `NaN` values to `9999`"
   ]
  },
  {
   "cell_type": "code",
   "execution_count": 40,
   "id": "2227ca6f-c809-492c-a4f1-7cf175edcf03",
   "metadata": {
    "tags": []
   },
   "outputs": [
    {
     "name": "stderr",
     "output_type": "stream",
     "text": [
      "C:\\Users\\fuego\\AppData\\Local\\Temp\\ipykernel_2392\\1367463544.py:3: FutureWarning: Setting an item of incompatible dtype is deprecated and will raise an error in a future version of pandas. Value '9999' has dtype incompatible with float64, please explicitly cast to a compatible dtype first.\n",
      "  ames_kaggle.loc[indexes, 'garage_yr_blt'] = '9999'\n"
     ]
    }
   ],
   "source": [
    "# make changes\n",
    "indexes = ames_kaggle[ames_kaggle['garage_yr_blt'].isnull()].index.tolist()\n",
    "ames_kaggle.loc[indexes, 'garage_yr_blt'] = '9999'"
   ]
  },
  {
   "cell_type": "markdown",
   "id": "d46e6a92-fb3c-49ab-a124-df6463acd1f8",
   "metadata": {},
   "source": [
    "---\n",
    "Column: `garage_finish`<br>\n",
    "Change all `NaN` values to `Ng`."
   ]
  },
  {
   "cell_type": "code",
   "execution_count": 42,
   "id": "6598e09c-a175-453c-9963-323f17b6a62d",
   "metadata": {
    "tags": []
   },
   "outputs": [],
   "source": [
    "# make changes\n",
    "indexes = ames_kaggle[ames_kaggle['garage_finish'].isnull()].index.tolist()\n",
    "ames_kaggle.loc[indexes, 'garage_finish'] = 'Ng'"
   ]
  },
  {
   "cell_type": "markdown",
   "id": "ddc1b0bb-66f9-4744-839e-5f8ec7e2ba58",
   "metadata": {},
   "source": [
    "---\n",
    "Column: `garage_qual`<br>\n",
    "Change all `NaN` values to `Ng`"
   ]
  },
  {
   "cell_type": "code",
   "execution_count": 44,
   "id": "3a7f74f3-73b0-4941-902a-f20ad3cb14e5",
   "metadata": {
    "tags": []
   },
   "outputs": [],
   "source": [
    "# make the changes\n",
    "indexes = ames_kaggle[ames_kaggle['garage_qual'].isnull()].index.tolist()\n",
    "ames_kaggle.loc[indexes,'garage_qual'] = 'Ng'"
   ]
  },
  {
   "cell_type": "markdown",
   "id": "3a5a4fd7-2753-47e1-b4b9-d4dedcd36db3",
   "metadata": {},
   "source": [
    "---\n",
    "Column: `garage_cond`<br>\n",
    "Change all `NaN` values to `Ng`"
   ]
  },
  {
   "cell_type": "code",
   "execution_count": 46,
   "id": "330a1cac-bb48-4aa5-83a1-121d5c60bc03",
   "metadata": {
    "tags": []
   },
   "outputs": [],
   "source": [
    "# make the changes\n",
    "indexes = ames_kaggle[ames_kaggle['garage_cond'].isnull()].index.tolist()\n",
    "ames_kaggle.loc[indexes,'garage_cond'] = 'Ng'"
   ]
  },
  {
   "cell_type": "markdown",
   "id": "8d280a06-596f-48ef-b572-da1dc379130f",
   "metadata": {},
   "source": [
    "---\n",
    "Column: `pool_qc`<br>\n",
    "Change all `NaN` values to `Np`."
   ]
  },
  {
   "cell_type": "code",
   "execution_count": 48,
   "id": "61cd05ad-a7ad-4d81-829a-c0e7bc87e138",
   "metadata": {
    "tags": []
   },
   "outputs": [],
   "source": [
    "# make the changes\n",
    "indexes = ames_kaggle[ames_kaggle['pool_qc'].isnull()].index.tolist()\n",
    "ames_kaggle.loc[indexes, 'pool_qc'] = 'Np'"
   ]
  },
  {
   "cell_type": "markdown",
   "id": "7d254b80-7071-4472-9db5-1efe9aa4bcc9",
   "metadata": {},
   "source": [
    "---\n",
    "Column: `fence`<br>\n",
    "Change all `NaN` values to `NoFe`"
   ]
  },
  {
   "cell_type": "code",
   "execution_count": 50,
   "id": "3a8e89bb-487a-40c3-9a9c-866a48f3f2a7",
   "metadata": {
    "tags": []
   },
   "outputs": [],
   "source": [
    "# make the changes\n",
    "indexes = ames_kaggle[ames_kaggle['fence'].isnull()].index.tolist()\n",
    "ames_kaggle.loc[indexes, 'fence'] = 'NoFe'"
   ]
  },
  {
   "cell_type": "markdown",
   "id": "87016e33-b956-49e6-bb9e-945bbf60115f",
   "metadata": {},
   "source": [
    "---\n",
    "Column: `misc_feature`<br>\n",
    "Change all `NaN` values to `NoFea`."
   ]
  },
  {
   "cell_type": "code",
   "execution_count": 52,
   "id": "f83cd1f0-96e7-46d5-aa51-c18ce3c252b7",
   "metadata": {
    "tags": []
   },
   "outputs": [],
   "source": [
    "# make the changes\n",
    "indexes = ames_kaggle[ames_kaggle['misc_feature'].isnull()].index.tolist()\n",
    "ames_kaggle.loc[indexes, 'misc_feature'] = 'NoFea'"
   ]
  },
  {
   "cell_type": "markdown",
   "id": "3a26dcef-a1e4-462a-8c85-556be99985e3",
   "metadata": {},
   "source": [
    "All rows successfully cleaned."
   ]
  },
  {
   "cell_type": "markdown",
   "id": "c8512245-7cd5-40ac-b9dd-6a681012aa91",
   "metadata": {},
   "source": [
    "---\n",
    "**Data Types**<br>\n",
    "Make sure every column's data type is consistent with the kind of data it holds.<br>\n",
    "Use dictionary from `01_Intro_and_Cleaning` notebook."
   ]
  },
  {
   "cell_type": "code",
   "execution_count": 55,
   "id": "f99a53a7-7b20-4623-b21f-2137232f4ada",
   "metadata": {
    "tags": []
   },
   "outputs": [],
   "source": [
    "# data type dictionary\n",
    "\n",
    "dtypes_dict = {'id': 'O',\n",
    " 'pid': 'O',\n",
    " 'ms_subclass': 'int64',\n",
    " 'ms_zoning': 'O',\n",
    " 'lot_frontage': 'float64',\n",
    " 'lot_area': 'int64',\n",
    " 'street': 'O',\n",
    " 'alley': 'O',\n",
    " 'lot_shape': 'O',\n",
    " 'land_contour': 'O',\n",
    " 'utilities': 'O',\n",
    " 'lot_config': 'O',\n",
    " 'land_slope': 'O',\n",
    " 'neighborhood': 'O',\n",
    " 'condition_1': 'O',\n",
    " 'condition_2': 'O',\n",
    " 'bldg_type': 'O',\n",
    " 'house_style': 'O',\n",
    " 'overall_qual': 'int64',\n",
    " 'overall_cond': 'int64',\n",
    " 'year_built': 'int64',\n",
    " 'year_remod/add': 'int64',\n",
    " 'roof_style': 'O',\n",
    " 'roof_matl': 'O',\n",
    " 'exterior_1st': 'O',\n",
    " 'exterior_2nd': 'O',\n",
    " 'mas_vnr_type': 'O',\n",
    " 'mas_vnr_area': 'float64',\n",
    " 'exter_qual': 'O',\n",
    " 'exter_cond': 'O',\n",
    " 'foundation': 'O',\n",
    " 'bsmt_qual': 'O',\n",
    " 'bsmt_cond': 'O',\n",
    " 'bsmt_exposure': 'O',\n",
    " 'bsmtfin_type_1': 'O',\n",
    " 'bsmtfin_sf_1': 'float64',\n",
    " 'bsmtfin_type_2': 'O',\n",
    " 'bsmtfin_sf_2': 'float64',\n",
    " 'bsmt_unf_sf': 'float64',\n",
    " 'total_bsmt_sf': 'float64',\n",
    " 'heating': 'O',\n",
    " 'heating_qc': 'O',\n",
    " 'central_air': 'O',\n",
    " 'electrical': 'O',\n",
    " '1st_flr_sf': 'int64',\n",
    " '2nd_flr_sf': 'int64',\n",
    " 'low_qual_fin_sf': 'int64',\n",
    " 'gr_liv_area': 'int64',\n",
    " 'bsmt_full_bath': 'int64',\n",
    " 'bsmt_half_bath': 'int64',\n",
    " 'full_bath': 'int64',\n",
    " 'half_bath': 'int64',\n",
    " 'bedroom_abvgr': 'int64',\n",
    " 'kitchen_abvgr': 'int64',\n",
    " 'kitchen_qual': 'O',\n",
    " 'totrms_abvgrd': 'int64',\n",
    " 'functional': 'O',\n",
    " 'fireplaces': 'int64',\n",
    " 'fireplace_qu': 'O',\n",
    " 'garage_type': 'O',\n",
    " 'garage_yr_blt': 'int64',\n",
    " 'garage_finish': 'O',\n",
    " 'garage_cars': 'int64',\n",
    " 'garage_area': 'float64',\n",
    " 'garage_qual': 'O',\n",
    " 'garage_cond': 'O',\n",
    " 'paved_drive': 'O',\n",
    " 'wood_deck_sf': 'float64',\n",
    " 'open_porch_sf': 'float64',\n",
    " 'enclosed_porch': 'float64',\n",
    " '3ssn_porch': 'float64',\n",
    " 'screen_porch': 'float64',\n",
    " 'pool_area': 'float64',\n",
    " 'pool_qc': 'O',\n",
    " 'fence': 'O',\n",
    " 'misc_feature': 'O',\n",
    " 'misc_val': 'float64',\n",
    " 'mo_sold': 'int64',\n",
    " 'yr_sold': 'int64',\n",
    " 'sale_type': 'O'}"
   ]
  },
  {
   "cell_type": "code",
   "execution_count": 56,
   "id": "c2aec6fe-31a0-40e5-9c8e-a9c6e2a1485a",
   "metadata": {
    "tags": []
   },
   "outputs": [],
   "source": [
    "# cast all columns to correct data type\n",
    "ames_kaggle = ames_kaggle.astype(dtypes_dict)"
   ]
  },
  {
   "cell_type": "markdown",
   "id": "119de005-18bc-40d8-ac1d-3d608dfc5fec",
   "metadata": {},
   "source": [
    "All columns should be cast to correct data type.  There are no missing values.  Data cleanup is complete.<br>\n",
    "Save clean dataset."
   ]
  },
  {
   "cell_type": "code",
   "execution_count": 58,
   "id": "e132e1cb-5ed1-4a26-8ac9-5673069db8fc",
   "metadata": {
    "tags": []
   },
   "outputs": [],
   "source": [
    "# set up relative path\n",
    "output_path = '../datasets/clean_data/kaggle_clean.csv'"
   ]
  },
  {
   "cell_type": "code",
   "execution_count": 59,
   "id": "6e1b4446-9cca-498c-b771-6b9e171d7343",
   "metadata": {
    "tags": []
   },
   "outputs": [],
   "source": [
    "# save to folder\n",
    "ames_kaggle.to_csv(output_path, index = False)"
   ]
  },
  {
   "cell_type": "markdown",
   "id": "bd06506b-3de2-4e2a-9216-db495402fc3d",
   "metadata": {
    "tags": []
   },
   "source": [
    "Cleaned file successfully saved."
   ]
  },
  {
   "cell_type": "markdown",
   "id": "d7bec990-e30a-4aa7-8869-1b2c185d250c",
   "metadata": {},
   "source": [
    "---\n",
    "\n",
    "### **Model Preprocessing and Fitting**\n",
    "**Model 1**"
   ]
  },
  {
   "cell_type": "code",
   "execution_count": 62,
   "id": "f6416cf5-d452-4aef-8346-b03cda4adebb",
   "metadata": {
    "tags": []
   },
   "outputs": [],
   "source": [
    "# import data for model\n",
    "\n",
    "file_path = '../datasets/clean_data/ames_clean.csv'\n",
    "ames = pd.read_csv(file_path)"
   ]
  },
  {
   "cell_type": "code",
   "execution_count": 63,
   "id": "237b8dc2-dae6-4337-a22d-26bc9dd8944d",
   "metadata": {
    "tags": []
   },
   "outputs": [
    {
     "name": "stdout",
     "output_type": "stream",
     "text": [
      "(2051, 81)\n"
     ]
    },
    {
     "data": {
      "text/html": [
       "<div>\n",
       "<style scoped>\n",
       "    .dataframe tbody tr th:only-of-type {\n",
       "        vertical-align: middle;\n",
       "    }\n",
       "\n",
       "    .dataframe tbody tr th {\n",
       "        vertical-align: top;\n",
       "    }\n",
       "\n",
       "    .dataframe thead th {\n",
       "        text-align: right;\n",
       "    }\n",
       "</style>\n",
       "<table border=\"1\" class=\"dataframe\">\n",
       "  <thead>\n",
       "    <tr style=\"text-align: right;\">\n",
       "      <th></th>\n",
       "      <th>id</th>\n",
       "      <th>pid</th>\n",
       "      <th>ms_subclass</th>\n",
       "      <th>ms_zoning</th>\n",
       "      <th>lot_frontage</th>\n",
       "      <th>lot_area</th>\n",
       "      <th>street</th>\n",
       "      <th>alley</th>\n",
       "      <th>lot_shape</th>\n",
       "      <th>land_contour</th>\n",
       "      <th>...</th>\n",
       "      <th>screen_porch</th>\n",
       "      <th>pool_area</th>\n",
       "      <th>pool_qc</th>\n",
       "      <th>fence</th>\n",
       "      <th>misc_feature</th>\n",
       "      <th>misc_val</th>\n",
       "      <th>mo_sold</th>\n",
       "      <th>yr_sold</th>\n",
       "      <th>sale_type</th>\n",
       "      <th>saleprice</th>\n",
       "    </tr>\n",
       "  </thead>\n",
       "  <tbody>\n",
       "    <tr>\n",
       "      <th>0</th>\n",
       "      <td>109</td>\n",
       "      <td>533352170</td>\n",
       "      <td>60</td>\n",
       "      <td>RL</td>\n",
       "      <td>69.06</td>\n",
       "      <td>13517</td>\n",
       "      <td>Pave</td>\n",
       "      <td>No_Alley</td>\n",
       "      <td>IR1</td>\n",
       "      <td>Lvl</td>\n",
       "      <td>...</td>\n",
       "      <td>0.0</td>\n",
       "      <td>0.0</td>\n",
       "      <td>Np</td>\n",
       "      <td>NoFe</td>\n",
       "      <td>NoFea</td>\n",
       "      <td>0.0</td>\n",
       "      <td>3</td>\n",
       "      <td>2010</td>\n",
       "      <td>WD</td>\n",
       "      <td>130500.0</td>\n",
       "    </tr>\n",
       "    <tr>\n",
       "      <th>1</th>\n",
       "      <td>544</td>\n",
       "      <td>531379050</td>\n",
       "      <td>60</td>\n",
       "      <td>RL</td>\n",
       "      <td>43.00</td>\n",
       "      <td>11492</td>\n",
       "      <td>Pave</td>\n",
       "      <td>No_Alley</td>\n",
       "      <td>IR1</td>\n",
       "      <td>Lvl</td>\n",
       "      <td>...</td>\n",
       "      <td>0.0</td>\n",
       "      <td>0.0</td>\n",
       "      <td>Np</td>\n",
       "      <td>NoFe</td>\n",
       "      <td>NoFea</td>\n",
       "      <td>0.0</td>\n",
       "      <td>4</td>\n",
       "      <td>2009</td>\n",
       "      <td>WD</td>\n",
       "      <td>220000.0</td>\n",
       "    </tr>\n",
       "    <tr>\n",
       "      <th>2</th>\n",
       "      <td>153</td>\n",
       "      <td>535304180</td>\n",
       "      <td>20</td>\n",
       "      <td>RL</td>\n",
       "      <td>68.00</td>\n",
       "      <td>7922</td>\n",
       "      <td>Pave</td>\n",
       "      <td>No_Alley</td>\n",
       "      <td>Reg</td>\n",
       "      <td>Lvl</td>\n",
       "      <td>...</td>\n",
       "      <td>0.0</td>\n",
       "      <td>0.0</td>\n",
       "      <td>Np</td>\n",
       "      <td>NoFe</td>\n",
       "      <td>NoFea</td>\n",
       "      <td>0.0</td>\n",
       "      <td>1</td>\n",
       "      <td>2010</td>\n",
       "      <td>WD</td>\n",
       "      <td>109000.0</td>\n",
       "    </tr>\n",
       "    <tr>\n",
       "      <th>3</th>\n",
       "      <td>318</td>\n",
       "      <td>916386060</td>\n",
       "      <td>60</td>\n",
       "      <td>RL</td>\n",
       "      <td>73.00</td>\n",
       "      <td>9802</td>\n",
       "      <td>Pave</td>\n",
       "      <td>No_Alley</td>\n",
       "      <td>Reg</td>\n",
       "      <td>Lvl</td>\n",
       "      <td>...</td>\n",
       "      <td>0.0</td>\n",
       "      <td>0.0</td>\n",
       "      <td>Np</td>\n",
       "      <td>NoFe</td>\n",
       "      <td>NoFea</td>\n",
       "      <td>0.0</td>\n",
       "      <td>4</td>\n",
       "      <td>2010</td>\n",
       "      <td>WD</td>\n",
       "      <td>174000.0</td>\n",
       "    </tr>\n",
       "    <tr>\n",
       "      <th>4</th>\n",
       "      <td>255</td>\n",
       "      <td>906425045</td>\n",
       "      <td>50</td>\n",
       "      <td>RL</td>\n",
       "      <td>82.00</td>\n",
       "      <td>14235</td>\n",
       "      <td>Pave</td>\n",
       "      <td>No_Alley</td>\n",
       "      <td>IR1</td>\n",
       "      <td>Lvl</td>\n",
       "      <td>...</td>\n",
       "      <td>0.0</td>\n",
       "      <td>0.0</td>\n",
       "      <td>Np</td>\n",
       "      <td>NoFe</td>\n",
       "      <td>NoFea</td>\n",
       "      <td>0.0</td>\n",
       "      <td>3</td>\n",
       "      <td>2010</td>\n",
       "      <td>WD</td>\n",
       "      <td>138500.0</td>\n",
       "    </tr>\n",
       "  </tbody>\n",
       "</table>\n",
       "<p>5 rows × 81 columns</p>\n",
       "</div>"
      ],
      "text/plain": [
       "    id        pid  ms_subclass ms_zoning  lot_frontage  lot_area street  \\\n",
       "0  109  533352170           60        RL         69.06     13517   Pave   \n",
       "1  544  531379050           60        RL         43.00     11492   Pave   \n",
       "2  153  535304180           20        RL         68.00      7922   Pave   \n",
       "3  318  916386060           60        RL         73.00      9802   Pave   \n",
       "4  255  906425045           50        RL         82.00     14235   Pave   \n",
       "\n",
       "      alley lot_shape land_contour  ... screen_porch pool_area pool_qc fence  \\\n",
       "0  No_Alley       IR1          Lvl  ...          0.0       0.0      Np  NoFe   \n",
       "1  No_Alley       IR1          Lvl  ...          0.0       0.0      Np  NoFe   \n",
       "2  No_Alley       Reg          Lvl  ...          0.0       0.0      Np  NoFe   \n",
       "3  No_Alley       Reg          Lvl  ...          0.0       0.0      Np  NoFe   \n",
       "4  No_Alley       IR1          Lvl  ...          0.0       0.0      Np  NoFe   \n",
       "\n",
       "  misc_feature misc_val mo_sold yr_sold  sale_type  saleprice  \n",
       "0        NoFea      0.0       3    2010        WD    130500.0  \n",
       "1        NoFea      0.0       4    2009        WD    220000.0  \n",
       "2        NoFea      0.0       1    2010        WD    109000.0  \n",
       "3        NoFea      0.0       4    2010        WD    174000.0  \n",
       "4        NoFea      0.0       3    2010        WD    138500.0  \n",
       "\n",
       "[5 rows x 81 columns]"
      ]
     },
     "execution_count": 63,
     "metadata": {},
     "output_type": "execute_result"
    }
   ],
   "source": [
    "# confirm dimensions and a few rows\n",
    "print(ames.shape)\n",
    "ames.head()"
   ]
  },
  {
   "cell_type": "code",
   "execution_count": 64,
   "id": "361cdf21-d209-4c8a-b367-e4db401a85cb",
   "metadata": {
    "tags": []
   },
   "outputs": [
    {
     "data": {
      "text/plain": [
       "0    81\n",
       "Name: count, dtype: int64"
      ]
     },
     "execution_count": 64,
     "metadata": {},
     "output_type": "execute_result"
    }
   ],
   "source": [
    "# there should be no nulls\n",
    "ames.isnull().sum().value_counts()"
   ]
  },
  {
   "cell_type": "markdown",
   "id": "a2650753-f6db-4864-b579-13f010c55bc3",
   "metadata": {},
   "source": [
    "---\n",
    "### **Create Features Matrix and Target Vector**"
   ]
  },
  {
   "cell_type": "markdown",
   "id": "4f4fc6d2-4847-40b5-ad56-85a81bf4a2dc",
   "metadata": {},
   "source": [
    "**Predictive Matrix**"
   ]
  },
  {
   "cell_type": "code",
   "execution_count": 67,
   "id": "9b23a173-ab1f-4d8a-b2cd-db38e2225f87",
   "metadata": {
    "tags": []
   },
   "outputs": [
    {
     "data": {
      "text/plain": [
       "(2051, 4)"
      ]
     },
     "execution_count": 67,
     "metadata": {},
     "output_type": "execute_result"
    }
   ],
   "source": [
    "features = ['1st_flr_sf', 'lot_area', '2nd_flr_sf', 'total_bsmt_sf']\n",
    "X = ames[features]\n",
    "\n",
    "X.shape"
   ]
  },
  {
   "cell_type": "markdown",
   "id": "bf6b4fb7-eae2-427f-86a4-d0cf952712e4",
   "metadata": {},
   "source": [
    "**Target Vector**\n",
    "___________"
   ]
  },
  {
   "cell_type": "code",
   "execution_count": 69,
   "id": "ddf99168-1a48-4674-9ede-52ecb221fdaa",
   "metadata": {
    "tags": []
   },
   "outputs": [],
   "source": [
    "y = ames['saleprice']"
   ]
  },
  {
   "cell_type": "markdown",
   "id": "af3d24cd-d4bd-4185-8524-e06dbc281fe9",
   "metadata": {},
   "source": [
    "**Split Train and Test Data**\n",
    "___________"
   ]
  },
  {
   "cell_type": "code",
   "execution_count": 71,
   "id": "aecbe460-1b25-4847-8446-509338772138",
   "metadata": {
    "tags": []
   },
   "outputs": [],
   "source": [
    "# use 80/20 ratio\n",
    "X_train, X_test, y_train, y_test = train_test_split(X, y, train_size = 0.8)"
   ]
  },
  {
   "cell_type": "code",
   "execution_count": 72,
   "id": "84521cdb-ed47-47fc-b6b1-38d5d395c38d",
   "metadata": {
    "tags": []
   },
   "outputs": [
    {
     "data": {
      "text/plain": [
       "((1640, 4), (411, 4))"
      ]
     },
     "execution_count": 72,
     "metadata": {},
     "output_type": "execute_result"
    }
   ],
   "source": [
    "# confirm split/shape\n",
    "X_train.shape, X_test.shape"
   ]
  },
  {
   "cell_type": "markdown",
   "id": "1ede19ec-7667-4d72-a42b-890be440dcd4",
   "metadata": {},
   "source": [
    "**Instantiate and Fit Linear Regression Model**\n",
    "__________"
   ]
  },
  {
   "cell_type": "code",
   "execution_count": 74,
   "id": "ca54842c-6215-4858-bad2-4e6d7b0b9e33",
   "metadata": {
    "tags": []
   },
   "outputs": [],
   "source": [
    "# instance\n",
    "model = LinearRegression()"
   ]
  },
  {
   "cell_type": "code",
   "execution_count": 75,
   "id": "bddd07b2-4e2c-4e10-8de8-ada35c72f449",
   "metadata": {
    "tags": []
   },
   "outputs": [
    {
     "data": {
      "text/html": [
       "<style>#sk-container-id-1 {\n",
       "  /* Definition of color scheme common for light and dark mode */\n",
       "  --sklearn-color-text: black;\n",
       "  --sklearn-color-line: gray;\n",
       "  /* Definition of color scheme for unfitted estimators */\n",
       "  --sklearn-color-unfitted-level-0: #fff5e6;\n",
       "  --sklearn-color-unfitted-level-1: #f6e4d2;\n",
       "  --sklearn-color-unfitted-level-2: #ffe0b3;\n",
       "  --sklearn-color-unfitted-level-3: chocolate;\n",
       "  /* Definition of color scheme for fitted estimators */\n",
       "  --sklearn-color-fitted-level-0: #f0f8ff;\n",
       "  --sklearn-color-fitted-level-1: #d4ebff;\n",
       "  --sklearn-color-fitted-level-2: #b3dbfd;\n",
       "  --sklearn-color-fitted-level-3: cornflowerblue;\n",
       "\n",
       "  /* Specific color for light theme */\n",
       "  --sklearn-color-text-on-default-background: var(--sg-text-color, var(--theme-code-foreground, var(--jp-content-font-color1, black)));\n",
       "  --sklearn-color-background: var(--sg-background-color, var(--theme-background, var(--jp-layout-color0, white)));\n",
       "  --sklearn-color-border-box: var(--sg-text-color, var(--theme-code-foreground, var(--jp-content-font-color1, black)));\n",
       "  --sklearn-color-icon: #696969;\n",
       "\n",
       "  @media (prefers-color-scheme: dark) {\n",
       "    /* Redefinition of color scheme for dark theme */\n",
       "    --sklearn-color-text-on-default-background: var(--sg-text-color, var(--theme-code-foreground, var(--jp-content-font-color1, white)));\n",
       "    --sklearn-color-background: var(--sg-background-color, var(--theme-background, var(--jp-layout-color0, #111)));\n",
       "    --sklearn-color-border-box: var(--sg-text-color, var(--theme-code-foreground, var(--jp-content-font-color1, white)));\n",
       "    --sklearn-color-icon: #878787;\n",
       "  }\n",
       "}\n",
       "\n",
       "#sk-container-id-1 {\n",
       "  color: var(--sklearn-color-text);\n",
       "}\n",
       "\n",
       "#sk-container-id-1 pre {\n",
       "  padding: 0;\n",
       "}\n",
       "\n",
       "#sk-container-id-1 input.sk-hidden--visually {\n",
       "  border: 0;\n",
       "  clip: rect(1px 1px 1px 1px);\n",
       "  clip: rect(1px, 1px, 1px, 1px);\n",
       "  height: 1px;\n",
       "  margin: -1px;\n",
       "  overflow: hidden;\n",
       "  padding: 0;\n",
       "  position: absolute;\n",
       "  width: 1px;\n",
       "}\n",
       "\n",
       "#sk-container-id-1 div.sk-dashed-wrapped {\n",
       "  border: 1px dashed var(--sklearn-color-line);\n",
       "  margin: 0 0.4em 0.5em 0.4em;\n",
       "  box-sizing: border-box;\n",
       "  padding-bottom: 0.4em;\n",
       "  background-color: var(--sklearn-color-background);\n",
       "}\n",
       "\n",
       "#sk-container-id-1 div.sk-container {\n",
       "  /* jupyter's `normalize.less` sets `[hidden] { display: none; }`\n",
       "     but bootstrap.min.css set `[hidden] { display: none !important; }`\n",
       "     so we also need the `!important` here to be able to override the\n",
       "     default hidden behavior on the sphinx rendered scikit-learn.org.\n",
       "     See: https://github.com/scikit-learn/scikit-learn/issues/21755 */\n",
       "  display: inline-block !important;\n",
       "  position: relative;\n",
       "}\n",
       "\n",
       "#sk-container-id-1 div.sk-text-repr-fallback {\n",
       "  display: none;\n",
       "}\n",
       "\n",
       "div.sk-parallel-item,\n",
       "div.sk-serial,\n",
       "div.sk-item {\n",
       "  /* draw centered vertical line to link estimators */\n",
       "  background-image: linear-gradient(var(--sklearn-color-text-on-default-background), var(--sklearn-color-text-on-default-background));\n",
       "  background-size: 2px 100%;\n",
       "  background-repeat: no-repeat;\n",
       "  background-position: center center;\n",
       "}\n",
       "\n",
       "/* Parallel-specific style estimator block */\n",
       "\n",
       "#sk-container-id-1 div.sk-parallel-item::after {\n",
       "  content: \"\";\n",
       "  width: 100%;\n",
       "  border-bottom: 2px solid var(--sklearn-color-text-on-default-background);\n",
       "  flex-grow: 1;\n",
       "}\n",
       "\n",
       "#sk-container-id-1 div.sk-parallel {\n",
       "  display: flex;\n",
       "  align-items: stretch;\n",
       "  justify-content: center;\n",
       "  background-color: var(--sklearn-color-background);\n",
       "  position: relative;\n",
       "}\n",
       "\n",
       "#sk-container-id-1 div.sk-parallel-item {\n",
       "  display: flex;\n",
       "  flex-direction: column;\n",
       "}\n",
       "\n",
       "#sk-container-id-1 div.sk-parallel-item:first-child::after {\n",
       "  align-self: flex-end;\n",
       "  width: 50%;\n",
       "}\n",
       "\n",
       "#sk-container-id-1 div.sk-parallel-item:last-child::after {\n",
       "  align-self: flex-start;\n",
       "  width: 50%;\n",
       "}\n",
       "\n",
       "#sk-container-id-1 div.sk-parallel-item:only-child::after {\n",
       "  width: 0;\n",
       "}\n",
       "\n",
       "/* Serial-specific style estimator block */\n",
       "\n",
       "#sk-container-id-1 div.sk-serial {\n",
       "  display: flex;\n",
       "  flex-direction: column;\n",
       "  align-items: center;\n",
       "  background-color: var(--sklearn-color-background);\n",
       "  padding-right: 1em;\n",
       "  padding-left: 1em;\n",
       "}\n",
       "\n",
       "\n",
       "/* Toggleable style: style used for estimator/Pipeline/ColumnTransformer box that is\n",
       "clickable and can be expanded/collapsed.\n",
       "- Pipeline and ColumnTransformer use this feature and define the default style\n",
       "- Estimators will overwrite some part of the style using the `sk-estimator` class\n",
       "*/\n",
       "\n",
       "/* Pipeline and ColumnTransformer style (default) */\n",
       "\n",
       "#sk-container-id-1 div.sk-toggleable {\n",
       "  /* Default theme specific background. It is overwritten whether we have a\n",
       "  specific estimator or a Pipeline/ColumnTransformer */\n",
       "  background-color: var(--sklearn-color-background);\n",
       "}\n",
       "\n",
       "/* Toggleable label */\n",
       "#sk-container-id-1 label.sk-toggleable__label {\n",
       "  cursor: pointer;\n",
       "  display: block;\n",
       "  width: 100%;\n",
       "  margin-bottom: 0;\n",
       "  padding: 0.5em;\n",
       "  box-sizing: border-box;\n",
       "  text-align: center;\n",
       "}\n",
       "\n",
       "#sk-container-id-1 label.sk-toggleable__label-arrow:before {\n",
       "  /* Arrow on the left of the label */\n",
       "  content: \"▸\";\n",
       "  float: left;\n",
       "  margin-right: 0.25em;\n",
       "  color: var(--sklearn-color-icon);\n",
       "}\n",
       "\n",
       "#sk-container-id-1 label.sk-toggleable__label-arrow:hover:before {\n",
       "  color: var(--sklearn-color-text);\n",
       "}\n",
       "\n",
       "/* Toggleable content - dropdown */\n",
       "\n",
       "#sk-container-id-1 div.sk-toggleable__content {\n",
       "  max-height: 0;\n",
       "  max-width: 0;\n",
       "  overflow: hidden;\n",
       "  text-align: left;\n",
       "  /* unfitted */\n",
       "  background-color: var(--sklearn-color-unfitted-level-0);\n",
       "}\n",
       "\n",
       "#sk-container-id-1 div.sk-toggleable__content.fitted {\n",
       "  /* fitted */\n",
       "  background-color: var(--sklearn-color-fitted-level-0);\n",
       "}\n",
       "\n",
       "#sk-container-id-1 div.sk-toggleable__content pre {\n",
       "  margin: 0.2em;\n",
       "  border-radius: 0.25em;\n",
       "  color: var(--sklearn-color-text);\n",
       "  /* unfitted */\n",
       "  background-color: var(--sklearn-color-unfitted-level-0);\n",
       "}\n",
       "\n",
       "#sk-container-id-1 div.sk-toggleable__content.fitted pre {\n",
       "  /* unfitted */\n",
       "  background-color: var(--sklearn-color-fitted-level-0);\n",
       "}\n",
       "\n",
       "#sk-container-id-1 input.sk-toggleable__control:checked~div.sk-toggleable__content {\n",
       "  /* Expand drop-down */\n",
       "  max-height: 200px;\n",
       "  max-width: 100%;\n",
       "  overflow: auto;\n",
       "}\n",
       "\n",
       "#sk-container-id-1 input.sk-toggleable__control:checked~label.sk-toggleable__label-arrow:before {\n",
       "  content: \"▾\";\n",
       "}\n",
       "\n",
       "/* Pipeline/ColumnTransformer-specific style */\n",
       "\n",
       "#sk-container-id-1 div.sk-label input.sk-toggleable__control:checked~label.sk-toggleable__label {\n",
       "  color: var(--sklearn-color-text);\n",
       "  background-color: var(--sklearn-color-unfitted-level-2);\n",
       "}\n",
       "\n",
       "#sk-container-id-1 div.sk-label.fitted input.sk-toggleable__control:checked~label.sk-toggleable__label {\n",
       "  background-color: var(--sklearn-color-fitted-level-2);\n",
       "}\n",
       "\n",
       "/* Estimator-specific style */\n",
       "\n",
       "/* Colorize estimator box */\n",
       "#sk-container-id-1 div.sk-estimator input.sk-toggleable__control:checked~label.sk-toggleable__label {\n",
       "  /* unfitted */\n",
       "  background-color: var(--sklearn-color-unfitted-level-2);\n",
       "}\n",
       "\n",
       "#sk-container-id-1 div.sk-estimator.fitted input.sk-toggleable__control:checked~label.sk-toggleable__label {\n",
       "  /* fitted */\n",
       "  background-color: var(--sklearn-color-fitted-level-2);\n",
       "}\n",
       "\n",
       "#sk-container-id-1 div.sk-label label.sk-toggleable__label,\n",
       "#sk-container-id-1 div.sk-label label {\n",
       "  /* The background is the default theme color */\n",
       "  color: var(--sklearn-color-text-on-default-background);\n",
       "}\n",
       "\n",
       "/* On hover, darken the color of the background */\n",
       "#sk-container-id-1 div.sk-label:hover label.sk-toggleable__label {\n",
       "  color: var(--sklearn-color-text);\n",
       "  background-color: var(--sklearn-color-unfitted-level-2);\n",
       "}\n",
       "\n",
       "/* Label box, darken color on hover, fitted */\n",
       "#sk-container-id-1 div.sk-label.fitted:hover label.sk-toggleable__label.fitted {\n",
       "  color: var(--sklearn-color-text);\n",
       "  background-color: var(--sklearn-color-fitted-level-2);\n",
       "}\n",
       "\n",
       "/* Estimator label */\n",
       "\n",
       "#sk-container-id-1 div.sk-label label {\n",
       "  font-family: monospace;\n",
       "  font-weight: bold;\n",
       "  display: inline-block;\n",
       "  line-height: 1.2em;\n",
       "}\n",
       "\n",
       "#sk-container-id-1 div.sk-label-container {\n",
       "  text-align: center;\n",
       "}\n",
       "\n",
       "/* Estimator-specific */\n",
       "#sk-container-id-1 div.sk-estimator {\n",
       "  font-family: monospace;\n",
       "  border: 1px dotted var(--sklearn-color-border-box);\n",
       "  border-radius: 0.25em;\n",
       "  box-sizing: border-box;\n",
       "  margin-bottom: 0.5em;\n",
       "  /* unfitted */\n",
       "  background-color: var(--sklearn-color-unfitted-level-0);\n",
       "}\n",
       "\n",
       "#sk-container-id-1 div.sk-estimator.fitted {\n",
       "  /* fitted */\n",
       "  background-color: var(--sklearn-color-fitted-level-0);\n",
       "}\n",
       "\n",
       "/* on hover */\n",
       "#sk-container-id-1 div.sk-estimator:hover {\n",
       "  /* unfitted */\n",
       "  background-color: var(--sklearn-color-unfitted-level-2);\n",
       "}\n",
       "\n",
       "#sk-container-id-1 div.sk-estimator.fitted:hover {\n",
       "  /* fitted */\n",
       "  background-color: var(--sklearn-color-fitted-level-2);\n",
       "}\n",
       "\n",
       "/* Specification for estimator info (e.g. \"i\" and \"?\") */\n",
       "\n",
       "/* Common style for \"i\" and \"?\" */\n",
       "\n",
       ".sk-estimator-doc-link,\n",
       "a:link.sk-estimator-doc-link,\n",
       "a:visited.sk-estimator-doc-link {\n",
       "  float: right;\n",
       "  font-size: smaller;\n",
       "  line-height: 1em;\n",
       "  font-family: monospace;\n",
       "  background-color: var(--sklearn-color-background);\n",
       "  border-radius: 1em;\n",
       "  height: 1em;\n",
       "  width: 1em;\n",
       "  text-decoration: none !important;\n",
       "  margin-left: 1ex;\n",
       "  /* unfitted */\n",
       "  border: var(--sklearn-color-unfitted-level-1) 1pt solid;\n",
       "  color: var(--sklearn-color-unfitted-level-1);\n",
       "}\n",
       "\n",
       ".sk-estimator-doc-link.fitted,\n",
       "a:link.sk-estimator-doc-link.fitted,\n",
       "a:visited.sk-estimator-doc-link.fitted {\n",
       "  /* fitted */\n",
       "  border: var(--sklearn-color-fitted-level-1) 1pt solid;\n",
       "  color: var(--sklearn-color-fitted-level-1);\n",
       "}\n",
       "\n",
       "/* On hover */\n",
       "div.sk-estimator:hover .sk-estimator-doc-link:hover,\n",
       ".sk-estimator-doc-link:hover,\n",
       "div.sk-label-container:hover .sk-estimator-doc-link:hover,\n",
       ".sk-estimator-doc-link:hover {\n",
       "  /* unfitted */\n",
       "  background-color: var(--sklearn-color-unfitted-level-3);\n",
       "  color: var(--sklearn-color-background);\n",
       "  text-decoration: none;\n",
       "}\n",
       "\n",
       "div.sk-estimator.fitted:hover .sk-estimator-doc-link.fitted:hover,\n",
       ".sk-estimator-doc-link.fitted:hover,\n",
       "div.sk-label-container:hover .sk-estimator-doc-link.fitted:hover,\n",
       ".sk-estimator-doc-link.fitted:hover {\n",
       "  /* fitted */\n",
       "  background-color: var(--sklearn-color-fitted-level-3);\n",
       "  color: var(--sklearn-color-background);\n",
       "  text-decoration: none;\n",
       "}\n",
       "\n",
       "/* Span, style for the box shown on hovering the info icon */\n",
       ".sk-estimator-doc-link span {\n",
       "  display: none;\n",
       "  z-index: 9999;\n",
       "  position: relative;\n",
       "  font-weight: normal;\n",
       "  right: .2ex;\n",
       "  padding: .5ex;\n",
       "  margin: .5ex;\n",
       "  width: min-content;\n",
       "  min-width: 20ex;\n",
       "  max-width: 50ex;\n",
       "  color: var(--sklearn-color-text);\n",
       "  box-shadow: 2pt 2pt 4pt #999;\n",
       "  /* unfitted */\n",
       "  background: var(--sklearn-color-unfitted-level-0);\n",
       "  border: .5pt solid var(--sklearn-color-unfitted-level-3);\n",
       "}\n",
       "\n",
       ".sk-estimator-doc-link.fitted span {\n",
       "  /* fitted */\n",
       "  background: var(--sklearn-color-fitted-level-0);\n",
       "  border: var(--sklearn-color-fitted-level-3);\n",
       "}\n",
       "\n",
       ".sk-estimator-doc-link:hover span {\n",
       "  display: block;\n",
       "}\n",
       "\n",
       "/* \"?\"-specific style due to the `<a>` HTML tag */\n",
       "\n",
       "#sk-container-id-1 a.estimator_doc_link {\n",
       "  float: right;\n",
       "  font-size: 1rem;\n",
       "  line-height: 1em;\n",
       "  font-family: monospace;\n",
       "  background-color: var(--sklearn-color-background);\n",
       "  border-radius: 1rem;\n",
       "  height: 1rem;\n",
       "  width: 1rem;\n",
       "  text-decoration: none;\n",
       "  /* unfitted */\n",
       "  color: var(--sklearn-color-unfitted-level-1);\n",
       "  border: var(--sklearn-color-unfitted-level-1) 1pt solid;\n",
       "}\n",
       "\n",
       "#sk-container-id-1 a.estimator_doc_link.fitted {\n",
       "  /* fitted */\n",
       "  border: var(--sklearn-color-fitted-level-1) 1pt solid;\n",
       "  color: var(--sklearn-color-fitted-level-1);\n",
       "}\n",
       "\n",
       "/* On hover */\n",
       "#sk-container-id-1 a.estimator_doc_link:hover {\n",
       "  /* unfitted */\n",
       "  background-color: var(--sklearn-color-unfitted-level-3);\n",
       "  color: var(--sklearn-color-background);\n",
       "  text-decoration: none;\n",
       "}\n",
       "\n",
       "#sk-container-id-1 a.estimator_doc_link.fitted:hover {\n",
       "  /* fitted */\n",
       "  background-color: var(--sklearn-color-fitted-level-3);\n",
       "}\n",
       "</style><div id=\"sk-container-id-1\" class=\"sk-top-container\"><div class=\"sk-text-repr-fallback\"><pre>LinearRegression()</pre><b>In a Jupyter environment, please rerun this cell to show the HTML representation or trust the notebook. <br />On GitHub, the HTML representation is unable to render, please try loading this page with nbviewer.org.</b></div><div class=\"sk-container\" hidden><div class=\"sk-item\"><div class=\"sk-estimator fitted sk-toggleable\"><input class=\"sk-toggleable__control sk-hidden--visually\" id=\"sk-estimator-id-1\" type=\"checkbox\" checked><label for=\"sk-estimator-id-1\" class=\"sk-toggleable__label fitted sk-toggleable__label-arrow fitted\">&nbsp;&nbsp;LinearRegression<a class=\"sk-estimator-doc-link fitted\" rel=\"noreferrer\" target=\"_blank\" href=\"https://scikit-learn.org/1.5/modules/generated/sklearn.linear_model.LinearRegression.html\">?<span>Documentation for LinearRegression</span></a><span class=\"sk-estimator-doc-link fitted\">i<span>Fitted</span></span></label><div class=\"sk-toggleable__content fitted\"><pre>LinearRegression()</pre></div> </div></div></div></div>"
      ],
      "text/plain": [
       "LinearRegression()"
      ]
     },
     "execution_count": 75,
     "metadata": {},
     "output_type": "execute_result"
    }
   ],
   "source": [
    "# fit model\n",
    "model.fit(X_train, y_train)"
   ]
  },
  {
   "cell_type": "markdown",
   "id": "197cbf40-a92a-43b5-b99d-2425ae67c7c5",
   "metadata": {},
   "source": [
    "**Model Evaluation**\n",
    "________"
   ]
  },
  {
   "cell_type": "code",
   "execution_count": 77,
   "id": "770a5b58-32b4-4971-ac87-a3769fed00a4",
   "metadata": {
    "tags": []
   },
   "outputs": [
    {
     "data": {
      "text/plain": [
       "0.5866307416159786"
      ]
     },
     "execution_count": 77,
     "metadata": {},
     "output_type": "execute_result"
    }
   ],
   "source": [
    "# train set R2 score\n",
    "model.score(X_train, y_train)"
   ]
  },
  {
   "cell_type": "code",
   "execution_count": 78,
   "id": "88a8c3cf-ea1d-47a3-9622-b4dbab3f80c3",
   "metadata": {
    "tags": []
   },
   "outputs": [
    {
     "data": {
      "text/plain": [
       "0.7045016473842562"
      ]
     },
     "execution_count": 78,
     "metadata": {},
     "output_type": "execute_result"
    }
   ],
   "source": [
    "# test set R2 score\n",
    "model.score(X_test, y_test)"
   ]
  },
  {
   "cell_type": "markdown",
   "id": "c3fd85e9-5a42-4172-b68e-adbfa928bb63",
   "metadata": {},
   "source": [
    "**Cross Validation**\n",
    "______________"
   ]
  },
  {
   "cell_type": "code",
   "execution_count": 80,
   "id": "5213478b-d5b7-4b12-b6bb-538708489682",
   "metadata": {
    "tags": []
   },
   "outputs": [
    {
     "data": {
      "text/plain": [
       "array([0.66465059, 0.45755496, 0.40435073, 0.63257152, 0.66166261])"
      ]
     },
     "execution_count": 80,
     "metadata": {},
     "output_type": "execute_result"
    }
   ],
   "source": [
    "# keep 5-fold default\n",
    "cross_val_score(model, X_train, y_train)"
   ]
  },
  {
   "cell_type": "code",
   "execution_count": 81,
   "id": "e0f63a03-f1a2-45b2-bb56-17b7ccfd4bd6",
   "metadata": {
    "tags": []
   },
   "outputs": [
    {
     "data": {
      "text/plain": [
       "0.5641580837905866"
      ]
     },
     "execution_count": 81,
     "metadata": {},
     "output_type": "execute_result"
    }
   ],
   "source": [
    "# average\n",
    "cross_val_score(model, X_train, y_train).mean()"
   ]
  },
  {
   "cell_type": "markdown",
   "id": "1db574dd-192e-42b7-b641-e4b1af0cbedf",
   "metadata": {},
   "source": [
    "**Predictions and Evaluation**\n",
    "_______________"
   ]
  },
  {
   "cell_type": "code",
   "execution_count": 83,
   "id": "dc0c62ba-4dcd-46c2-81d6-36802dd8b412",
   "metadata": {
    "tags": []
   },
   "outputs": [],
   "source": [
    "# run predictions\n",
    "\n",
    "predictions = model.predict(X_test)"
   ]
  },
  {
   "cell_type": "code",
   "execution_count": 84,
   "id": "7d6ec403-3c2b-4ae3-8fee-8d5dadd4406f",
   "metadata": {
    "tags": []
   },
   "outputs": [
    {
     "data": {
      "text/plain": [
       "array([240206.47872417, 217607.15411074, 118236.42730115, 292659.86340829,\n",
       "       171456.64862876, 161706.09796668, 123348.44552165, 188934.37966126,\n",
       "       115787.99738578, 193207.89179161])"
      ]
     },
     "execution_count": 84,
     "metadata": {},
     "output_type": "execute_result"
    }
   ],
   "source": [
    "# check first 10\n",
    "predictions[:10]"
   ]
  },
  {
   "cell_type": "code",
   "execution_count": 85,
   "id": "1dca6fa1-02c5-4e81-b627-1fa543c26f00",
   "metadata": {
    "tags": []
   },
   "outputs": [
    {
     "data": {
      "text/plain": [
       "46556.09"
      ]
     },
     "execution_count": 85,
     "metadata": {},
     "output_type": "execute_result"
    }
   ],
   "source": [
    "# check root mean squared error\n",
    "rmse = round(metrics.root_mean_squared_error(y_test, predictions), 2)\n",
    "rmse"
   ]
  },
  {
   "cell_type": "markdown",
   "id": "3f7373a4-fed5-4503-9dc1-3b7464f82bb7",
   "metadata": {},
   "source": [
    "### **Use Model on Kaggle Data**\n",
    "_______"
   ]
  },
  {
   "cell_type": "markdown",
   "id": "3f2f0087-cb60-4f2d-b2c3-1f48549f6a01",
   "metadata": {},
   "source": [
    "**Predictive Matrix**\n",
    "_________"
   ]
  },
  {
   "cell_type": "code",
   "execution_count": 88,
   "id": "28d4e243-d0b4-4df1-bfde-ddbfe00a78e6",
   "metadata": {
    "tags": []
   },
   "outputs": [
    {
     "data": {
      "text/plain": [
       "(878, 4)"
      ]
     },
     "execution_count": 88,
     "metadata": {},
     "output_type": "execute_result"
    }
   ],
   "source": [
    "features = ['1st_flr_sf', 'lot_area', '2nd_flr_sf', 'total_bsmt_sf']\n",
    "X_kaggle = ames_kaggle[features]\n",
    "\n",
    "X_kaggle.shape"
   ]
  },
  {
   "cell_type": "markdown",
   "id": "1edf9b0b-5146-4306-b753-9f966c016fba",
   "metadata": {},
   "source": [
    "**Kaggle Predictions**\n",
    "_________"
   ]
  },
  {
   "cell_type": "code",
   "execution_count": 90,
   "id": "d7c83807-d96e-4b10-bebd-807944789d9f",
   "metadata": {
    "tags": []
   },
   "outputs": [],
   "source": [
    "kaggle_preds = model.predict(X_kaggle)"
   ]
  },
  {
   "cell_type": "code",
   "execution_count": 91,
   "id": "49e83eb4-a8e6-4cd1-a6ee-de1cd8828aa8",
   "metadata": {
    "tags": []
   },
   "outputs": [
    {
     "data": {
      "text/plain": [
       "array([212574.68003786, 277459.88742829, 154892.0072958 , 131061.58677769,\n",
       "       193543.60074691, 113182.12882931, 135670.02649762, 175071.29994738,\n",
       "       180441.30971157, 171699.69013257])"
      ]
     },
     "execution_count": 91,
     "metadata": {},
     "output_type": "execute_result"
    }
   ],
   "source": [
    "# check first 10\n",
    "kaggle_preds[:10]"
   ]
  },
  {
   "cell_type": "markdown",
   "id": "17189e3f-b7a5-44d3-8235-1c35384452f9",
   "metadata": {},
   "source": [
    "**Review Kaggle Predictions and Build Submission File**\n",
    "_________"
   ]
  },
  {
   "cell_type": "code",
   "execution_count": 93,
   "id": "474173ff-5381-4651-8b79-2b585e6d48fb",
   "metadata": {
    "tags": []
   },
   "outputs": [
    {
     "data": {
      "text/plain": [
       "(878, 2)"
      ]
     },
     "execution_count": 93,
     "metadata": {},
     "output_type": "execute_result"
    }
   ],
   "source": [
    "# convert to DF\n",
    "\n",
    "ulloa_kaggle_model1 =pd.DataFrame({\n",
    "    'Id': ames_kaggle['id'],\n",
    "    'SalePrice': kaggle_preds\n",
    "})\n",
    "\n",
    "# check dimension\n",
    "ulloa_kaggle_model1.shape"
   ]
  },
  {
   "cell_type": "code",
   "execution_count": 94,
   "id": "891fc4c5-01d6-4007-b617-7b004bc6e55b",
   "metadata": {
    "tags": []
   },
   "outputs": [
    {
     "data": {
      "text/html": [
       "<div>\n",
       "<style scoped>\n",
       "    .dataframe tbody tr th:only-of-type {\n",
       "        vertical-align: middle;\n",
       "    }\n",
       "\n",
       "    .dataframe tbody tr th {\n",
       "        vertical-align: top;\n",
       "    }\n",
       "\n",
       "    .dataframe thead th {\n",
       "        text-align: right;\n",
       "    }\n",
       "</style>\n",
       "<table border=\"1\" class=\"dataframe\">\n",
       "  <thead>\n",
       "    <tr style=\"text-align: right;\">\n",
       "      <th></th>\n",
       "      <th>Id</th>\n",
       "      <th>SalePrice</th>\n",
       "    </tr>\n",
       "  </thead>\n",
       "  <tbody>\n",
       "    <tr>\n",
       "      <th>0</th>\n",
       "      <td>2658</td>\n",
       "      <td>212574.680038</td>\n",
       "    </tr>\n",
       "    <tr>\n",
       "      <th>1</th>\n",
       "      <td>2718</td>\n",
       "      <td>277459.887428</td>\n",
       "    </tr>\n",
       "    <tr>\n",
       "      <th>2</th>\n",
       "      <td>2414</td>\n",
       "      <td>154892.007296</td>\n",
       "    </tr>\n",
       "    <tr>\n",
       "      <th>3</th>\n",
       "      <td>1989</td>\n",
       "      <td>131061.586778</td>\n",
       "    </tr>\n",
       "    <tr>\n",
       "      <th>4</th>\n",
       "      <td>625</td>\n",
       "      <td>193543.600747</td>\n",
       "    </tr>\n",
       "    <tr>\n",
       "      <th>5</th>\n",
       "      <td>333</td>\n",
       "      <td>113182.128829</td>\n",
       "    </tr>\n",
       "    <tr>\n",
       "      <th>6</th>\n",
       "      <td>1327</td>\n",
       "      <td>135670.026498</td>\n",
       "    </tr>\n",
       "    <tr>\n",
       "      <th>7</th>\n",
       "      <td>858</td>\n",
       "      <td>175071.299947</td>\n",
       "    </tr>\n",
       "    <tr>\n",
       "      <th>8</th>\n",
       "      <td>95</td>\n",
       "      <td>180441.309712</td>\n",
       "    </tr>\n",
       "    <tr>\n",
       "      <th>9</th>\n",
       "      <td>1568</td>\n",
       "      <td>171699.690133</td>\n",
       "    </tr>\n",
       "  </tbody>\n",
       "</table>\n",
       "</div>"
      ],
      "text/plain": [
       "     Id      SalePrice\n",
       "0  2658  212574.680038\n",
       "1  2718  277459.887428\n",
       "2  2414  154892.007296\n",
       "3  1989  131061.586778\n",
       "4   625  193543.600747\n",
       "5   333  113182.128829\n",
       "6  1327  135670.026498\n",
       "7   858  175071.299947\n",
       "8    95  180441.309712\n",
       "9  1568  171699.690133"
      ]
     },
     "execution_count": 94,
     "metadata": {},
     "output_type": "execute_result"
    }
   ],
   "source": [
    "# check first 10 rows\n",
    "ulloa_kaggle_model1.head(10)"
   ]
  },
  {
   "cell_type": "code",
   "execution_count": 95,
   "id": "2c3f326a-e5bb-4270-8c0d-a761e3d49b9c",
   "metadata": {
    "tags": []
   },
   "outputs": [
    {
     "data": {
      "text/html": [
       "<div>\n",
       "<style scoped>\n",
       "    .dataframe tbody tr th:only-of-type {\n",
       "        vertical-align: middle;\n",
       "    }\n",
       "\n",
       "    .dataframe tbody tr th {\n",
       "        vertical-align: top;\n",
       "    }\n",
       "\n",
       "    .dataframe thead th {\n",
       "        text-align: right;\n",
       "    }\n",
       "</style>\n",
       "<table border=\"1\" class=\"dataframe\">\n",
       "  <thead>\n",
       "    <tr style=\"text-align: right;\">\n",
       "      <th></th>\n",
       "      <th>Id</th>\n",
       "      <th>SalePrice</th>\n",
       "    </tr>\n",
       "  </thead>\n",
       "  <tbody>\n",
       "    <tr>\n",
       "      <th>868</th>\n",
       "      <td>337</td>\n",
       "      <td>266690.220321</td>\n",
       "    </tr>\n",
       "    <tr>\n",
       "      <th>869</th>\n",
       "      <td>2765</td>\n",
       "      <td>226590.419955</td>\n",
       "    </tr>\n",
       "    <tr>\n",
       "      <th>870</th>\n",
       "      <td>1746</td>\n",
       "      <td>214011.302016</td>\n",
       "    </tr>\n",
       "    <tr>\n",
       "      <th>871</th>\n",
       "      <td>368</td>\n",
       "      <td>289265.647966</td>\n",
       "    </tr>\n",
       "    <tr>\n",
       "      <th>872</th>\n",
       "      <td>2806</td>\n",
       "      <td>192882.472741</td>\n",
       "    </tr>\n",
       "    <tr>\n",
       "      <th>873</th>\n",
       "      <td>1662</td>\n",
       "      <td>212815.989064</td>\n",
       "    </tr>\n",
       "    <tr>\n",
       "      <th>874</th>\n",
       "      <td>1234</td>\n",
       "      <td>223912.836055</td>\n",
       "    </tr>\n",
       "    <tr>\n",
       "      <th>875</th>\n",
       "      <td>1373</td>\n",
       "      <td>150778.856922</td>\n",
       "    </tr>\n",
       "    <tr>\n",
       "      <th>876</th>\n",
       "      <td>1672</td>\n",
       "      <td>115886.408624</td>\n",
       "    </tr>\n",
       "    <tr>\n",
       "      <th>877</th>\n",
       "      <td>1939</td>\n",
       "      <td>124630.147514</td>\n",
       "    </tr>\n",
       "  </tbody>\n",
       "</table>\n",
       "</div>"
      ],
      "text/plain": [
       "       Id      SalePrice\n",
       "868   337  266690.220321\n",
       "869  2765  226590.419955\n",
       "870  1746  214011.302016\n",
       "871   368  289265.647966\n",
       "872  2806  192882.472741\n",
       "873  1662  212815.989064\n",
       "874  1234  223912.836055\n",
       "875  1373  150778.856922\n",
       "876  1672  115886.408624\n",
       "877  1939  124630.147514"
      ]
     },
     "execution_count": 95,
     "metadata": {},
     "output_type": "execute_result"
    }
   ],
   "source": [
    "# check last 10 rows\n",
    "ulloa_kaggle_model1.tail(10)"
   ]
  },
  {
   "cell_type": "code",
   "execution_count": 96,
   "id": "d6c086af-9562-4ee8-afde-f94092b01c1e",
   "metadata": {
    "tags": []
   },
   "outputs": [
    {
     "data": {
      "text/html": [
       "<div>\n",
       "<style scoped>\n",
       "    .dataframe tbody tr th:only-of-type {\n",
       "        vertical-align: middle;\n",
       "    }\n",
       "\n",
       "    .dataframe tbody tr th {\n",
       "        vertical-align: top;\n",
       "    }\n",
       "\n",
       "    .dataframe thead th {\n",
       "        text-align: right;\n",
       "    }\n",
       "</style>\n",
       "<table border=\"1\" class=\"dataframe\">\n",
       "  <thead>\n",
       "    <tr style=\"text-align: right;\">\n",
       "      <th></th>\n",
       "      <th>SalePrice</th>\n",
       "    </tr>\n",
       "  </thead>\n",
       "  <tbody>\n",
       "    <tr>\n",
       "      <th>count</th>\n",
       "      <td>878.000000</td>\n",
       "    </tr>\n",
       "    <tr>\n",
       "      <th>mean</th>\n",
       "      <td>178957.685514</td>\n",
       "    </tr>\n",
       "    <tr>\n",
       "      <th>std</th>\n",
       "      <td>57810.763280</td>\n",
       "    </tr>\n",
       "    <tr>\n",
       "      <th>min</th>\n",
       "      <td>48787.853193</td>\n",
       "    </tr>\n",
       "    <tr>\n",
       "      <th>25%</th>\n",
       "      <td>136680.622494</td>\n",
       "    </tr>\n",
       "    <tr>\n",
       "      <th>50%</th>\n",
       "      <td>170673.120386</td>\n",
       "    </tr>\n",
       "    <tr>\n",
       "      <th>75%</th>\n",
       "      <td>212934.111453</td>\n",
       "    </tr>\n",
       "    <tr>\n",
       "      <th>max</th>\n",
       "      <td>511015.778447</td>\n",
       "    </tr>\n",
       "  </tbody>\n",
       "</table>\n",
       "</div>"
      ],
      "text/plain": [
       "           SalePrice\n",
       "count     878.000000\n",
       "mean   178957.685514\n",
       "std     57810.763280\n",
       "min     48787.853193\n",
       "25%    136680.622494\n",
       "50%    170673.120386\n",
       "75%    212934.111453\n",
       "max    511015.778447"
      ]
     },
     "execution_count": 96,
     "metadata": {},
     "output_type": "execute_result"
    }
   ],
   "source": [
    "# check summary stats\n",
    "ulloa_kaggle_model1.describe()"
   ]
  },
  {
   "cell_type": "code",
   "execution_count": 158,
   "id": "c50d59d3-85dd-40f0-a336-54cbba577fef",
   "metadata": {
    "tags": []
   },
   "outputs": [
    {
     "data": {
      "image/png": "[encoded data removed]",
      "text/plain": [
       "<Figure size 640x480 with 1 Axes>"
      ]
     },
     "metadata": {},
     "output_type": "display_data"
    }
   ],
   "source": [
    "# check distribution\n",
    "\n",
    "plt.hist(ulloa_kaggle_model1['SalePrice'], bins = 25,color = '#003366', edgecolor = '#ffffff')\n",
    "plt.axvline(x = 179721.711355, color = '#ff0000', linestyle = '--', label = 'Mean')\n",
    "plt.title('Distribution of Predicted Home Prices: Model 1')\n",
    "plt.xlabel('Dollars')\n",
    "plt.legend()\n",
    "plt.savefig('../images/model_1_hist.png')"
   ]
  },
  {
   "cell_type": "code",
   "execution_count": 98,
   "id": "010f7509-1ac9-4cfe-aea9-d7a6ad033df5",
   "metadata": {
    "tags": []
   },
   "outputs": [],
   "source": [
    "# save kaggle predictions file\n",
    "\n",
    "output_path = '../datasets/clean_data/ulloa_kaggle_1.csv'\n",
    "ulloa_kaggle_model1.to_csv(output_path, index = False)"
   ]
  },
  {
   "cell_type": "markdown",
   "id": "7bd3a14d-fd56-466c-bfe3-68973f7cd44d",
   "metadata": {},
   "source": [
    "---\n",
    "\n",
    "### **Model Preprocessing and Fitting**\n",
    "**Model 2**"
   ]
  },
  {
   "cell_type": "code",
   "execution_count": 167,
   "id": "c02b2a67-04cf-4e5c-8ce9-3179d8bd8825",
   "metadata": {
    "tags": []
   },
   "outputs": [
    {
     "data": {
      "text/plain": [
       "(2051, 83)"
      ]
     },
     "execution_count": 167,
     "metadata": {},
     "output_type": "execute_result"
    }
   ],
   "source": [
    "# retrieve ames2 dataset\n",
    "\n",
    "file_path = '../datasets/clean_data/ames_clean2.csv'\n",
    "ames2 = pd.read_csv(file_path)\n",
    "\n",
    "# confirm shape\n",
    "ames2.shape"
   ]
  },
  {
   "cell_type": "markdown",
   "id": "b493a955-fbc7-4105-a206-78983db35d9d",
   "metadata": {},
   "source": [
    "----\n",
    "### **Create Features Matrix and Target Vector**\n",
    "**Predictive Matrix**"
   ]
  },
  {
   "cell_type": "code",
   "execution_count": 280,
   "id": "cf63ecee-9b68-468f-b00d-20fe978783c8",
   "metadata": {
    "tags": []
   },
   "outputs": [
    {
     "data": {
      "text/plain": [
       "(2051, 3)"
      ]
     },
     "execution_count": 280,
     "metadata": {},
     "output_type": "execute_result"
    }
   ],
   "source": [
    "features = ['indoor_area', 'garage_area', 'outdoor_area']\n",
    "X = ames2[features]\n",
    "\n",
    "# check dimensions\n",
    "X.shape"
   ]
  },
  {
   "cell_type": "markdown",
   "id": "5fa7903c-6a35-41a7-bb84-d458be3d3665",
   "metadata": {},
   "source": [
    "---\n",
    "**Target Vector**"
   ]
  },
  {
   "cell_type": "code",
   "execution_count": 283,
   "id": "a17581d8-be72-414f-9136-e8dcb0e2956e",
   "metadata": {
    "tags": []
   },
   "outputs": [
    {
     "data": {
      "text/plain": [
       "(2051,)"
      ]
     },
     "execution_count": 283,
     "metadata": {},
     "output_type": "execute_result"
    }
   ],
   "source": [
    "y = ames2['saleprice']\n",
    "y.shape"
   ]
  },
  {
   "cell_type": "markdown",
   "id": "38cd041d-25da-43c9-8009-db13c7c02ba8",
   "metadata": {},
   "source": [
    "---\n",
    "**Split Train and Test Data**"
   ]
  },
  {
   "cell_type": "code",
   "execution_count": 286,
   "id": "18f5d9f0-39b7-4d63-9efe-fdbfad0aab28",
   "metadata": {
    "tags": []
   },
   "outputs": [],
   "source": [
    "# use 80/20 split\n",
    "X_train, X_test, y_train, y_test = train_test_split(X, y, train_size = 0.8)"
   ]
  },
  {
   "cell_type": "code",
   "execution_count": 288,
   "id": "6c730fd8-a514-4a67-a3ba-890d01ce4322",
   "metadata": {
    "tags": []
   },
   "outputs": [
    {
     "data": {
      "text/plain": [
       "((1640, 3), (411, 3))"
      ]
     },
     "execution_count": 288,
     "metadata": {},
     "output_type": "execute_result"
    }
   ],
   "source": [
    "# confirm shapes/dimensions\n",
    "\n",
    "X_train.shape, X_test.shape"
   ]
  },
  {
   "cell_type": "markdown",
   "id": "a89b91e2-1759-4c0b-a3bc-a0d3daea2f35",
   "metadata": {},
   "source": [
    "---\n",
    "**Instantiate and Fit Model**"
   ]
  },
  {
   "cell_type": "code",
   "execution_count": 291,
   "id": "9f576c4c-093c-4a70-996e-ebca2856101f",
   "metadata": {
    "tags": []
   },
   "outputs": [],
   "source": [
    "# instantiate\n",
    "model2 = LinearRegression()"
   ]
  },
  {
   "cell_type": "code",
   "execution_count": 293,
   "id": "358afe68-765f-460e-b2b7-3bbc06992490",
   "metadata": {
    "tags": []
   },
   "outputs": [
    {
     "data": {
      "text/html": [
       "<style>#sk-container-id-5 {\n",
       "  /* Definition of color scheme common for light and dark mode */\n",
       "  --sklearn-color-text: black;\n",
       "  --sklearn-color-line: gray;\n",
       "  /* Definition of color scheme for unfitted estimators */\n",
       "  --sklearn-color-unfitted-level-0: #fff5e6;\n",
       "  --sklearn-color-unfitted-level-1: #f6e4d2;\n",
       "  --sklearn-color-unfitted-level-2: #ffe0b3;\n",
       "  --sklearn-color-unfitted-level-3: chocolate;\n",
       "  /* Definition of color scheme for fitted estimators */\n",
       "  --sklearn-color-fitted-level-0: #f0f8ff;\n",
       "  --sklearn-color-fitted-level-1: #d4ebff;\n",
       "  --sklearn-color-fitted-level-2: #b3dbfd;\n",
       "  --sklearn-color-fitted-level-3: cornflowerblue;\n",
       "\n",
       "  /* Specific color for light theme */\n",
       "  --sklearn-color-text-on-default-background: var(--sg-text-color, var(--theme-code-foreground, var(--jp-content-font-color1, black)));\n",
       "  --sklearn-color-background: var(--sg-background-color, var(--theme-background, var(--jp-layout-color0, white)));\n",
       "  --sklearn-color-border-box: var(--sg-text-color, var(--theme-code-foreground, var(--jp-content-font-color1, black)));\n",
       "  --sklearn-color-icon: #696969;\n",
       "\n",
       "  @media (prefers-color-scheme: dark) {\n",
       "    /* Redefinition of color scheme for dark theme */\n",
       "    --sklearn-color-text-on-default-background: var(--sg-text-color, var(--theme-code-foreground, var(--jp-content-font-color1, white)));\n",
       "    --sklearn-color-background: var(--sg-background-color, var(--theme-background, var(--jp-layout-color0, #111)));\n",
       "    --sklearn-color-border-box: var(--sg-text-color, var(--theme-code-foreground, var(--jp-content-font-color1, white)));\n",
       "    --sklearn-color-icon: #878787;\n",
       "  }\n",
       "}\n",
       "\n",
       "#sk-container-id-5 {\n",
       "  color: var(--sklearn-color-text);\n",
       "}\n",
       "\n",
       "#sk-container-id-5 pre {\n",
       "  padding: 0;\n",
       "}\n",
       "\n",
       "#sk-container-id-5 input.sk-hidden--visually {\n",
       "  border: 0;\n",
       "  clip: rect(1px 1px 1px 1px);\n",
       "  clip: rect(1px, 1px, 1px, 1px);\n",
       "  height: 1px;\n",
       "  margin: -1px;\n",
       "  overflow: hidden;\n",
       "  padding: 0;\n",
       "  position: absolute;\n",
       "  width: 1px;\n",
       "}\n",
       "\n",
       "#sk-container-id-5 div.sk-dashed-wrapped {\n",
       "  border: 1px dashed var(--sklearn-color-line);\n",
       "  margin: 0 0.4em 0.5em 0.4em;\n",
       "  box-sizing: border-box;\n",
       "  padding-bottom: 0.4em;\n",
       "  background-color: var(--sklearn-color-background);\n",
       "}\n",
       "\n",
       "#sk-container-id-5 div.sk-container {\n",
       "  /* jupyter's `normalize.less` sets `[hidden] { display: none; }`\n",
       "     but bootstrap.min.css set `[hidden] { display: none !important; }`\n",
       "     so we also need the `!important` here to be able to override the\n",
       "     default hidden behavior on the sphinx rendered scikit-learn.org.\n",
       "     See: https://github.com/scikit-learn/scikit-learn/issues/21755 */\n",
       "  display: inline-block !important;\n",
       "  position: relative;\n",
       "}\n",
       "\n",
       "#sk-container-id-5 div.sk-text-repr-fallback {\n",
       "  display: none;\n",
       "}\n",
       "\n",
       "div.sk-parallel-item,\n",
       "div.sk-serial,\n",
       "div.sk-item {\n",
       "  /* draw centered vertical line to link estimators */\n",
       "  background-image: linear-gradient(var(--sklearn-color-text-on-default-background), var(--sklearn-color-text-on-default-background));\n",
       "  background-size: 2px 100%;\n",
       "  background-repeat: no-repeat;\n",
       "  background-position: center center;\n",
       "}\n",
       "\n",
       "/* Parallel-specific style estimator block */\n",
       "\n",
       "#sk-container-id-5 div.sk-parallel-item::after {\n",
       "  content: \"\";\n",
       "  width: 100%;\n",
       "  border-bottom: 2px solid var(--sklearn-color-text-on-default-background);\n",
       "  flex-grow: 1;\n",
       "}\n",
       "\n",
       "#sk-container-id-5 div.sk-parallel {\n",
       "  display: flex;\n",
       "  align-items: stretch;\n",
       "  justify-content: center;\n",
       "  background-color: var(--sklearn-color-background);\n",
       "  position: relative;\n",
       "}\n",
       "\n",
       "#sk-container-id-5 div.sk-parallel-item {\n",
       "  display: flex;\n",
       "  flex-direction: column;\n",
       "}\n",
       "\n",
       "#sk-container-id-5 div.sk-parallel-item:first-child::after {\n",
       "  align-self: flex-end;\n",
       "  width: 50%;\n",
       "}\n",
       "\n",
       "#sk-container-id-5 div.sk-parallel-item:last-child::after {\n",
       "  align-self: flex-start;\n",
       "  width: 50%;\n",
       "}\n",
       "\n",
       "#sk-container-id-5 div.sk-parallel-item:only-child::after {\n",
       "  width: 0;\n",
       "}\n",
       "\n",
       "/* Serial-specific style estimator block */\n",
       "\n",
       "#sk-container-id-5 div.sk-serial {\n",
       "  display: flex;\n",
       "  flex-direction: column;\n",
       "  align-items: center;\n",
       "  background-color: var(--sklearn-color-background);\n",
       "  padding-right: 1em;\n",
       "  padding-left: 1em;\n",
       "}\n",
       "\n",
       "\n",
       "/* Toggleable style: style used for estimator/Pipeline/ColumnTransformer box that is\n",
       "clickable and can be expanded/collapsed.\n",
       "- Pipeline and ColumnTransformer use this feature and define the default style\n",
       "- Estimators will overwrite some part of the style using the `sk-estimator` class\n",
       "*/\n",
       "\n",
       "/* Pipeline and ColumnTransformer style (default) */\n",
       "\n",
       "#sk-container-id-5 div.sk-toggleable {\n",
       "  /* Default theme specific background. It is overwritten whether we have a\n",
       "  specific estimator or a Pipeline/ColumnTransformer */\n",
       "  background-color: var(--sklearn-color-background);\n",
       "}\n",
       "\n",
       "/* Toggleable label */\n",
       "#sk-container-id-5 label.sk-toggleable__label {\n",
       "  cursor: pointer;\n",
       "  display: block;\n",
       "  width: 100%;\n",
       "  margin-bottom: 0;\n",
       "  padding: 0.5em;\n",
       "  box-sizing: border-box;\n",
       "  text-align: center;\n",
       "}\n",
       "\n",
       "#sk-container-id-5 label.sk-toggleable__label-arrow:before {\n",
       "  /* Arrow on the left of the label */\n",
       "  content: \"▸\";\n",
       "  float: left;\n",
       "  margin-right: 0.25em;\n",
       "  color: var(--sklearn-color-icon);\n",
       "}\n",
       "\n",
       "#sk-container-id-5 label.sk-toggleable__label-arrow:hover:before {\n",
       "  color: var(--sklearn-color-text);\n",
       "}\n",
       "\n",
       "/* Toggleable content - dropdown */\n",
       "\n",
       "#sk-container-id-5 div.sk-toggleable__content {\n",
       "  max-height: 0;\n",
       "  max-width: 0;\n",
       "  overflow: hidden;\n",
       "  text-align: left;\n",
       "  /* unfitted */\n",
       "  background-color: var(--sklearn-color-unfitted-level-0);\n",
       "}\n",
       "\n",
       "#sk-container-id-5 div.sk-toggleable__content.fitted {\n",
       "  /* fitted */\n",
       "  background-color: var(--sklearn-color-fitted-level-0);\n",
       "}\n",
       "\n",
       "#sk-container-id-5 div.sk-toggleable__content pre {\n",
       "  margin: 0.2em;\n",
       "  border-radius: 0.25em;\n",
       "  color: var(--sklearn-color-text);\n",
       "  /* unfitted */\n",
       "  background-color: var(--sklearn-color-unfitted-level-0);\n",
       "}\n",
       "\n",
       "#sk-container-id-5 div.sk-toggleable__content.fitted pre {\n",
       "  /* unfitted */\n",
       "  background-color: var(--sklearn-color-fitted-level-0);\n",
       "}\n",
       "\n",
       "#sk-container-id-5 input.sk-toggleable__control:checked~div.sk-toggleable__content {\n",
       "  /* Expand drop-down */\n",
       "  max-height: 200px;\n",
       "  max-width: 100%;\n",
       "  overflow: auto;\n",
       "}\n",
       "\n",
       "#sk-container-id-5 input.sk-toggleable__control:checked~label.sk-toggleable__label-arrow:before {\n",
       "  content: \"▾\";\n",
       "}\n",
       "\n",
       "/* Pipeline/ColumnTransformer-specific style */\n",
       "\n",
       "#sk-container-id-5 div.sk-label input.sk-toggleable__control:checked~label.sk-toggleable__label {\n",
       "  color: var(--sklearn-color-text);\n",
       "  background-color: var(--sklearn-color-unfitted-level-2);\n",
       "}\n",
       "\n",
       "#sk-container-id-5 div.sk-label.fitted input.sk-toggleable__control:checked~label.sk-toggleable__label {\n",
       "  background-color: var(--sklearn-color-fitted-level-2);\n",
       "}\n",
       "\n",
       "/* Estimator-specific style */\n",
       "\n",
       "/* Colorize estimator box */\n",
       "#sk-container-id-5 div.sk-estimator input.sk-toggleable__control:checked~label.sk-toggleable__label {\n",
       "  /* unfitted */\n",
       "  background-color: var(--sklearn-color-unfitted-level-2);\n",
       "}\n",
       "\n",
       "#sk-container-id-5 div.sk-estimator.fitted input.sk-toggleable__control:checked~label.sk-toggleable__label {\n",
       "  /* fitted */\n",
       "  background-color: var(--sklearn-color-fitted-level-2);\n",
       "}\n",
       "\n",
       "#sk-container-id-5 div.sk-label label.sk-toggleable__label,\n",
       "#sk-container-id-5 div.sk-label label {\n",
       "  /* The background is the default theme color */\n",
       "  color: var(--sklearn-color-text-on-default-background);\n",
       "}\n",
       "\n",
       "/* On hover, darken the color of the background */\n",
       "#sk-container-id-5 div.sk-label:hover label.sk-toggleable__label {\n",
       "  color: var(--sklearn-color-text);\n",
       "  background-color: var(--sklearn-color-unfitted-level-2);\n",
       "}\n",
       "\n",
       "/* Label box, darken color on hover, fitted */\n",
       "#sk-container-id-5 div.sk-label.fitted:hover label.sk-toggleable__label.fitted {\n",
       "  color: var(--sklearn-color-text);\n",
       "  background-color: var(--sklearn-color-fitted-level-2);\n",
       "}\n",
       "\n",
       "/* Estimator label */\n",
       "\n",
       "#sk-container-id-5 div.sk-label label {\n",
       "  font-family: monospace;\n",
       "  font-weight: bold;\n",
       "  display: inline-block;\n",
       "  line-height: 1.2em;\n",
       "}\n",
       "\n",
       "#sk-container-id-5 div.sk-label-container {\n",
       "  text-align: center;\n",
       "}\n",
       "\n",
       "/* Estimator-specific */\n",
       "#sk-container-id-5 div.sk-estimator {\n",
       "  font-family: monospace;\n",
       "  border: 1px dotted var(--sklearn-color-border-box);\n",
       "  border-radius: 0.25em;\n",
       "  box-sizing: border-box;\n",
       "  margin-bottom: 0.5em;\n",
       "  /* unfitted */\n",
       "  background-color: var(--sklearn-color-unfitted-level-0);\n",
       "}\n",
       "\n",
       "#sk-container-id-5 div.sk-estimator.fitted {\n",
       "  /* fitted */\n",
       "  background-color: var(--sklearn-color-fitted-level-0);\n",
       "}\n",
       "\n",
       "/* on hover */\n",
       "#sk-container-id-5 div.sk-estimator:hover {\n",
       "  /* unfitted */\n",
       "  background-color: var(--sklearn-color-unfitted-level-2);\n",
       "}\n",
       "\n",
       "#sk-container-id-5 div.sk-estimator.fitted:hover {\n",
       "  /* fitted */\n",
       "  background-color: var(--sklearn-color-fitted-level-2);\n",
       "}\n",
       "\n",
       "/* Specification for estimator info (e.g. \"i\" and \"?\") */\n",
       "\n",
       "/* Common style for \"i\" and \"?\" */\n",
       "\n",
       ".sk-estimator-doc-link,\n",
       "a:link.sk-estimator-doc-link,\n",
       "a:visited.sk-estimator-doc-link {\n",
       "  float: right;\n",
       "  font-size: smaller;\n",
       "  line-height: 1em;\n",
       "  font-family: monospace;\n",
       "  background-color: var(--sklearn-color-background);\n",
       "  border-radius: 1em;\n",
       "  height: 1em;\n",
       "  width: 1em;\n",
       "  text-decoration: none !important;\n",
       "  margin-left: 1ex;\n",
       "  /* unfitted */\n",
       "  border: var(--sklearn-color-unfitted-level-1) 1pt solid;\n",
       "  color: var(--sklearn-color-unfitted-level-1);\n",
       "}\n",
       "\n",
       ".sk-estimator-doc-link.fitted,\n",
       "a:link.sk-estimator-doc-link.fitted,\n",
       "a:visited.sk-estimator-doc-link.fitted {\n",
       "  /* fitted */\n",
       "  border: var(--sklearn-color-fitted-level-1) 1pt solid;\n",
       "  color: var(--sklearn-color-fitted-level-1);\n",
       "}\n",
       "\n",
       "/* On hover */\n",
       "div.sk-estimator:hover .sk-estimator-doc-link:hover,\n",
       ".sk-estimator-doc-link:hover,\n",
       "div.sk-label-container:hover .sk-estimator-doc-link:hover,\n",
       ".sk-estimator-doc-link:hover {\n",
       "  /* unfitted */\n",
       "  background-color: var(--sklearn-color-unfitted-level-3);\n",
       "  color: var(--sklearn-color-background);\n",
       "  text-decoration: none;\n",
       "}\n",
       "\n",
       "div.sk-estimator.fitted:hover .sk-estimator-doc-link.fitted:hover,\n",
       ".sk-estimator-doc-link.fitted:hover,\n",
       "div.sk-label-container:hover .sk-estimator-doc-link.fitted:hover,\n",
       ".sk-estimator-doc-link.fitted:hover {\n",
       "  /* fitted */\n",
       "  background-color: var(--sklearn-color-fitted-level-3);\n",
       "  color: var(--sklearn-color-background);\n",
       "  text-decoration: none;\n",
       "}\n",
       "\n",
       "/* Span, style for the box shown on hovering the info icon */\n",
       ".sk-estimator-doc-link span {\n",
       "  display: none;\n",
       "  z-index: 9999;\n",
       "  position: relative;\n",
       "  font-weight: normal;\n",
       "  right: .2ex;\n",
       "  padding: .5ex;\n",
       "  margin: .5ex;\n",
       "  width: min-content;\n",
       "  min-width: 20ex;\n",
       "  max-width: 50ex;\n",
       "  color: var(--sklearn-color-text);\n",
       "  box-shadow: 2pt 2pt 4pt #999;\n",
       "  /* unfitted */\n",
       "  background: var(--sklearn-color-unfitted-level-0);\n",
       "  border: .5pt solid var(--sklearn-color-unfitted-level-3);\n",
       "}\n",
       "\n",
       ".sk-estimator-doc-link.fitted span {\n",
       "  /* fitted */\n",
       "  background: var(--sklearn-color-fitted-level-0);\n",
       "  border: var(--sklearn-color-fitted-level-3);\n",
       "}\n",
       "\n",
       ".sk-estimator-doc-link:hover span {\n",
       "  display: block;\n",
       "}\n",
       "\n",
       "/* \"?\"-specific style due to the `<a>` HTML tag */\n",
       "\n",
       "#sk-container-id-5 a.estimator_doc_link {\n",
       "  float: right;\n",
       "  font-size: 1rem;\n",
       "  line-height: 1em;\n",
       "  font-family: monospace;\n",
       "  background-color: var(--sklearn-color-background);\n",
       "  border-radius: 1rem;\n",
       "  height: 1rem;\n",
       "  width: 1rem;\n",
       "  text-decoration: none;\n",
       "  /* unfitted */\n",
       "  color: var(--sklearn-color-unfitted-level-1);\n",
       "  border: var(--sklearn-color-unfitted-level-1) 1pt solid;\n",
       "}\n",
       "\n",
       "#sk-container-id-5 a.estimator_doc_link.fitted {\n",
       "  /* fitted */\n",
       "  border: var(--sklearn-color-fitted-level-1) 1pt solid;\n",
       "  color: var(--sklearn-color-fitted-level-1);\n",
       "}\n",
       "\n",
       "/* On hover */\n",
       "#sk-container-id-5 a.estimator_doc_link:hover {\n",
       "  /* unfitted */\n",
       "  background-color: var(--sklearn-color-unfitted-level-3);\n",
       "  color: var(--sklearn-color-background);\n",
       "  text-decoration: none;\n",
       "}\n",
       "\n",
       "#sk-container-id-5 a.estimator_doc_link.fitted:hover {\n",
       "  /* fitted */\n",
       "  background-color: var(--sklearn-color-fitted-level-3);\n",
       "}\n",
       "</style><div id=\"sk-container-id-5\" class=\"sk-top-container\"><div class=\"sk-text-repr-fallback\"><pre>LinearRegression()</pre><b>In a Jupyter environment, please rerun this cell to show the HTML representation or trust the notebook. <br />On GitHub, the HTML representation is unable to render, please try loading this page with nbviewer.org.</b></div><div class=\"sk-container\" hidden><div class=\"sk-item\"><div class=\"sk-estimator fitted sk-toggleable\"><input class=\"sk-toggleable__control sk-hidden--visually\" id=\"sk-estimator-id-5\" type=\"checkbox\" checked><label for=\"sk-estimator-id-5\" class=\"sk-toggleable__label fitted sk-toggleable__label-arrow fitted\">&nbsp;&nbsp;LinearRegression<a class=\"sk-estimator-doc-link fitted\" rel=\"noreferrer\" target=\"_blank\" href=\"https://scikit-learn.org/1.5/modules/generated/sklearn.linear_model.LinearRegression.html\">?<span>Documentation for LinearRegression</span></a><span class=\"sk-estimator-doc-link fitted\">i<span>Fitted</span></span></label><div class=\"sk-toggleable__content fitted\"><pre>LinearRegression()</pre></div> </div></div></div></div>"
      ],
      "text/plain": [
       "LinearRegression()"
      ]
     },
     "execution_count": 293,
     "metadata": {},
     "output_type": "execute_result"
    }
   ],
   "source": [
    "# fit model\n",
    "model2.fit(X_train, y_train)"
   ]
  },
  {
   "cell_type": "markdown",
   "id": "cd28f869-8733-445d-b585-b0b2ad6bdf0e",
   "metadata": {},
   "source": [
    "---\n",
    "**Model Evaluation**"
   ]
  },
  {
   "cell_type": "code",
   "execution_count": 296,
   "id": "770dc2bc-ea12-45ad-9877-919be553b3a2",
   "metadata": {
    "tags": []
   },
   "outputs": [
    {
     "data": {
      "text/plain": [
       "0.65142827156989"
      ]
     },
     "execution_count": 296,
     "metadata": {},
     "output_type": "execute_result"
    }
   ],
   "source": [
    "# train set R2 score\n",
    "model2.score(X_train, y_train)"
   ]
  },
  {
   "cell_type": "code",
   "execution_count": 298,
   "id": "6da18fb6-eabd-4f33-8077-73cd0f9b4ddf",
   "metadata": {
    "tags": []
   },
   "outputs": [
    {
     "data": {
      "text/plain": [
       "0.7413502083651577"
      ]
     },
     "execution_count": 298,
     "metadata": {},
     "output_type": "execute_result"
    }
   ],
   "source": [
    "# test set R2 score\n",
    "model2.score(X_test, y_test)"
   ]
  },
  {
   "cell_type": "markdown",
   "id": "e4c44223-d4d4-452f-a010-38a665d4093d",
   "metadata": {},
   "source": [
    "---\n",
    "**Cross Validation**"
   ]
  },
  {
   "cell_type": "code",
   "execution_count": 301,
   "id": "75bc2a8d-e0d8-43f7-a3f3-28de959d3b25",
   "metadata": {
    "tags": []
   },
   "outputs": [
    {
     "data": {
      "text/plain": [
       "array([0.76371669, 0.6966313 , 0.46622287, 0.57227753, 0.67740618])"
      ]
     },
     "execution_count": 301,
     "metadata": {},
     "output_type": "execute_result"
    }
   ],
   "source": [
    "# keep 5-fold default\n",
    "cross_val_score(model2, X_train, y_train)"
   ]
  },
  {
   "cell_type": "code",
   "execution_count": 303,
   "id": "ac11c859-be39-453e-a73d-27398ffbfe95",
   "metadata": {
    "tags": []
   },
   "outputs": [
    {
     "data": {
      "text/plain": [
       "0.6352509139465672"
      ]
     },
     "execution_count": 303,
     "metadata": {},
     "output_type": "execute_result"
    }
   ],
   "source": [
    "# avg\n",
    "cross_val_score(model2, X_train, y_train).mean()"
   ]
  },
  {
   "cell_type": "markdown",
   "id": "eee0b290-b7f0-43a5-9331-89c8e74fc405",
   "metadata": {},
   "source": [
    "---\n",
    "**Predictions and Evaluation**"
   ]
  },
  {
   "cell_type": "code",
   "execution_count": 306,
   "id": "b4a5c7fb-ec3a-4633-802a-75d1053e91be",
   "metadata": {
    "tags": []
   },
   "outputs": [],
   "source": [
    "# run predictions\n",
    "predictions = model2.predict(X_test)"
   ]
  },
  {
   "cell_type": "code",
   "execution_count": 308,
   "id": "a65d6cd5-29cd-4461-a1c2-8e25a0c34b87",
   "metadata": {
    "tags": []
   },
   "outputs": [
    {
     "data": {
      "text/plain": [
       "array([206580.92131873, 157174.70256158, 179318.41088351, 180065.62986831,\n",
       "       121928.96993046])"
      ]
     },
     "execution_count": 308,
     "metadata": {},
     "output_type": "execute_result"
    }
   ],
   "source": [
    "# check first five preds\n",
    "predictions[:5]"
   ]
  },
  {
   "cell_type": "code",
   "execution_count": 310,
   "id": "f8534556-0e69-463c-bb10-399eccc161c1",
   "metadata": {
    "tags": []
   },
   "outputs": [
    {
     "data": {
      "text/plain": [
       "38276.19"
      ]
     },
     "execution_count": 310,
     "metadata": {},
     "output_type": "execute_result"
    }
   ],
   "source": [
    "# check RMSE\n",
    "rmse = round(metrics.root_mean_squared_error(y_test, predictions) , 2)\n",
    "rmse"
   ]
  },
  {
   "cell_type": "markdown",
   "id": "e31e5d27-389b-4d72-bd18-2bda89ea08ca",
   "metadata": {},
   "source": [
    "---\n",
    "### **Use Model 2 on Kaggle Data**"
   ]
  },
  {
   "cell_type": "markdown",
   "id": "c4b1e42a-0a63-4ab4-9187-d227b37fe998",
   "metadata": {},
   "source": [
    "First, add the same calculated columns to kaggle file and save a copy."
   ]
  },
  {
   "cell_type": "code",
   "execution_count": 326,
   "id": "90a42d54-76aa-4deb-87a2-c7dc6946dfb1",
   "metadata": {
    "tags": []
   },
   "outputs": [],
   "source": [
    "# calc and add columns\n",
    "\n",
    "# indoor area\n",
    "ames_kaggle['indoor_area'] = ames_kaggle['total_bsmt_sf'] + ames_kaggle['gr_liv_area']\n",
    "\n",
    "# outdoor area\n",
    "cols = ['lot_area', 'wood_deck_sf', 'open_porch_sf', 'enclosed_porch', '3ssn_porch', 'screen_porch', 'pool_area']\n",
    "ames_kaggle['outdoor_area'] = ames_kaggle[cols].sum(axis = 1)"
   ]
  },
  {
   "cell_type": "code",
   "execution_count": 330,
   "id": "9eff473c-7827-4fa0-b547-eab768863832",
   "metadata": {
    "tags": []
   },
   "outputs": [
    {
     "name": "stdout",
     "output_type": "stream",
     "text": [
      "(878, 82)\n"
     ]
    },
    {
     "data": {
      "text/html": [
       "<div>\n",
       "<style scoped>\n",
       "    .dataframe tbody tr th:only-of-type {\n",
       "        vertical-align: middle;\n",
       "    }\n",
       "\n",
       "    .dataframe tbody tr th {\n",
       "        vertical-align: top;\n",
       "    }\n",
       "\n",
       "    .dataframe thead th {\n",
       "        text-align: right;\n",
       "    }\n",
       "</style>\n",
       "<table border=\"1\" class=\"dataframe\">\n",
       "  <thead>\n",
       "    <tr style=\"text-align: right;\">\n",
       "      <th></th>\n",
       "      <th>id</th>\n",
       "      <th>pid</th>\n",
       "      <th>ms_subclass</th>\n",
       "      <th>ms_zoning</th>\n",
       "      <th>lot_frontage</th>\n",
       "      <th>lot_area</th>\n",
       "      <th>street</th>\n",
       "      <th>alley</th>\n",
       "      <th>lot_shape</th>\n",
       "      <th>land_contour</th>\n",
       "      <th>...</th>\n",
       "      <th>pool_area</th>\n",
       "      <th>pool_qc</th>\n",
       "      <th>fence</th>\n",
       "      <th>misc_feature</th>\n",
       "      <th>misc_val</th>\n",
       "      <th>mo_sold</th>\n",
       "      <th>yr_sold</th>\n",
       "      <th>sale_type</th>\n",
       "      <th>indoor_area</th>\n",
       "      <th>outdoor_area</th>\n",
       "    </tr>\n",
       "  </thead>\n",
       "  <tbody>\n",
       "    <tr>\n",
       "      <th>0</th>\n",
       "      <td>2658</td>\n",
       "      <td>902301120</td>\n",
       "      <td>190</td>\n",
       "      <td>RM</td>\n",
       "      <td>69.00</td>\n",
       "      <td>9142</td>\n",
       "      <td>Pave</td>\n",
       "      <td>Grvl</td>\n",
       "      <td>Reg</td>\n",
       "      <td>Lvl</td>\n",
       "      <td>...</td>\n",
       "      <td>0.0</td>\n",
       "      <td>Np</td>\n",
       "      <td>NoFe</td>\n",
       "      <td>NoFea</td>\n",
       "      <td>0.0</td>\n",
       "      <td>4</td>\n",
       "      <td>2006</td>\n",
       "      <td>WD</td>\n",
       "      <td>2948.0</td>\n",
       "      <td>9314.0</td>\n",
       "    </tr>\n",
       "    <tr>\n",
       "      <th>1</th>\n",
       "      <td>2718</td>\n",
       "      <td>905108090</td>\n",
       "      <td>90</td>\n",
       "      <td>RL</td>\n",
       "      <td>69.06</td>\n",
       "      <td>9662</td>\n",
       "      <td>Pave</td>\n",
       "      <td>No_Alley</td>\n",
       "      <td>IR1</td>\n",
       "      <td>Lvl</td>\n",
       "      <td>...</td>\n",
       "      <td>0.0</td>\n",
       "      <td>Np</td>\n",
       "      <td>NoFe</td>\n",
       "      <td>NoFea</td>\n",
       "      <td>0.0</td>\n",
       "      <td>8</td>\n",
       "      <td>2006</td>\n",
       "      <td>WD</td>\n",
       "      <td>3934.0</td>\n",
       "      <td>9832.0</td>\n",
       "    </tr>\n",
       "  </tbody>\n",
       "</table>\n",
       "<p>2 rows × 82 columns</p>\n",
       "</div>"
      ],
      "text/plain": [
       "     id        pid  ms_subclass ms_zoning  lot_frontage  lot_area street  \\\n",
       "0  2658  902301120          190        RM         69.00      9142   Pave   \n",
       "1  2718  905108090           90        RL         69.06      9662   Pave   \n",
       "\n",
       "      alley lot_shape land_contour  ... pool_area pool_qc fence misc_feature  \\\n",
       "0      Grvl       Reg          Lvl  ...       0.0      Np  NoFe        NoFea   \n",
       "1  No_Alley       IR1          Lvl  ...       0.0      Np  NoFe        NoFea   \n",
       "\n",
       "  misc_val mo_sold yr_sold sale_type  indoor_area  outdoor_area  \n",
       "0      0.0       4    2006       WD        2948.0        9314.0  \n",
       "1      0.0       8    2006       WD        3934.0        9832.0  \n",
       "\n",
       "[2 rows x 82 columns]"
      ]
     },
     "execution_count": 330,
     "metadata": {},
     "output_type": "execute_result"
    }
   ],
   "source": [
    "# confirm shape and view first two rows\n",
    "print(ames_kaggle.shape)\n",
    "ames_kaggle.head(2)"
   ]
  },
  {
   "cell_type": "code",
   "execution_count": 333,
   "id": "78f55b0e-b97d-447b-bf8c-dfca74b065d5",
   "metadata": {
    "tags": []
   },
   "outputs": [],
   "source": [
    "# save copy\n",
    "output_path = '../datasets/clean_data/kaggle_clean2.csv'\n",
    "\n",
    "# save file\n",
    "ames_kaggle.to_csv(output_path, index = False)"
   ]
  },
  {
   "cell_type": "markdown",
   "id": "e7b7dfde-d9ac-4fab-9c42-1f8f40e07c13",
   "metadata": {},
   "source": [
    "---\n",
    "**Predictive Matrix**"
   ]
  },
  {
   "cell_type": "code",
   "execution_count": 340,
   "id": "5cadc0a8-5506-4c77-8cb5-f19d45dec203",
   "metadata": {
    "tags": []
   },
   "outputs": [
    {
     "data": {
      "text/plain": [
       "['indoor_area', 'garage_area', 'outdoor_area']"
      ]
     },
     "execution_count": 340,
     "metadata": {},
     "output_type": "execute_result"
    }
   ],
   "source": [
    "features"
   ]
  },
  {
   "cell_type": "code",
   "execution_count": 342,
   "id": "6ad45099-e742-4a8e-b3ee-8060e413f643",
   "metadata": {
    "tags": []
   },
   "outputs": [
    {
     "data": {
      "text/plain": [
       "(878, 3)"
      ]
     },
     "execution_count": 342,
     "metadata": {},
     "output_type": "execute_result"
    }
   ],
   "source": [
    "X_kaggle = ames_kaggle[features]\n",
    "\n",
    "X_kaggle.shape"
   ]
  },
  {
   "cell_type": "markdown",
   "id": "7f12cb8c-3f0a-48a1-b216-98f2141997ce",
   "metadata": {},
   "source": [
    "---\n",
    "**Kaggle Predictions**"
   ]
  },
  {
   "cell_type": "code",
   "execution_count": 346,
   "id": "d10bcaf6-5e99-43c6-b802-a572a5b081da",
   "metadata": {
    "tags": []
   },
   "outputs": [],
   "source": [
    "kaggle_preds = model2.predict(X_kaggle)"
   ]
  },
  {
   "cell_type": "code",
   "execution_count": 348,
   "id": "2235b34a-7a76-49a6-a5ac-664c026846d5",
   "metadata": {
    "tags": []
   },
   "outputs": [
    {
     "data": {
      "text/plain": [
       "array([200244.96815288, 272051.19973083, 154086.32543989, 147191.06300208,\n",
       "       199517.66385244])"
      ]
     },
     "execution_count": 348,
     "metadata": {},
     "output_type": "execute_result"
    }
   ],
   "source": [
    "# check first 5\n",
    "kaggle_preds[:5]"
   ]
  },
  {
   "cell_type": "markdown",
   "id": "6610b529-9696-4574-a6eb-2b6d6a27b474",
   "metadata": {},
   "source": [
    "---\n",
    "**Review Kaggle Preds and Build Submission File**"
   ]
  },
  {
   "cell_type": "code",
   "execution_count": 351,
   "id": "6d1f1dda-8258-45ff-8fd8-cf79cf41457d",
   "metadata": {
    "tags": []
   },
   "outputs": [
    {
     "data": {
      "text/plain": [
       "(878, 2)"
      ]
     },
     "execution_count": 351,
     "metadata": {},
     "output_type": "execute_result"
    }
   ],
   "source": [
    "# create DF\n",
    "\n",
    "ulloa_kaggle_model2 = pd.DataFrame({\n",
    "    'Id': ames_kaggle['id'],\n",
    "    'SalePrice': kaggle_preds\n",
    "})\n",
    "\n",
    "# check dimensions\n",
    "ulloa_kaggle_model2.shape"
   ]
  },
  {
   "cell_type": "code",
   "execution_count": 353,
   "id": "c027a238-084b-47ff-891f-42377c6a4d42",
   "metadata": {
    "tags": []
   },
   "outputs": [
    {
     "data": {
      "text/html": [
       "<div>\n",
       "<style scoped>\n",
       "    .dataframe tbody tr th:only-of-type {\n",
       "        vertical-align: middle;\n",
       "    }\n",
       "\n",
       "    .dataframe tbody tr th {\n",
       "        vertical-align: top;\n",
       "    }\n",
       "\n",
       "    .dataframe thead th {\n",
       "        text-align: right;\n",
       "    }\n",
       "</style>\n",
       "<table border=\"1\" class=\"dataframe\">\n",
       "  <thead>\n",
       "    <tr style=\"text-align: right;\">\n",
       "      <th></th>\n",
       "      <th>Id</th>\n",
       "      <th>SalePrice</th>\n",
       "    </tr>\n",
       "  </thead>\n",
       "  <tbody>\n",
       "    <tr>\n",
       "      <th>0</th>\n",
       "      <td>2658</td>\n",
       "      <td>200244.968153</td>\n",
       "    </tr>\n",
       "    <tr>\n",
       "      <th>1</th>\n",
       "      <td>2718</td>\n",
       "      <td>272051.199731</td>\n",
       "    </tr>\n",
       "    <tr>\n",
       "      <th>2</th>\n",
       "      <td>2414</td>\n",
       "      <td>154086.325440</td>\n",
       "    </tr>\n",
       "    <tr>\n",
       "      <th>3</th>\n",
       "      <td>1989</td>\n",
       "      <td>147191.063002</td>\n",
       "    </tr>\n",
       "    <tr>\n",
       "      <th>4</th>\n",
       "      <td>625</td>\n",
       "      <td>199517.663852</td>\n",
       "    </tr>\n",
       "  </tbody>\n",
       "</table>\n",
       "</div>"
      ],
      "text/plain": [
       "     Id      SalePrice\n",
       "0  2658  200244.968153\n",
       "1  2718  272051.199731\n",
       "2  2414  154086.325440\n",
       "3  1989  147191.063002\n",
       "4   625  199517.663852"
      ]
     },
     "execution_count": 353,
     "metadata": {},
     "output_type": "execute_result"
    }
   ],
   "source": [
    "# first 5 rows\n",
    "ulloa_kaggle_model2.head()"
   ]
  },
  {
   "cell_type": "code",
   "execution_count": 355,
   "id": "968823fc-4219-446b-8440-32babbb91a87",
   "metadata": {
    "tags": []
   },
   "outputs": [
    {
     "data": {
      "text/html": [
       "<div>\n",
       "<style scoped>\n",
       "    .dataframe tbody tr th:only-of-type {\n",
       "        vertical-align: middle;\n",
       "    }\n",
       "\n",
       "    .dataframe tbody tr th {\n",
       "        vertical-align: top;\n",
       "    }\n",
       "\n",
       "    .dataframe thead th {\n",
       "        text-align: right;\n",
       "    }\n",
       "</style>\n",
       "<table border=\"1\" class=\"dataframe\">\n",
       "  <thead>\n",
       "    <tr style=\"text-align: right;\">\n",
       "      <th></th>\n",
       "      <th>Id</th>\n",
       "      <th>SalePrice</th>\n",
       "    </tr>\n",
       "  </thead>\n",
       "  <tbody>\n",
       "    <tr>\n",
       "      <th>0</th>\n",
       "      <td>2658</td>\n",
       "      <td>200244.968153</td>\n",
       "    </tr>\n",
       "    <tr>\n",
       "      <th>1</th>\n",
       "      <td>2718</td>\n",
       "      <td>272051.199731</td>\n",
       "    </tr>\n",
       "    <tr>\n",
       "      <th>2</th>\n",
       "      <td>2414</td>\n",
       "      <td>154086.325440</td>\n",
       "    </tr>\n",
       "    <tr>\n",
       "      <th>3</th>\n",
       "      <td>1989</td>\n",
       "      <td>147191.063002</td>\n",
       "    </tr>\n",
       "    <tr>\n",
       "      <th>4</th>\n",
       "      <td>625</td>\n",
       "      <td>199517.663852</td>\n",
       "    </tr>\n",
       "  </tbody>\n",
       "</table>\n",
       "</div>"
      ],
      "text/plain": [
       "     Id      SalePrice\n",
       "0  2658  200244.968153\n",
       "1  2718  272051.199731\n",
       "2  2414  154086.325440\n",
       "3  1989  147191.063002\n",
       "4   625  199517.663852"
      ]
     },
     "execution_count": 355,
     "metadata": {},
     "output_type": "execute_result"
    }
   ],
   "source": [
    "# last 5 rows\n",
    "ulloa_kaggle_model2.head()"
   ]
  },
  {
   "cell_type": "code",
   "execution_count": 359,
   "id": "df4e71bf-0eb4-43ff-8a70-d1433eb6b22c",
   "metadata": {
    "tags": []
   },
   "outputs": [
    {
     "data": {
      "text/html": [
       "<div>\n",
       "<style scoped>\n",
       "    .dataframe tbody tr th:only-of-type {\n",
       "        vertical-align: middle;\n",
       "    }\n",
       "\n",
       "    .dataframe tbody tr th {\n",
       "        vertical-align: top;\n",
       "    }\n",
       "\n",
       "    .dataframe thead th {\n",
       "        text-align: right;\n",
       "    }\n",
       "</style>\n",
       "<table border=\"1\" class=\"dataframe\">\n",
       "  <thead>\n",
       "    <tr style=\"text-align: right;\">\n",
       "      <th></th>\n",
       "      <th>SalePrice</th>\n",
       "    </tr>\n",
       "  </thead>\n",
       "  <tbody>\n",
       "    <tr>\n",
       "      <th>count</th>\n",
       "      <td>878.000000</td>\n",
       "    </tr>\n",
       "    <tr>\n",
       "      <th>mean</th>\n",
       "      <td>180095.430109</td>\n",
       "    </tr>\n",
       "    <tr>\n",
       "      <th>std</th>\n",
       "      <td>60883.769077</td>\n",
       "    </tr>\n",
       "    <tr>\n",
       "      <th>min</th>\n",
       "      <td>34813.655524</td>\n",
       "    </tr>\n",
       "    <tr>\n",
       "      <th>25%</th>\n",
       "      <td>135936.780289</td>\n",
       "    </tr>\n",
       "    <tr>\n",
       "      <th>50%</th>\n",
       "      <td>174132.507669</td>\n",
       "    </tr>\n",
       "    <tr>\n",
       "      <th>75%</th>\n",
       "      <td>213302.543853</td>\n",
       "    </tr>\n",
       "    <tr>\n",
       "      <th>max</th>\n",
       "      <td>465786.906778</td>\n",
       "    </tr>\n",
       "  </tbody>\n",
       "</table>\n",
       "</div>"
      ],
      "text/plain": [
       "           SalePrice\n",
       "count     878.000000\n",
       "mean   180095.430109\n",
       "std     60883.769077\n",
       "min     34813.655524\n",
       "25%    135936.780289\n",
       "50%    174132.507669\n",
       "75%    213302.543853\n",
       "max    465786.906778"
      ]
     },
     "execution_count": 359,
     "metadata": {},
     "output_type": "execute_result"
    }
   ],
   "source": [
    "# summary stats\n",
    "ulloa_kaggle_model2.describe()"
   ]
  },
  {
   "cell_type": "code",
   "execution_count": 363,
   "id": "b51a24b1-c109-4be2-957b-a7f46a6f390d",
   "metadata": {
    "tags": []
   },
   "outputs": [
    {
     "data": {
      "image/png": "[encoded data removed]",
      "text/plain": [
       "<Figure size 640x480 with 1 Axes>"
      ]
     },
     "metadata": {},
     "output_type": "display_data"
    }
   ],
   "source": [
    "# check distribution\n",
    "\n",
    "plt.hist(ulloa_kaggle_model2['SalePrice'], bins = 25, color = '#003366', edgecolor = '#ffffff')\n",
    "plt.axvline(x = 180095.430109, color = '#ff0000', linestyle = '--', label = 'Mean')\n",
    "plt.title('Distribution of Predicted Home Prices: Model 2')\n",
    "plt.xlabel('Dollars')\n",
    "plt.legend();\n",
    "plt.savefig('../images/model_2_hist.png')"
   ]
  },
  {
   "cell_type": "code",
   "execution_count": 366,
   "id": "babf14da-7a61-4643-a104-e6d81ae6542e",
   "metadata": {
    "tags": []
   },
   "outputs": [],
   "source": [
    "# save kaggle predictions file, model 2\n",
    "\n",
    "output_path = '../datasets/clean_data/ulloa_kaggle_2.csv'\n",
    "ulloa_kaggle_model2.to_csv(output_path, index = False)"
   ]
  },
  {
   "cell_type": "code",
   "execution_count": null,
   "id": "b86e4d4a-64e8-4051-869a-90ba520d3532",
   "metadata": {},
   "outputs": [],
   "source": []
  }
 ],
 "metadata": {
  "kernelspec": {
   "display_name": "Python 3 (ipykernel)",
   "language": "python",
   "name": "python3"
  },
  "language_info": {
   "codemirror_mode": {
    "name": "ipython",
    "version": 3
   },
   "file_extension": ".py",
   "mimetype": "text/x-python",
   "name": "python",
   "nbconvert_exporter": "python",
   "pygments_lexer": "ipython3",
   "version": "3.11.5"
  }
 },
 "nbformat": 4,
 "nbformat_minor": 5
}
