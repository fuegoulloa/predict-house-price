{
 "cells": [
  {
   "cell_type": "markdown",
   "id": "258fcac1-21b7-4482-a185-9ccd404fdc7c",
   "metadata": {},
   "source": [
    "<div style = 'text-align: center;'>\n",
    "    <img src = '../images/ga_logo_large.png'>\n",
    "</div>\n",
    "\n",
    "# **Project 2: Ames Price Prediction Model**"
   ]
  },
  {
   "cell_type": "markdown",
   "id": "6b619221-2814-4bf0-aa88-0c8f4853f57f",
   "metadata": {},
   "source": [
    "---\n",
    "### **Problem Statement**\n",
    "In the United States people value spacious properties. Therefore, it is assumed that the more living space is available in a house, and the bigger the lot, the higher the price the property would command in the local market. This analysis aims to build a predictive pricing model based on that premise.<br>\n",
    "The model will utilize multiple linear regression techniques, and the model's performance will be assessed using the metric Root Mean Squared Error (RMSE)."
   ]
  },
  {
   "cell_type": "markdown",
   "id": "ecdd3c5d-dd1b-437e-ad81-1c968281c654",
   "metadata": {},
   "source": [
    "---\n",
    "### **Data**\n",
    "Only one dataset is used for this analysis and predictive model.<br>\n",
    "* `train.csv`: This dataset is derived from the original source named `AmesHousing.txt`.  It contains information obtained from the Ames Assessor's Office, which is locally used to compute assessment values for residential properties sold in Ames, IA between 2006 and 2010."
   ]
  },
  {
   "cell_type": "markdown",
   "id": "040a4113-83a2-4bde-bf6c-9395b3ca5540",
   "metadata": {},
   "source": [
    "---\n",
    "### **Consulted Sources**\n",
    "This analysis also relies on the outiside sources listed below.  These were consulted to gain a better understanding of what drives home sale prices across all markets in the U.S.<br>\n",
    "* <a href =  'https://www.opendoor.com/articles/factors-that-influence-home-value'>8 critical factors that influence a home's value.</a>\n",
    "    * Neighborhood comps and location are very important.\n",
    "    * Livable space: Home values are estimated by price per square foot.\n",
    "    * Newer homes appraise at higher values.\n",
    "* <a href = 'https://www.constructionhq.world/issue-sections/product-focus/exterior-walls/what-is-masonry-veneer/#:~:text=Masonry%20veneer%20is%20a%20construction,the%20masonry%20veneer%20and%20mortar.'>What is Masonry Veneer?</a>"
   ]
  },
  {
   "cell_type": "markdown",
   "id": "03890564-1812-4655-a21c-059d3d302ad9",
   "metadata": {},
   "source": [
    "---\n",
    "### **Functions**\n",
    "For the sake of efficiency and accuracy, this section houses all non-native functions applicable to this analysis."
   ]
  },
  {
   "cell_type": "markdown",
   "id": "bf4b00fa-773b-4c3e-99f1-0381b2bbb91b",
   "metadata": {},
   "source": [
    "**Create dictionary to format column names**"
   ]
  },
  {
   "cell_type": "code",
   "execution_count": 7,
   "id": "00761305-420d-4348-b542-6d48196af368",
   "metadata": {
    "tags": []
   },
   "outputs": [],
   "source": [
    "def fix_col_names(col_list):\n",
    "    '''\n",
    "    This function takes as argument a list of column names from a data frame.\n",
    "    It returns a dictionary where each key is the current column name and the \n",
    "    corresponding value is the very same column name in snake case.\n",
    "    \n",
    "    Parameters:\n",
    "    col_list: list of strings to pass in, these are the dataframe's column names.\n",
    "    \n",
    "    Return:\n",
    "    dictionary: organized dictionary with all new column names to pass into data \n",
    "    frame and facilitate column conversion.\n",
    "    '''\n",
    "    columns_dict = {}\n",
    "    \n",
    "    for col in col_list:\n",
    "        value = col.lower().replace(' ','_')\n",
    "        columns_dict[col] = value\n",
    "    \n",
    "    return columns_dict"
   ]
  },
  {
   "cell_type": "markdown",
   "id": "0b074181-79ce-4a44-bc78-91b3eed75b03",
   "metadata": {},
   "source": [
    "**Quickly check the percent of missing values in a column**"
   ]
  },
  {
   "cell_type": "code",
   "execution_count": 9,
   "id": "560fb25d-f36a-4717-b9b3-964e75e68bd6",
   "metadata": {
    "tags": []
   },
   "outputs": [],
   "source": [
    "def nulls_pct(df, col_label):\n",
    "    '''\n",
    "    This function quickly computes and prints out the percent of null values in a columm.\n",
    "    \n",
    "    Parameters:\n",
    "    df: actual dataframe, just the name.\n",
    "    col_label: column to check into in string format.\n",
    "    \n",
    "    Return:\n",
    "    It actually prints out percent of null values right underneath the cell where function\n",
    "    is called.\n",
    "    '''\n",
    "    count = df[df[col_label].isnull()].shape[0]\n",
    "    pct = (count / df.shape[0])\n",
    "    \n",
    "    print(f'Missing percentage: {round(pct * 100, 2)}; Rows: {count}')"
   ]
  },
  {
   "cell_type": "markdown",
   "id": "afeb4678-d361-4b03-8515-d0948382ef1c",
   "metadata": {},
   "source": [
    "---\n",
    "### Data Import & Cleaning"
   ]
  },
  {
   "cell_type": "code",
   "execution_count": 13,
   "id": "f7d63e8f-cabd-47ea-aadd-435c2d7adf29",
   "metadata": {
    "tags": []
   },
   "outputs": [],
   "source": [
    "# needed libraries for this notebook\n",
    "\n",
    "import numpy as np\n",
    "import pandas as pd"
   ]
  },
  {
   "cell_type": "code",
   "execution_count": 14,
   "id": "3f5932b4-6068-4e99-9b38-ddc09eac421f",
   "metadata": {
    "tags": []
   },
   "outputs": [
    {
     "data": {
      "text/plain": [
       "(2051, 81)"
      ]
     },
     "execution_count": 14,
     "metadata": {},
     "output_type": "execute_result"
    }
   ],
   "source": [
    "# read in file\n",
    "file_path = '../datasets/train.csv'\n",
    "ames = pd. read_csv(file_path)\n",
    "\n",
    "# check size\n",
    "ames.shape"
   ]
  },
  {
   "cell_type": "code",
   "execution_count": 15,
   "id": "5818ce06-f2e9-49b2-826a-6eeedb0052fa",
   "metadata": {
    "tags": []
   },
   "outputs": [
    {
     "data": {
      "text/html": [
       "<div>\n",
       "<style scoped>\n",
       "    .dataframe tbody tr th:only-of-type {\n",
       "        vertical-align: middle;\n",
       "    }\n",
       "\n",
       "    .dataframe tbody tr th {\n",
       "        vertical-align: top;\n",
       "    }\n",
       "\n",
       "    .dataframe thead th {\n",
       "        text-align: right;\n",
       "    }\n",
       "</style>\n",
       "<table border=\"1\" class=\"dataframe\">\n",
       "  <thead>\n",
       "    <tr style=\"text-align: right;\">\n",
       "      <th></th>\n",
       "      <th>Id</th>\n",
       "      <th>PID</th>\n",
       "      <th>MS SubClass</th>\n",
       "      <th>MS Zoning</th>\n",
       "      <th>Lot Frontage</th>\n",
       "      <th>Lot Area</th>\n",
       "      <th>Street</th>\n",
       "      <th>Alley</th>\n",
       "      <th>Lot Shape</th>\n",
       "      <th>Land Contour</th>\n",
       "      <th>...</th>\n",
       "      <th>Screen Porch</th>\n",
       "      <th>Pool Area</th>\n",
       "      <th>Pool QC</th>\n",
       "      <th>Fence</th>\n",
       "      <th>Misc Feature</th>\n",
       "      <th>Misc Val</th>\n",
       "      <th>Mo Sold</th>\n",
       "      <th>Yr Sold</th>\n",
       "      <th>Sale Type</th>\n",
       "      <th>SalePrice</th>\n",
       "    </tr>\n",
       "  </thead>\n",
       "  <tbody>\n",
       "    <tr>\n",
       "      <th>0</th>\n",
       "      <td>109</td>\n",
       "      <td>533352170</td>\n",
       "      <td>60</td>\n",
       "      <td>RL</td>\n",
       "      <td>NaN</td>\n",
       "      <td>13517</td>\n",
       "      <td>Pave</td>\n",
       "      <td>NaN</td>\n",
       "      <td>IR1</td>\n",
       "      <td>Lvl</td>\n",
       "      <td>...</td>\n",
       "      <td>0</td>\n",
       "      <td>0</td>\n",
       "      <td>NaN</td>\n",
       "      <td>NaN</td>\n",
       "      <td>NaN</td>\n",
       "      <td>0</td>\n",
       "      <td>3</td>\n",
       "      <td>2010</td>\n",
       "      <td>WD</td>\n",
       "      <td>130500</td>\n",
       "    </tr>\n",
       "    <tr>\n",
       "      <th>1</th>\n",
       "      <td>544</td>\n",
       "      <td>531379050</td>\n",
       "      <td>60</td>\n",
       "      <td>RL</td>\n",
       "      <td>43.0</td>\n",
       "      <td>11492</td>\n",
       "      <td>Pave</td>\n",
       "      <td>NaN</td>\n",
       "      <td>IR1</td>\n",
       "      <td>Lvl</td>\n",
       "      <td>...</td>\n",
       "      <td>0</td>\n",
       "      <td>0</td>\n",
       "      <td>NaN</td>\n",
       "      <td>NaN</td>\n",
       "      <td>NaN</td>\n",
       "      <td>0</td>\n",
       "      <td>4</td>\n",
       "      <td>2009</td>\n",
       "      <td>WD</td>\n",
       "      <td>220000</td>\n",
       "    </tr>\n",
       "    <tr>\n",
       "      <th>2</th>\n",
       "      <td>153</td>\n",
       "      <td>535304180</td>\n",
       "      <td>20</td>\n",
       "      <td>RL</td>\n",
       "      <td>68.0</td>\n",
       "      <td>7922</td>\n",
       "      <td>Pave</td>\n",
       "      <td>NaN</td>\n",
       "      <td>Reg</td>\n",
       "      <td>Lvl</td>\n",
       "      <td>...</td>\n",
       "      <td>0</td>\n",
       "      <td>0</td>\n",
       "      <td>NaN</td>\n",
       "      <td>NaN</td>\n",
       "      <td>NaN</td>\n",
       "      <td>0</td>\n",
       "      <td>1</td>\n",
       "      <td>2010</td>\n",
       "      <td>WD</td>\n",
       "      <td>109000</td>\n",
       "    </tr>\n",
       "    <tr>\n",
       "      <th>3</th>\n",
       "      <td>318</td>\n",
       "      <td>916386060</td>\n",
       "      <td>60</td>\n",
       "      <td>RL</td>\n",
       "      <td>73.0</td>\n",
       "      <td>9802</td>\n",
       "      <td>Pave</td>\n",
       "      <td>NaN</td>\n",
       "      <td>Reg</td>\n",
       "      <td>Lvl</td>\n",
       "      <td>...</td>\n",
       "      <td>0</td>\n",
       "      <td>0</td>\n",
       "      <td>NaN</td>\n",
       "      <td>NaN</td>\n",
       "      <td>NaN</td>\n",
       "      <td>0</td>\n",
       "      <td>4</td>\n",
       "      <td>2010</td>\n",
       "      <td>WD</td>\n",
       "      <td>174000</td>\n",
       "    </tr>\n",
       "    <tr>\n",
       "      <th>4</th>\n",
       "      <td>255</td>\n",
       "      <td>906425045</td>\n",
       "      <td>50</td>\n",
       "      <td>RL</td>\n",
       "      <td>82.0</td>\n",
       "      <td>14235</td>\n",
       "      <td>Pave</td>\n",
       "      <td>NaN</td>\n",
       "      <td>IR1</td>\n",
       "      <td>Lvl</td>\n",
       "      <td>...</td>\n",
       "      <td>0</td>\n",
       "      <td>0</td>\n",
       "      <td>NaN</td>\n",
       "      <td>NaN</td>\n",
       "      <td>NaN</td>\n",
       "      <td>0</td>\n",
       "      <td>3</td>\n",
       "      <td>2010</td>\n",
       "      <td>WD</td>\n",
       "      <td>138500</td>\n",
       "    </tr>\n",
       "  </tbody>\n",
       "</table>\n",
       "<p>5 rows × 81 columns</p>\n",
       "</div>"
      ],
      "text/plain": [
       "    Id        PID  MS SubClass MS Zoning  Lot Frontage  Lot Area Street Alley  \\\n",
       "0  109  533352170           60        RL           NaN     13517   Pave   NaN   \n",
       "1  544  531379050           60        RL          43.0     11492   Pave   NaN   \n",
       "2  153  535304180           20        RL          68.0      7922   Pave   NaN   \n",
       "3  318  916386060           60        RL          73.0      9802   Pave   NaN   \n",
       "4  255  906425045           50        RL          82.0     14235   Pave   NaN   \n",
       "\n",
       "  Lot Shape Land Contour  ... Screen Porch Pool Area Pool QC Fence  \\\n",
       "0       IR1          Lvl  ...            0         0     NaN   NaN   \n",
       "1       IR1          Lvl  ...            0         0     NaN   NaN   \n",
       "2       Reg          Lvl  ...            0         0     NaN   NaN   \n",
       "3       Reg          Lvl  ...            0         0     NaN   NaN   \n",
       "4       IR1          Lvl  ...            0         0     NaN   NaN   \n",
       "\n",
       "  Misc Feature Misc Val Mo Sold Yr Sold  Sale Type  SalePrice  \n",
       "0          NaN        0       3    2010        WD      130500  \n",
       "1          NaN        0       4    2009        WD      220000  \n",
       "2          NaN        0       1    2010        WD      109000  \n",
       "3          NaN        0       4    2010        WD      174000  \n",
       "4          NaN        0       3    2010        WD      138500  \n",
       "\n",
       "[5 rows x 81 columns]"
      ]
     },
     "execution_count": 15,
     "metadata": {},
     "output_type": "execute_result"
    }
   ],
   "source": [
    "# check some rows\n",
    "ames.head()"
   ]
  },
  {
   "cell_type": "markdown",
   "id": "e95a5367-1dfe-45f5-a963-18325c3df2d5",
   "metadata": {},
   "source": [
    "Given the number of columns, it is best to check them using `df.info()` below."
   ]
  },
  {
   "cell_type": "code",
   "execution_count": 17,
   "id": "514d7d77-8d7b-424d-b3a3-9388dfc829bc",
   "metadata": {
    "tags": []
   },
   "outputs": [
    {
     "name": "stdout",
     "output_type": "stream",
     "text": [
      "<class 'pandas.core.frame.DataFrame'>\n",
      "RangeIndex: 2051 entries, 0 to 2050\n",
      "Data columns (total 81 columns):\n",
      " #   Column           Non-Null Count  Dtype  \n",
      "---  ------           --------------  -----  \n",
      " 0   Id               2051 non-null   int64  \n",
      " 1   PID              2051 non-null   int64  \n",
      " 2   MS SubClass      2051 non-null   int64  \n",
      " 3   MS Zoning        2051 non-null   object \n",
      " 4   Lot Frontage     1721 non-null   float64\n",
      " 5   Lot Area         2051 non-null   int64  \n",
      " 6   Street           2051 non-null   object \n",
      " 7   Alley            140 non-null    object \n",
      " 8   Lot Shape        2051 non-null   object \n",
      " 9   Land Contour     2051 non-null   object \n",
      " 10  Utilities        2051 non-null   object \n",
      " 11  Lot Config       2051 non-null   object \n",
      " 12  Land Slope       2051 non-null   object \n",
      " 13  Neighborhood     2051 non-null   object \n",
      " 14  Condition 1      2051 non-null   object \n",
      " 15  Condition 2      2051 non-null   object \n",
      " 16  Bldg Type        2051 non-null   object \n",
      " 17  House Style      2051 non-null   object \n",
      " 18  Overall Qual     2051 non-null   int64  \n",
      " 19  Overall Cond     2051 non-null   int64  \n",
      " 20  Year Built       2051 non-null   int64  \n",
      " 21  Year Remod/Add   2051 non-null   int64  \n",
      " 22  Roof Style       2051 non-null   object \n",
      " 23  Roof Matl        2051 non-null   object \n",
      " 24  Exterior 1st     2051 non-null   object \n",
      " 25  Exterior 2nd     2051 non-null   object \n",
      " 26  Mas Vnr Type     811 non-null    object \n",
      " 27  Mas Vnr Area     2029 non-null   float64\n",
      " 28  Exter Qual       2051 non-null   object \n",
      " 29  Exter Cond       2051 non-null   object \n",
      " 30  Foundation       2051 non-null   object \n",
      " 31  Bsmt Qual        1996 non-null   object \n",
      " 32  Bsmt Cond        1996 non-null   object \n",
      " 33  Bsmt Exposure    1993 non-null   object \n",
      " 34  BsmtFin Type 1   1996 non-null   object \n",
      " 35  BsmtFin SF 1     2050 non-null   float64\n",
      " 36  BsmtFin Type 2   1995 non-null   object \n",
      " 37  BsmtFin SF 2     2050 non-null   float64\n",
      " 38  Bsmt Unf SF      2050 non-null   float64\n",
      " 39  Total Bsmt SF    2050 non-null   float64\n",
      " 40  Heating          2051 non-null   object \n",
      " 41  Heating QC       2051 non-null   object \n",
      " 42  Central Air      2051 non-null   object \n",
      " 43  Electrical       2051 non-null   object \n",
      " 44  1st Flr SF       2051 non-null   int64  \n",
      " 45  2nd Flr SF       2051 non-null   int64  \n",
      " 46  Low Qual Fin SF  2051 non-null   int64  \n",
      " 47  Gr Liv Area      2051 non-null   int64  \n",
      " 48  Bsmt Full Bath   2049 non-null   float64\n",
      " 49  Bsmt Half Bath   2049 non-null   float64\n",
      " 50  Full Bath        2051 non-null   int64  \n",
      " 51  Half Bath        2051 non-null   int64  \n",
      " 52  Bedroom AbvGr    2051 non-null   int64  \n",
      " 53  Kitchen AbvGr    2051 non-null   int64  \n",
      " 54  Kitchen Qual     2051 non-null   object \n",
      " 55  TotRms AbvGrd    2051 non-null   int64  \n",
      " 56  Functional       2051 non-null   object \n",
      " 57  Fireplaces       2051 non-null   int64  \n",
      " 58  Fireplace Qu     1051 non-null   object \n",
      " 59  Garage Type      1938 non-null   object \n",
      " 60  Garage Yr Blt    1937 non-null   float64\n",
      " 61  Garage Finish    1937 non-null   object \n",
      " 62  Garage Cars      2050 non-null   float64\n",
      " 63  Garage Area      2050 non-null   float64\n",
      " 64  Garage Qual      1937 non-null   object \n",
      " 65  Garage Cond      1937 non-null   object \n",
      " 66  Paved Drive      2051 non-null   object \n",
      " 67  Wood Deck SF     2051 non-null   int64  \n",
      " 68  Open Porch SF    2051 non-null   int64  \n",
      " 69  Enclosed Porch   2051 non-null   int64  \n",
      " 70  3Ssn Porch       2051 non-null   int64  \n",
      " 71  Screen Porch     2051 non-null   int64  \n",
      " 72  Pool Area        2051 non-null   int64  \n",
      " 73  Pool QC          9 non-null      object \n",
      " 74  Fence            400 non-null    object \n",
      " 75  Misc Feature     65 non-null     object \n",
      " 76  Misc Val         2051 non-null   int64  \n",
      " 77  Mo Sold          2051 non-null   int64  \n",
      " 78  Yr Sold          2051 non-null   int64  \n",
      " 79  Sale Type        2051 non-null   object \n",
      " 80  SalePrice        2051 non-null   int64  \n",
      "dtypes: float64(11), int64(28), object(42)\n",
      "memory usage: 1.3+ MB\n"
     ]
    }
   ],
   "source": [
    "# check all column nulls and data types\n",
    "ames.info()"
   ]
  },
  {
   "cell_type": "markdown",
   "id": "ab409230-ddf9-4d98-8312-54d4cf44f624",
   "metadata": {},
   "source": [
    "Before doing any cleanup of this data, it's best to change all column names to `snake case` format.  Not having spaces makes it easier to pick and navigate.<br>\n",
    "As there are 81 columns, the `fix_col_names()` function will be used to assist with the name changes."
   ]
  },
  {
   "cell_type": "code",
   "execution_count": 19,
   "id": "b0923a98-d45b-4312-a7d8-bb7ada55187f",
   "metadata": {},
   "outputs": [],
   "source": [
    "# get column names\n",
    "columns = fix_col_names(ames.columns.tolist())\n",
    "# columns << checked dictionary output, it looks good.  Suppressed because of length."
   ]
  },
  {
   "cell_type": "code",
   "execution_count": 20,
   "id": "035b7924-590d-4a7d-ab5b-46a964ddbf83",
   "metadata": {
    "tags": []
   },
   "outputs": [],
   "source": [
    "# change column names\n",
    "ames.rename(columns = columns, inplace = True)"
   ]
  },
  {
   "cell_type": "code",
   "execution_count": 21,
   "id": "2edc48e0-09a6-42ca-b27b-c9364afd909c",
   "metadata": {
    "tags": []
   },
   "outputs": [
    {
     "name": "stdout",
     "output_type": "stream",
     "text": [
      "<class 'pandas.core.frame.DataFrame'>\n",
      "RangeIndex: 2051 entries, 0 to 2050\n",
      "Data columns (total 81 columns):\n",
      " #   Column           Non-Null Count  Dtype  \n",
      "---  ------           --------------  -----  \n",
      " 0   id               2051 non-null   int64  \n",
      " 1   pid              2051 non-null   int64  \n",
      " 2   ms_subclass      2051 non-null   int64  \n",
      " 3   ms_zoning        2051 non-null   object \n",
      " 4   lot_frontage     1721 non-null   float64\n",
      " 5   lot_area         2051 non-null   int64  \n",
      " 6   street           2051 non-null   object \n",
      " 7   alley            140 non-null    object \n",
      " 8   lot_shape        2051 non-null   object \n",
      " 9   land_contour     2051 non-null   object \n",
      " 10  utilities        2051 non-null   object \n",
      " 11  lot_config       2051 non-null   object \n",
      " 12  land_slope       2051 non-null   object \n",
      " 13  neighborhood     2051 non-null   object \n",
      " 14  condition_1      2051 non-null   object \n",
      " 15  condition_2      2051 non-null   object \n",
      " 16  bldg_type        2051 non-null   object \n",
      " 17  house_style      2051 non-null   object \n",
      " 18  overall_qual     2051 non-null   int64  \n",
      " 19  overall_cond     2051 non-null   int64  \n",
      " 20  year_built       2051 non-null   int64  \n",
      " 21  year_remod/add   2051 non-null   int64  \n",
      " 22  roof_style       2051 non-null   object \n",
      " 23  roof_matl        2051 non-null   object \n",
      " 24  exterior_1st     2051 non-null   object \n",
      " 25  exterior_2nd     2051 non-null   object \n",
      " 26  mas_vnr_type     811 non-null    object \n",
      " 27  mas_vnr_area     2029 non-null   float64\n",
      " 28  exter_qual       2051 non-null   object \n",
      " 29  exter_cond       2051 non-null   object \n",
      " 30  foundation       2051 non-null   object \n",
      " 31  bsmt_qual        1996 non-null   object \n",
      " 32  bsmt_cond        1996 non-null   object \n",
      " 33  bsmt_exposure    1993 non-null   object \n",
      " 34  bsmtfin_type_1   1996 non-null   object \n",
      " 35  bsmtfin_sf_1     2050 non-null   float64\n",
      " 36  bsmtfin_type_2   1995 non-null   object \n",
      " 37  bsmtfin_sf_2     2050 non-null   float64\n",
      " 38  bsmt_unf_sf      2050 non-null   float64\n",
      " 39  total_bsmt_sf    2050 non-null   float64\n",
      " 40  heating          2051 non-null   object \n",
      " 41  heating_qc       2051 non-null   object \n",
      " 42  central_air      2051 non-null   object \n",
      " 43  electrical       2051 non-null   object \n",
      " 44  1st_flr_sf       2051 non-null   int64  \n",
      " 45  2nd_flr_sf       2051 non-null   int64  \n",
      " 46  low_qual_fin_sf  2051 non-null   int64  \n",
      " 47  gr_liv_area      2051 non-null   int64  \n",
      " 48  bsmt_full_bath   2049 non-null   float64\n",
      " 49  bsmt_half_bath   2049 non-null   float64\n",
      " 50  full_bath        2051 non-null   int64  \n",
      " 51  half_bath        2051 non-null   int64  \n",
      " 52  bedroom_abvgr    2051 non-null   int64  \n",
      " 53  kitchen_abvgr    2051 non-null   int64  \n",
      " 54  kitchen_qual     2051 non-null   object \n",
      " 55  totrms_abvgrd    2051 non-null   int64  \n",
      " 56  functional       2051 non-null   object \n",
      " 57  fireplaces       2051 non-null   int64  \n",
      " 58  fireplace_qu     1051 non-null   object \n",
      " 59  garage_type      1938 non-null   object \n",
      " 60  garage_yr_blt    1937 non-null   float64\n",
      " 61  garage_finish    1937 non-null   object \n",
      " 62  garage_cars      2050 non-null   float64\n",
      " 63  garage_area      2050 non-null   float64\n",
      " 64  garage_qual      1937 non-null   object \n",
      " 65  garage_cond      1937 non-null   object \n",
      " 66  paved_drive      2051 non-null   object \n",
      " 67  wood_deck_sf     2051 non-null   int64  \n",
      " 68  open_porch_sf    2051 non-null   int64  \n",
      " 69  enclosed_porch   2051 non-null   int64  \n",
      " 70  3ssn_porch       2051 non-null   int64  \n",
      " 71  screen_porch     2051 non-null   int64  \n",
      " 72  pool_area        2051 non-null   int64  \n",
      " 73  pool_qc          9 non-null      object \n",
      " 74  fence            400 non-null    object \n",
      " 75  misc_feature     65 non-null     object \n",
      " 76  misc_val         2051 non-null   int64  \n",
      " 77  mo_sold          2051 non-null   int64  \n",
      " 78  yr_sold          2051 non-null   int64  \n",
      " 79  sale_type        2051 non-null   object \n",
      " 80  saleprice        2051 non-null   int64  \n",
      "dtypes: float64(11), int64(28), object(42)\n",
      "memory usage: 1.3+ MB\n"
     ]
    }
   ],
   "source": [
    "# check nulls and data types again, as well as column names\n",
    "ames.info()"
   ]
  },
  {
   "cell_type": "markdown",
   "id": "e4262feb-176c-4792-83c9-1bc6d40e5fff",
   "metadata": {},
   "source": [
    "All column names are now correctly formatted in `snake case`.  Next check the missing values for columns as needed. Then, if the data type needs to be modified, do so immediately after addressing missing values."
   ]
  },
  {
   "cell_type": "markdown",
   "id": "0c0a4c17-a1a1-48a2-88a7-9260031c975d",
   "metadata": {},
   "source": [
    "---\n",
    "**Missing Values**<br>\n",
    "Column: `lot_frontage`<br>\n",
    "Continuous data column, so its data type is correct."
   ]
  },
  {
   "cell_type": "code",
   "execution_count": 24,
   "id": "76b92509-9ec3-43f5-874f-e015bb4a54d1",
   "metadata": {
    "tags": []
   },
   "outputs": [
    {
     "data": {
      "text/plain": [
       "array([nan])"
      ]
     },
     "execution_count": 24,
     "metadata": {},
     "output_type": "execute_result"
    }
   ],
   "source": [
    "# check missing values, are they all NaN?\n",
    "ames[ames['lot_frontage'].isnull()]['lot_frontage'].unique()"
   ]
  },
  {
   "cell_type": "markdown",
   "id": "82779857-51a8-4fb6-9e6f-2ee12a36dadb",
   "metadata": {},
   "source": [
    "All 330 missing values in this column are NaN."
   ]
  },
  {
   "cell_type": "code",
   "execution_count": 26,
   "id": "cfc5e108-e300-4ba5-8d68-dfaa3e0b33e8",
   "metadata": {
    "tags": []
   },
   "outputs": [
    {
     "name": "stdout",
     "output_type": "stream",
     "text": [
      "Missing percentage: 16.09; Rows: 330\n"
     ]
    },
    {
     "data": {
      "text/plain": [
       "count    1721.000000\n",
       "mean       69.055200\n",
       "std        23.260653\n",
       "min        21.000000\n",
       "25%        58.000000\n",
       "50%        68.000000\n",
       "75%        80.000000\n",
       "max       313.000000\n",
       "Name: lot_frontage, dtype: float64"
      ]
     },
     "execution_count": 26,
     "metadata": {},
     "output_type": "execute_result"
    }
   ],
   "source": [
    "# statistics about this column\n",
    "nulls_pct(ames, 'lot_frontage')\n",
    "ames['lot_frontage'].describe()"
   ]
  },
  {
   "cell_type": "markdown",
   "id": "fe3f1c02-febe-4bdc-8e00-db940bab3e77",
   "metadata": {},
   "source": [
    "The mean and the median for the available values are very close to each other.  For the first iteration of this analysis and predictive model, let's fill the missing values with the mean value."
   ]
  },
  {
   "cell_type": "code",
   "execution_count": 28,
   "id": "3c76c02a-47ba-4647-bea6-415d00242e47",
   "metadata": {
    "tags": []
   },
   "outputs": [],
   "source": [
    "# replace NaNs with mean value (69.06)\n",
    "indexes = ames[ames['lot_frontage'].isnull()].index.tolist()\n",
    "ames.loc[indexes, 'lot_frontage'] = 69.06"
   ]
  },
  {
   "cell_type": "code",
   "execution_count": 29,
   "id": "44c7d43a-3d61-470f-a117-3c6d5c7060c5",
   "metadata": {
    "tags": []
   },
   "outputs": [
    {
     "name": "stdout",
     "output_type": "stream",
     "text": [
      "Missing percentage: 0.0; Rows: 0\n"
     ]
    },
    {
     "data": {
      "text/plain": [
       "count    2051.000000\n",
       "mean       69.055973\n",
       "std        21.306357\n",
       "min        21.000000\n",
       "25%        60.000000\n",
       "50%        69.060000\n",
       "75%        78.000000\n",
       "max       313.000000\n",
       "Name: lot_frontage, dtype: float64"
      ]
     },
     "execution_count": 29,
     "metadata": {},
     "output_type": "execute_result"
    }
   ],
   "source": [
    "# confirm change\n",
    "nulls_pct(ames, 'lot_frontage')\n",
    "ames['lot_frontage'].describe()"
   ]
  },
  {
   "cell_type": "markdown",
   "id": "aecc5ae1-e8a9-47a6-97b7-9531639cdb55",
   "metadata": {},
   "source": [
    "All NaN values successfully replaced."
   ]
  },
  {
   "cell_type": "markdown",
   "id": "dadc5b91-6bd0-40cb-941a-a84018f6e9df",
   "metadata": {},
   "source": [
    "---\n",
    "Column: `alley`<br>\n",
    "Nonimal data."
   ]
  },
  {
   "cell_type": "code",
   "execution_count": 32,
   "id": "cd783e02-9f2e-471b-8abe-f8cb198b4475",
   "metadata": {
    "tags": []
   },
   "outputs": [
    {
     "name": "stdout",
     "output_type": "stream",
     "text": [
      "Missing percentage: 93.17; Rows: 1911\n"
     ]
    },
    {
     "data": {
      "text/plain": [
       "alley\n",
       "NaN     1911\n",
       "Grvl      85\n",
       "Pave      55\n",
       "Name: count, dtype: int64"
      ]
     },
     "execution_count": 32,
     "metadata": {},
     "output_type": "execute_result"
    }
   ],
   "source": [
    "# check value counts\n",
    "nulls_pct(ames, 'alley')\n",
    "ames['alley'].value_counts(dropna = False)"
   ]
  },
  {
   "cell_type": "markdown",
   "id": "66e6b14d-3b66-4b25-ac34-c09bf1440fee",
   "metadata": {},
   "source": [
    "Per data dictionary, this is an nominal column with three possibilities: `Grvl` for Gravel, `Pave` for Paved or `NA` for No alley access. It is safe to assume that `NA` is what's driving all the `NaN` values.<br>\n",
    "All these rows need to be changed to `No_Alley`."
   ]
  },
  {
   "cell_type": "code",
   "execution_count": 34,
   "id": "34e07c8b-0363-423c-8509-c406a93dd196",
   "metadata": {
    "tags": []
   },
   "outputs": [
    {
     "name": "stdout",
     "output_type": "stream",
     "text": [
      "Missing percentage: 0.0; Rows: 0\n"
     ]
    },
    {
     "data": {
      "text/plain": [
       "alley\n",
       "No_Alley    1911\n",
       "Grvl          85\n",
       "Pave          55\n",
       "Name: count, dtype: int64"
      ]
     },
     "execution_count": 34,
     "metadata": {},
     "output_type": "execute_result"
    }
   ],
   "source": [
    "# make the change\n",
    "indexes = ames[ames['alley'].isnull()].index.tolist()\n",
    "ames.loc[indexes, 'alley'] = 'No_Alley'\n",
    "\n",
    "# confirm change\n",
    "nulls_pct(ames, 'alley')\n",
    "ames['alley'].value_counts()"
   ]
  },
  {
   "cell_type": "markdown",
   "id": "c9f7c377-27dc-4f77-bfe0-8da485b517df",
   "metadata": {
    "tags": []
   },
   "source": [
    "All `NaN` rows successfully addressed."
   ]
  },
  {
   "cell_type": "markdown",
   "id": "34975b59-429c-4759-990e-2cc710c9a62c",
   "metadata": {},
   "source": [
    "---\n",
    "Column: `mas_vnr_type`<br>\n",
    "Nonimal data."
   ]
  },
  {
   "cell_type": "code",
   "execution_count": 37,
   "id": "269406f9-24b5-4d20-b284-3afa3b9e868a",
   "metadata": {
    "tags": []
   },
   "outputs": [
    {
     "name": "stdout",
     "output_type": "stream",
     "text": [
      "Missing percentage: 60.46; Rows: 1240\n"
     ]
    },
    {
     "data": {
      "text/plain": [
       "mas_vnr_type\n",
       "NaN        1240\n",
       "BrkFace     630\n",
       "Stone       168\n",
       "BrkCmn       13\n",
       "Name: count, dtype: int64"
      ]
     },
     "execution_count": 37,
     "metadata": {},
     "output_type": "execute_result"
    }
   ],
   "source": [
    "# check value counts\n",
    "nulls_pct(ames, 'mas_vnr_type')\n",
    "ames['mas_vnr_type'].value_counts(dropna = False)"
   ]
  },
  {
   "cell_type": "markdown",
   "id": "4b7d9b71-2990-4b42-a054-ec89a6eb5d1a",
   "metadata": {},
   "source": [
    "Per data dictionary, this is a nominal column with five possible values: `BrkCmn` for Brick Common, `BrkFace` for Brick Face, `CBlock` for Cinder Block, `None` for None and `Stone` for Stone.  This is another case where it might be safe to assume that all values for `None` are driving `nulls`.<br>\n",
    "These rows should be changed to `NoMsn` (no masonry)."
   ]
  },
  {
   "cell_type": "code",
   "execution_count": 39,
   "id": "52033d87-5a4d-4703-847d-6dcf99d2c0e4",
   "metadata": {
    "tags": []
   },
   "outputs": [],
   "source": [
    "# make the change\n",
    "indexes = ames[ames['mas_vnr_type'].isnull()].index.tolist()\n",
    "ames.loc[indexes, 'mas_vnr_type'] = 'NoMsn'"
   ]
  },
  {
   "cell_type": "code",
   "execution_count": 40,
   "id": "bf938b9d-8b90-4974-ab5a-9d6eb86c0899",
   "metadata": {
    "tags": []
   },
   "outputs": [
    {
     "name": "stdout",
     "output_type": "stream",
     "text": [
      "Missing percentage: 0.0; Rows: 0\n"
     ]
    },
    {
     "data": {
      "text/plain": [
       "mas_vnr_type\n",
       "NoMsn      1240\n",
       "BrkFace     630\n",
       "Stone       168\n",
       "BrkCmn       13\n",
       "Name: count, dtype: int64"
      ]
     },
     "execution_count": 40,
     "metadata": {},
     "output_type": "execute_result"
    }
   ],
   "source": [
    "# confirm change\n",
    "nulls_pct(ames, 'mas_vnr_type')\n",
    "ames['mas_vnr_type'].value_counts()"
   ]
  },
  {
   "cell_type": "markdown",
   "id": "1d2b80dd-d69d-4625-b888-f1d38784def5",
   "metadata": {},
   "source": [
    "All `NaN` rows successfully addressed."
   ]
  },
  {
   "cell_type": "markdown",
   "id": "774bdc27-4d3f-4ddc-9907-d8be625f5da4",
   "metadata": {},
   "source": [
    "---\n",
    "Column: `mas_vnr_area`<br>\n",
    "Continuous data."
   ]
  },
  {
   "cell_type": "code",
   "execution_count": 43,
   "id": "b2de00e6-6199-4f73-a365-91bc0b0aec88",
   "metadata": {
    "tags": []
   },
   "outputs": [
    {
     "data": {
      "text/plain": [
       "array([nan])"
      ]
     },
     "execution_count": 43,
     "metadata": {},
     "output_type": "execute_result"
    }
   ],
   "source": [
    "# check missing values, all NaN?\n",
    "ames[ames['mas_vnr_area'].isnull()]['mas_vnr_area'].unique()"
   ]
  },
  {
   "cell_type": "markdown",
   "id": "ccb35293-a390-4605-a4fc-6f088a05c88e",
   "metadata": {},
   "source": [
    "All 22 values are `NaN`."
   ]
  },
  {
   "cell_type": "code",
   "execution_count": 45,
   "id": "1641e0fe-1d43-40db-b329-f7136a53da55",
   "metadata": {
    "tags": []
   },
   "outputs": [
    {
     "name": "stdout",
     "output_type": "stream",
     "text": [
      "Missing percentage: 1.07; Rows: 22\n"
     ]
    },
    {
     "data": {
      "text/plain": [
       "count    2029.000000\n",
       "mean       99.695909\n",
       "std       174.963129\n",
       "min         0.000000\n",
       "25%         0.000000\n",
       "50%         0.000000\n",
       "75%       161.000000\n",
       "max      1600.000000\n",
       "Name: mas_vnr_area, dtype: float64"
      ]
     },
     "execution_count": 45,
     "metadata": {},
     "output_type": "execute_result"
    }
   ],
   "source": [
    "# column statistics\n",
    "nulls_pct(ames, 'mas_vnr_area')\n",
    "ames['mas_vnr_area'].describe()"
   ]
  },
  {
   "cell_type": "markdown",
   "id": "dfb5b9ec-7eeb-4f6f-a7fe-3d66a9d9368e",
   "metadata": {
    "tags": []
   },
   "source": [
    "Most rows have a value of 0.00 for this column.  Since there are just 22 rows with missing values, check the value of those rows under the `mas_vnr_type` column.  If the value is `NoMsn` then convert this row's value to 0.00."
   ]
  },
  {
   "cell_type": "code",
   "execution_count": 47,
   "id": "7197daa0-fb8e-460f-8599-3f892a46767b",
   "metadata": {
    "tags": []
   },
   "outputs": [
    {
     "data": {
      "text/plain": [
       "mas_vnr_type\n",
       "NoMsn    22\n",
       "Name: count, dtype: int64"
      ]
     },
     "execution_count": 47,
     "metadata": {},
     "output_type": "execute_result"
    }
   ],
   "source": [
    "# check against 'mas_vnr_type' column\n",
    "ames[ames['mas_vnr_area'].isnull()]['mas_vnr_type'].value_counts()"
   ]
  },
  {
   "cell_type": "code",
   "execution_count": 48,
   "id": "3d1b6f96-d30c-467d-8c29-e74a21926cd5",
   "metadata": {
    "tags": []
   },
   "outputs": [],
   "source": [
    "# change all missing values on 'mas_vnr_area' to 0\n",
    "indexes = ames[ames['mas_vnr_area'].isnull()].index.tolist()\n",
    "ames.loc[indexes, 'mas_vnr_area'] = 0.0"
   ]
  },
  {
   "cell_type": "code",
   "execution_count": 49,
   "id": "18cbfd4e-ff41-43d4-bead-6ea86808a552",
   "metadata": {
    "tags": []
   },
   "outputs": [
    {
     "name": "stdout",
     "output_type": "stream",
     "text": [
      "Missing percentage: 0.0; Rows: 0\n"
     ]
    },
    {
     "data": {
      "text/plain": [
       "count    2051.000000\n",
       "mean       98.626524\n",
       "std       174.324690\n",
       "min         0.000000\n",
       "25%         0.000000\n",
       "50%         0.000000\n",
       "75%       159.000000\n",
       "max      1600.000000\n",
       "Name: mas_vnr_area, dtype: float64"
      ]
     },
     "execution_count": 49,
     "metadata": {},
     "output_type": "execute_result"
    }
   ],
   "source": [
    "# confirm change\n",
    "nulls_pct(ames, 'mas_vnr_area')\n",
    "ames['mas_vnr_area'].describe()"
   ]
  },
  {
   "cell_type": "markdown",
   "id": "6d666fad-f49f-419c-8f21-e79af4543c0a",
   "metadata": {},
   "source": [
    "All missing values successfully addressed."
   ]
  },
  {
   "cell_type": "markdown",
   "id": "503a9474-868c-424c-b7a4-62560afd900a",
   "metadata": {},
   "source": [
    "---\n",
    "Column: `bsmt_qual`<br>\n",
    "Ordinal data."
   ]
  },
  {
   "cell_type": "code",
   "execution_count": 52,
   "id": "4486e678-0052-4c06-8de4-a5ae6e215cd4",
   "metadata": {
    "tags": []
   },
   "outputs": [
    {
     "name": "stdout",
     "output_type": "stream",
     "text": [
      "Missing percentage: 2.68; Rows: 55\n"
     ]
    },
    {
     "data": {
      "text/plain": [
       "bsmt_qual\n",
       "TA     887\n",
       "Gd     864\n",
       "Ex     184\n",
       "Fa      60\n",
       "NaN     55\n",
       "Po       1\n",
       "Name: count, dtype: int64"
      ]
     },
     "execution_count": 52,
     "metadata": {},
     "output_type": "execute_result"
    }
   ],
   "source": [
    "# check value counts\n",
    "nulls_pct(ames, 'bsmt_qual')\n",
    "ames['bsmt_qual'].value_counts(dropna = False)"
   ]
  },
  {
   "cell_type": "markdown",
   "id": "28c642fb-8334-4e44-99ba-e39ce2cff7f0",
   "metadata": {},
   "source": [
    "Per data dictionary this is ordinal data, where the five possible values are `Ex` for Excellent, `Gd` for Good, `TA` for Typical, `Fa` for Fair, `Po` for Poor and `NA` for No Basement.  Based on these ordinal categories, it may be safe to assume that the No Basement category is what's driving the `NaN` values.<br>\n",
    "Change all 55 `NaN` values on this column to '`Nb`."
   ]
  },
  {
   "cell_type": "code",
   "execution_count": 54,
   "id": "24ee442b-0ddc-4ed2-b224-30568bbd0ddd",
   "metadata": {
    "tags": []
   },
   "outputs": [],
   "source": [
    "# make the change\n",
    "indexes = ames[ames['bsmt_qual'].isnull()].index.tolist()\n",
    "ames.loc[indexes, 'bsmt_qual'] = 'Nb'"
   ]
  },
  {
   "cell_type": "code",
   "execution_count": 55,
   "id": "cd2547ab-7e66-4816-95dc-58d70b4f411c",
   "metadata": {
    "tags": []
   },
   "outputs": [
    {
     "name": "stdout",
     "output_type": "stream",
     "text": [
      "Missing percentage: 0.0; Rows: 0\n"
     ]
    },
    {
     "data": {
      "text/plain": [
       "bsmt_qual\n",
       "TA    887\n",
       "Gd    864\n",
       "Ex    184\n",
       "Fa     60\n",
       "Nb     55\n",
       "Po      1\n",
       "Name: count, dtype: int64"
      ]
     },
     "execution_count": 55,
     "metadata": {},
     "output_type": "execute_result"
    }
   ],
   "source": [
    "# confirm change\n",
    "nulls_pct(ames, 'bsmt_qual')\n",
    "ames['bsmt_qual'].value_counts()"
   ]
  },
  {
   "cell_type": "markdown",
   "id": "aed70e8e-852c-41ea-997c-3ea31173411e",
   "metadata": {},
   "source": [
    "All `NaN` values successfully changed to `Nb`"
   ]
  },
  {
   "cell_type": "markdown",
   "id": "fce56529-21da-4b8e-ad83-ad6ba1879d5b",
   "metadata": {},
   "source": [
    "---\n",
    "Column: `bsmt_cond` <br>\n",
    "Ordinal data."
   ]
  },
  {
   "cell_type": "code",
   "execution_count": 58,
   "id": "e959cb45-cb5d-4a21-a2c3-ee58e4369184",
   "metadata": {
    "tags": []
   },
   "outputs": [
    {
     "name": "stdout",
     "output_type": "stream",
     "text": [
      "Missing percentage: 2.68; Rows: 55\n"
     ]
    },
    {
     "data": {
      "text/plain": [
       "bsmt_cond\n",
       "TA     1834\n",
       "Gd       89\n",
       "Fa       65\n",
       "NaN      55\n",
       "Po        5\n",
       "Ex        3\n",
       "Name: count, dtype: int64"
      ]
     },
     "execution_count": 58,
     "metadata": {},
     "output_type": "execute_result"
    }
   ],
   "source": [
    "# check value counts\n",
    "nulls_pct(ames, 'bsmt_cond')\n",
    "ames['bsmt_cond'].value_counts(dropna = False)"
   ]
  },
  {
   "cell_type": "markdown",
   "id": "e8539758-0bce-4494-a2f2-7128ea62651b",
   "metadata": {},
   "source": [
    "This is exactly the same situation as the `bsmt_qual` column.  Take same approach and change all `NaN` values to `Nb`."
   ]
  },
  {
   "cell_type": "code",
   "execution_count": 60,
   "id": "2ac4f0b7-b146-4855-9da7-9cd91a77e94f",
   "metadata": {
    "tags": []
   },
   "outputs": [],
   "source": [
    "# make the change\n",
    "indexes = ames[ames['bsmt_cond'].isnull()].index.tolist()\n",
    "ames.loc[indexes, 'bsmt_cond'] = 'Nb'"
   ]
  },
  {
   "cell_type": "code",
   "execution_count": 61,
   "id": "fe53f424-621c-4b1e-96c7-5aef9106a494",
   "metadata": {
    "tags": []
   },
   "outputs": [
    {
     "name": "stdout",
     "output_type": "stream",
     "text": [
      "Missing percentage: 0.0; Rows: 0\n"
     ]
    },
    {
     "data": {
      "text/plain": [
       "bsmt_cond\n",
       "TA    1834\n",
       "Gd      89\n",
       "Fa      65\n",
       "Nb      55\n",
       "Po       5\n",
       "Ex       3\n",
       "Name: count, dtype: int64"
      ]
     },
     "execution_count": 61,
     "metadata": {},
     "output_type": "execute_result"
    }
   ],
   "source": [
    "# confirm change\n",
    "nulls_pct(ames, 'bsmt_cond')\n",
    "ames['bsmt_cond'].value_counts()"
   ]
  },
  {
   "cell_type": "markdown",
   "id": "788c8444-4a54-43a5-97e5-7c3a9ae2e7d5",
   "metadata": {
    "tags": []
   },
   "source": [
    "All `Nan` values successfully changed to `Nb`."
   ]
  },
  {
   "cell_type": "markdown",
   "id": "7e194e87-fabe-42eb-8cd3-be48c41e2700",
   "metadata": {},
   "source": [
    "---\n",
    "Column: `bsmt_exposure` <br>\n",
    "Ordinal data."
   ]
  },
  {
   "cell_type": "code",
   "execution_count": 64,
   "id": "437af49d-7d12-4890-9fd2-2176ada38e28",
   "metadata": {
    "tags": []
   },
   "outputs": [
    {
     "name": "stdout",
     "output_type": "stream",
     "text": [
      "Missing percentage: 2.83; Rows: 58\n"
     ]
    },
    {
     "data": {
      "text/plain": [
       "bsmt_exposure\n",
       "No     1339\n",
       "Av      288\n",
       "Gd      203\n",
       "Mn      163\n",
       "NaN      58\n",
       "Name: count, dtype: int64"
      ]
     },
     "execution_count": 64,
     "metadata": {},
     "output_type": "execute_result"
    }
   ],
   "source": [
    "# check value counts\n",
    "nulls_pct(ames, 'bsmt_exposure')\n",
    "ames['bsmt_exposure'].value_counts(dropna = False)"
   ]
  },
  {
   "cell_type": "markdown",
   "id": "c8402e25-0450-4af5-8011-b40bfe837fd5",
   "metadata": {},
   "source": [
    "Per data dictionary this column has ordinal data, where the the five possible values are `Gd` for Good Exposure, `Av` for Average Exposure, `Mn` for Minimum Exposure, `No` for No Exposure and `NA` for No Basement.  Per the observed pattern in previous columns with similar data, it is safely assumed that the `NA` categories are driving the `NaN`.<br>\n",
    "Change all rows with `NaN` values to `Nb` (No Basemement)."
   ]
  },
  {
   "cell_type": "code",
   "execution_count": 66,
   "id": "cc939058-1df7-4165-a0b7-f41ab83358cd",
   "metadata": {
    "tags": []
   },
   "outputs": [],
   "source": [
    "# make the change\n",
    "indexes = ames[ames['bsmt_exposure'].isnull()].index.tolist()\n",
    "ames.loc[indexes, 'bsmt_exposure'] = 'Nb'"
   ]
  },
  {
   "cell_type": "code",
   "execution_count": 67,
   "id": "69282a90-0773-4a3a-8e39-f22174fdf361",
   "metadata": {
    "tags": []
   },
   "outputs": [
    {
     "name": "stdout",
     "output_type": "stream",
     "text": [
      "Missing percentage: 0.0; Rows: 0\n"
     ]
    },
    {
     "data": {
      "text/plain": [
       "bsmt_exposure\n",
       "No    1339\n",
       "Av     288\n",
       "Gd     203\n",
       "Mn     163\n",
       "Nb      58\n",
       "Name: count, dtype: int64"
      ]
     },
     "execution_count": 67,
     "metadata": {},
     "output_type": "execute_result"
    }
   ],
   "source": [
    "# confirm change\n",
    "nulls_pct(ames, 'bsmt_exposure')\n",
    "ames['bsmt_exposure'].value_counts()"
   ]
  },
  {
   "cell_type": "markdown",
   "id": "b6291d21-5744-4909-a458-83aba07cb4d9",
   "metadata": {},
   "source": [
    "All 58 `NaN` values were successfully changed to `Nb`."
   ]
  },
  {
   "cell_type": "markdown",
   "id": "8ceff271-ce07-4584-bc4a-bd3609615447",
   "metadata": {},
   "source": [
    "---\n",
    "Column: `bsmtfin_type_1`<br>\n",
    "Ordinal data."
   ]
  },
  {
   "cell_type": "code",
   "execution_count": 70,
   "id": "0e6556ab-9385-41a4-b77a-ecc093f1e47c",
   "metadata": {
    "tags": []
   },
   "outputs": [
    {
     "name": "stdout",
     "output_type": "stream",
     "text": [
      "Missing percentage: 2.68; Rows: 55\n"
     ]
    },
    {
     "data": {
      "text/plain": [
       "bsmtfin_type_1\n",
       "GLQ    615\n",
       "Unf    603\n",
       "ALQ    293\n",
       "BLQ    200\n",
       "Rec    183\n",
       "LwQ    102\n",
       "NaN     55\n",
       "Name: count, dtype: int64"
      ]
     },
     "execution_count": 70,
     "metadata": {},
     "output_type": "execute_result"
    }
   ],
   "source": [
    "# check value counts\n",
    "nulls_pct(ames, 'bsmtfin_type_1')\n",
    "ames['bsmtfin_type_1'].value_counts(dropna =  False)"
   ]
  },
  {
   "cell_type": "markdown",
   "id": "7e36207f-2aa6-41b4-862b-beef778e43e5",
   "metadata": {},
   "source": [
    "Per the data dictionary, this column is made up of ordinal data.  It takes on seven possible values, where `GLQ` is for Good Living Quarters, `ALQ` is for Average Living Quarters, `BLQ` is for Below Average Living Quarters, `Rec` is for Average Rec Room, `LwQ` is for Low Quality, `Unf` is for Unfinished and `NA` is for No Basement.<br>\n",
    "As previous similar examples, it is safely assumed that the 55 `NaN` values are driven by the `NA` category.  Change all 55 values to `Nb`."
   ]
  },
  {
   "cell_type": "code",
   "execution_count": 72,
   "id": "b7219bd3-3a2b-4c9b-aa38-63992631776e",
   "metadata": {
    "tags": []
   },
   "outputs": [],
   "source": [
    "# make the change\n",
    "indexes = ames[ames['bsmtfin_type_1'].isnull()].index.tolist()\n",
    "ames.loc[indexes, 'bsmtfin_type_1'] = 'Nb'"
   ]
  },
  {
   "cell_type": "code",
   "execution_count": 73,
   "id": "bb99ccd7-5130-4f97-8f94-b8c6bad6dae6",
   "metadata": {
    "tags": []
   },
   "outputs": [
    {
     "name": "stdout",
     "output_type": "stream",
     "text": [
      "Missing percentage: 0.0; Rows: 0\n"
     ]
    },
    {
     "data": {
      "text/plain": [
       "bsmtfin_type_1\n",
       "GLQ    615\n",
       "Unf    603\n",
       "ALQ    293\n",
       "BLQ    200\n",
       "Rec    183\n",
       "LwQ    102\n",
       "Nb      55\n",
       "Name: count, dtype: int64"
      ]
     },
     "execution_count": 73,
     "metadata": {},
     "output_type": "execute_result"
    }
   ],
   "source": [
    "# confirm change\n",
    "nulls_pct(ames, 'bsmtfin_type_1')\n",
    "ames['bsmtfin_type_1'].value_counts()"
   ]
  },
  {
   "cell_type": "markdown",
   "id": "67b8c823-4ef6-415c-a632-60c93a7f5216",
   "metadata": {},
   "source": [
    "All `NaN` values successfully changed to `Nb`."
   ]
  },
  {
   "cell_type": "markdown",
   "id": "fc99ff50-1fff-498d-8d8c-1e76f5299d85",
   "metadata": {},
   "source": [
    "---\n",
    "Column: `bsmtfin_sf_1`<br>\n",
    "Continuous data."
   ]
  },
  {
   "cell_type": "code",
   "execution_count": 76,
   "id": "33d718e1-b779-42ce-8294-21ca2c130905",
   "metadata": {
    "tags": []
   },
   "outputs": [
    {
     "name": "stdout",
     "output_type": "stream",
     "text": [
      "Missing percentage: 0.05; Rows: 1\n"
     ]
    },
    {
     "data": {
      "text/plain": [
       "count    2050.000000\n",
       "mean      442.300488\n",
       "std       461.204124\n",
       "min         0.000000\n",
       "25%         0.000000\n",
       "50%       368.000000\n",
       "75%       733.750000\n",
       "max      5644.000000\n",
       "Name: bsmtfin_sf_1, dtype: float64"
      ]
     },
     "execution_count": 76,
     "metadata": {},
     "output_type": "execute_result"
    }
   ],
   "source": [
    "# column statistics\n",
    "nulls_pct(ames, 'bsmtfin_sf_1')\n",
    "ames['bsmtfin_sf_1'].describe()"
   ]
  },
  {
   "cell_type": "markdown",
   "id": "a0da131c-3a3f-42aa-9cbc-1f48a3119c95",
   "metadata": {},
   "source": [
    "Only one row is missing a value. Check row to see if this property has a basement or not."
   ]
  },
  {
   "cell_type": "code",
   "execution_count": 78,
   "id": "43c311a8-8f3f-4bd3-a36c-a9c4e2a8b8b1",
   "metadata": {
    "tags": []
   },
   "outputs": [
    {
     "data": {
      "text/plain": [
       "1327    Nb\n",
       "Name: bsmt_qual, dtype: object"
      ]
     },
     "execution_count": 78,
     "metadata": {},
     "output_type": "execute_result"
    }
   ],
   "source": [
    "# inspect row\n",
    "ames[ames['bsmtfin_sf_1'].isnull()]['bsmt_qual']"
   ]
  },
  {
   "cell_type": "markdown",
   "id": "2c7cb63d-0659-4a4d-a830-76efd2b97d97",
   "metadata": {},
   "source": [
    "This property has no basement.  Change missing value to 0.0.  Row index is 1327."
   ]
  },
  {
   "cell_type": "code",
   "execution_count": 80,
   "id": "bf367c8c-b783-4aa3-b2f6-6cd39ef496de",
   "metadata": {
    "tags": []
   },
   "outputs": [],
   "source": [
    "# make change\n",
    "ames.loc[1327, 'bsmtfin_sf_1'] = 0.0"
   ]
  },
  {
   "cell_type": "code",
   "execution_count": 81,
   "id": "7b013d97-919d-490d-a6f7-07e4dee2c39c",
   "metadata": {
    "tags": []
   },
   "outputs": [
    {
     "name": "stdout",
     "output_type": "stream",
     "text": [
      "Missing percentage: 0.0; Rows: 0\n"
     ]
    },
    {
     "data": {
      "text/plain": [
       "count    2051.000000\n",
       "mean      442.084837\n",
       "std       461.195041\n",
       "min         0.000000\n",
       "25%         0.000000\n",
       "50%       368.000000\n",
       "75%       733.500000\n",
       "max      5644.000000\n",
       "Name: bsmtfin_sf_1, dtype: float64"
      ]
     },
     "execution_count": 81,
     "metadata": {},
     "output_type": "execute_result"
    }
   ],
   "source": [
    "# confirm change\n",
    "nulls_pct(ames, 'bsmtfin_sf_1')\n",
    "ames['bsmtfin_sf_1'].describe()"
   ]
  },
  {
   "cell_type": "markdown",
   "id": "c64d0f35-45d0-4b09-a264-95df5e21c7dd",
   "metadata": {},
   "source": [
    "Missing value successfully changed to 0.0"
   ]
  },
  {
   "cell_type": "markdown",
   "id": "11d10e54-d5b8-4bad-bcd6-2c3d35ffc94c",
   "metadata": {},
   "source": [
    "---\n",
    "Column: `bsmtfin_type_2`<br>\n",
    "Ordinal data."
   ]
  },
  {
   "cell_type": "code",
   "execution_count": 84,
   "id": "f7e07706-c79a-4b9b-9a7e-ede69249db8f",
   "metadata": {
    "tags": []
   },
   "outputs": [
    {
     "name": "stdout",
     "output_type": "stream",
     "text": [
      "Missing percentage: 2.73; Rows: 56\n"
     ]
    },
    {
     "data": {
      "text/plain": [
       "bsmtfin_type_2\n",
       "Unf    1749\n",
       "Rec      80\n",
       "LwQ      60\n",
       "NaN      56\n",
       "BLQ      48\n",
       "ALQ      35\n",
       "GLQ      23\n",
       "Name: count, dtype: int64"
      ]
     },
     "execution_count": 84,
     "metadata": {},
     "output_type": "execute_result"
    }
   ],
   "source": [
    "# check value counts\n",
    "nulls_pct(ames, 'bsmtfin_type_2')\n",
    "ames['bsmtfin_type_2'].value_counts(dropna = False)"
   ]
  },
  {
   "cell_type": "markdown",
   "id": "08c16135-7654-4c5d-9170-dc916eb03e06",
   "metadata": {},
   "source": [
    "Per data dictionary, this column takes on the same seven ordinal values as column `bsmtfin_type_1`.  Follow the same approach and change all `NaN` values to `Nb`."
   ]
  },
  {
   "cell_type": "code",
   "execution_count": 86,
   "id": "b1da12dd-c6b6-42ce-9986-5af903cba0ee",
   "metadata": {
    "tags": []
   },
   "outputs": [],
   "source": [
    "# make the change\n",
    "indexes = ames[ames['bsmtfin_type_2'].isnull()].index.tolist()\n",
    "ames.loc[indexes, 'bsmtfin_type_2'] = 'Nb'"
   ]
  },
  {
   "cell_type": "code",
   "execution_count": 87,
   "id": "3f20d18a-a079-4767-a8ec-75663e161bf9",
   "metadata": {
    "tags": []
   },
   "outputs": [
    {
     "name": "stdout",
     "output_type": "stream",
     "text": [
      "Missing percentage: 0.0; Rows: 0\n"
     ]
    },
    {
     "data": {
      "text/plain": [
       "bsmtfin_type_2\n",
       "Unf    1749\n",
       "Rec      80\n",
       "LwQ      60\n",
       "Nb       56\n",
       "BLQ      48\n",
       "ALQ      35\n",
       "GLQ      23\n",
       "Name: count, dtype: int64"
      ]
     },
     "execution_count": 87,
     "metadata": {},
     "output_type": "execute_result"
    }
   ],
   "source": [
    "# confirm change\n",
    "nulls_pct(ames, 'bsmtfin_type_2')\n",
    "ames['bsmtfin_type_2'].value_counts()"
   ]
  },
  {
   "cell_type": "markdown",
   "id": "4e5113ea-25a4-4f0f-afe1-8f56f78bf598",
   "metadata": {},
   "source": [
    "All `NaN` rows successfully changed to `Nb`."
   ]
  },
  {
   "cell_type": "markdown",
   "id": "9f330d69-7527-4ab6-b717-a72ae28eeae9",
   "metadata": {},
   "source": [
    "---\n",
    "Column: `bsmtfin_sf_2`<br>\n",
    "Continuous data."
   ]
  },
  {
   "cell_type": "code",
   "execution_count": 90,
   "id": "dc7e2812-6299-4326-b692-63d97f4e3cae",
   "metadata": {
    "tags": []
   },
   "outputs": [
    {
     "name": "stdout",
     "output_type": "stream",
     "text": [
      "Missing percentage: 0.05; Rows: 1\n"
     ]
    },
    {
     "data": {
      "text/plain": [
       "nan"
      ]
     },
     "execution_count": 90,
     "metadata": {},
     "output_type": "execute_result"
    }
   ],
   "source": [
    "# check row index 1327, it was nan for bsmtfin_sf_1\n",
    "nulls_pct(ames, 'bsmtfin_sf_2')\n",
    "ames.loc[1327,'bsmtfin_sf_2']"
   ]
  },
  {
   "cell_type": "code",
   "execution_count": 91,
   "id": "eff068f0-8153-4ee9-a30a-c01293254317",
   "metadata": {
    "tags": []
   },
   "outputs": [],
   "source": [
    "# as suspected, change to 0.0, the property on that row has no basement\n",
    "ames.loc[1327, 'bsmtfin_sf_2'] = 0.0"
   ]
  },
  {
   "cell_type": "code",
   "execution_count": 92,
   "id": "1370c891-b037-4dfa-b8c1-2807e7d93fe7",
   "metadata": {
    "tags": []
   },
   "outputs": [
    {
     "name": "stdout",
     "output_type": "stream",
     "text": [
      "Missing percentage: 0.0; Rows: 0\n"
     ]
    },
    {
     "data": {
      "text/plain": [
       "count    2051.000000\n",
       "mean       47.935641\n",
       "std       164.964052\n",
       "min         0.000000\n",
       "25%         0.000000\n",
       "50%         0.000000\n",
       "75%         0.000000\n",
       "max      1474.000000\n",
       "Name: bsmtfin_sf_2, dtype: float64"
      ]
     },
     "execution_count": 92,
     "metadata": {},
     "output_type": "execute_result"
    }
   ],
   "source": [
    "# confirm change\n",
    "nulls_pct(ames, 'bsmtfin_sf_2')\n",
    "ames['bsmtfin_sf_2'].describe()"
   ]
  },
  {
   "cell_type": "markdown",
   "id": "47583b0a-a10a-49b7-8194-23c1bb15f556",
   "metadata": {},
   "source": [
    "`NaN` value successfully changed to 0.0"
   ]
  },
  {
   "cell_type": "markdown",
   "id": "d85e10e3-b03a-4cfa-b9f7-70f3056d111a",
   "metadata": {},
   "source": [
    "---\n",
    "Columns: `bsmt_unf_sf` and `total_bsmt_sf`.<br>\n",
    "Continuous data.<br>\n",
    "From intial run of `ames.info()` several cells back, it was noted that these two columns have just one missing value. Check row index 1327 for both columns as this property has no basement.  If `NaN`, then change to 0.0."
   ]
  },
  {
   "cell_type": "code",
   "execution_count": 95,
   "id": "b5690a31-85bb-4d82-b317-68e4cafbe4fa",
   "metadata": {
    "tags": []
   },
   "outputs": [
    {
     "data": {
      "text/plain": [
       "bsmt_unf_sf      NaN\n",
       "total_bsmt_sf    NaN\n",
       "Name: 1327, dtype: object"
      ]
     },
     "execution_count": 95,
     "metadata": {},
     "output_type": "execute_result"
    }
   ],
   "source": [
    "ames.loc[1327,['bsmt_unf_sf', 'total_bsmt_sf']]"
   ]
  },
  {
   "cell_type": "code",
   "execution_count": 96,
   "id": "01905bae-3be2-4115-a301-ef37853ba65f",
   "metadata": {
    "tags": []
   },
   "outputs": [],
   "source": [
    "# make the changes\n",
    "ames.loc[1327,['bsmt_unf_sf', 'total_bsmt_sf']] = 0.0"
   ]
  },
  {
   "cell_type": "code",
   "execution_count": 97,
   "id": "7203d3ee-54e1-4b6d-8f94-954d9f0b7c73",
   "metadata": {
    "tags": []
   },
   "outputs": [
    {
     "name": "stdout",
     "output_type": "stream",
     "text": [
      "Missing percentage: 0.0; Rows: 0\n",
      "Missing percentage: 0.0; Rows: 0\n"
     ]
    },
    {
     "data": {
      "text/plain": [
       "bsmt_unf_sf      0.0\n",
       "total_bsmt_sf    0.0\n",
       "Name: 1327, dtype: object"
      ]
     },
     "execution_count": 97,
     "metadata": {},
     "output_type": "execute_result"
    }
   ],
   "source": [
    "# confirm the changes\n",
    "nulls_pct(ames, 'bsmt_unf_sf')\n",
    "nulls_pct(ames, 'total_bsmt_sf')\n",
    "ames.loc[1327,['bsmt_unf_sf', 'total_bsmt_sf']]"
   ]
  },
  {
   "cell_type": "markdown",
   "id": "227f0ea8-3633-45ab-a662-9c020f318242",
   "metadata": {},
   "source": [
    "Both `NaN` values successfully changed to 0.0"
   ]
  },
  {
   "cell_type": "markdown",
   "id": "fbbf3393-79a6-4133-ae90-bb644d7748a7",
   "metadata": {},
   "source": [
    "---\n",
    "Column: `bsmt_full_bath`<br>\n",
    "Discrete data."
   ]
  },
  {
   "cell_type": "code",
   "execution_count": 100,
   "id": "d518b103-579e-40b1-9f95-6d63817d7ae6",
   "metadata": {
    "tags": []
   },
   "outputs": [
    {
     "name": "stdout",
     "output_type": "stream",
     "text": [
      "Missing percentage: 0.1; Rows: 2\n"
     ]
    },
    {
     "data": {
      "text/plain": [
       "bsmt_full_bath\n",
       "0.0    1200\n",
       "1.0     824\n",
       "2.0      23\n",
       "NaN       2\n",
       "3.0       2\n",
       "Name: count, dtype: int64"
      ]
     },
     "execution_count": 100,
     "metadata": {},
     "output_type": "execute_result"
    }
   ],
   "source": [
    "# check value counts\n",
    "nulls_pct(ames, 'bsmt_full_bath')\n",
    "ames['bsmt_full_bath'].value_counts(dropna = False)"
   ]
  },
  {
   "cell_type": "code",
   "execution_count": 101,
   "id": "55b036a8-96e3-4aee-b390-85c91a4715e3",
   "metadata": {
    "tags": []
   },
   "outputs": [
    {
     "data": {
      "text/plain": [
       "616     Nb\n",
       "1327    Nb\n",
       "Name: bsmt_qual, dtype: object"
      ]
     },
     "execution_count": 101,
     "metadata": {},
     "output_type": "execute_result"
    }
   ],
   "source": [
    "# check against col 'bsmt_qual'\n",
    "ames[ames['bsmt_full_bath'].isnull()]['bsmt_qual']"
   ]
  },
  {
   "cell_type": "markdown",
   "id": "6127bf24-c87e-42be-8e75-8c0801ca630d",
   "metadata": {},
   "source": [
    "These two properties have no basement, therefore change `bsmt_full_bath` values to 0.0"
   ]
  },
  {
   "cell_type": "code",
   "execution_count": 103,
   "id": "2a40ecbe-715c-4109-b949-232587416db6",
   "metadata": {
    "tags": []
   },
   "outputs": [],
   "source": [
    "# make the changes\n",
    "indexes = ames[ames['bsmt_full_bath'].isnull()]['bsmt_qual'].index.tolist()\n",
    "ames.loc[indexes, 'bsmt_full_bath'] = 0.0"
   ]
  },
  {
   "cell_type": "code",
   "execution_count": 104,
   "id": "f29fed46-ef24-4a1b-9dc7-832e34b67273",
   "metadata": {
    "tags": []
   },
   "outputs": [
    {
     "name": "stdout",
     "output_type": "stream",
     "text": [
      "Missing percentage: 0.0; Rows: 0\n"
     ]
    },
    {
     "data": {
      "text/plain": [
       "bsmt_full_bath\n",
       "0.0    1202\n",
       "1.0     824\n",
       "2.0      23\n",
       "3.0       2\n",
       "Name: count, dtype: int64"
      ]
     },
     "execution_count": 104,
     "metadata": {},
     "output_type": "execute_result"
    }
   ],
   "source": [
    "# confirm change\n",
    "nulls_pct(ames, 'bsmt_full_bath')\n",
    "ames['bsmt_full_bath'].value_counts()"
   ]
  },
  {
   "cell_type": "markdown",
   "id": "670b4300-da38-4c85-9565-91c437f79a11",
   "metadata": {},
   "source": [
    "Column successfully cleaned."
   ]
  },
  {
   "cell_type": "markdown",
   "id": "15399f87-f358-4018-9dd2-b4d2832c5d74",
   "metadata": {},
   "source": [
    "---\n",
    "Column: `bsmt_half_bath`<br>\n",
    "Discrete data.<br>\n",
    "Check row indexes 616 and 1327 as these two properties have no basement.  If `NaN`, then change to 0.0"
   ]
  },
  {
   "cell_type": "code",
   "execution_count": 107,
   "id": "a01ede10-8b5d-4f26-a944-5662f8191279",
   "metadata": {
    "tags": []
   },
   "outputs": [
    {
     "data": {
      "text/plain": [
       "616    NaN\n",
       "1327   NaN\n",
       "Name: bsmt_half_bath, dtype: float64"
      ]
     },
     "execution_count": 107,
     "metadata": {},
     "output_type": "execute_result"
    }
   ],
   "source": [
    "# check two rows, same indexes as previous cell\n",
    "ames.loc[indexes, 'bsmt_half_bath']"
   ]
  },
  {
   "cell_type": "code",
   "execution_count": 108,
   "id": "2438ebad-f3fb-4b9d-8ee2-60c79698b707",
   "metadata": {
    "tags": []
   },
   "outputs": [
    {
     "name": "stdout",
     "output_type": "stream",
     "text": [
      "Missing percentage: 0.0; Rows: 0\n"
     ]
    },
    {
     "data": {
      "text/plain": [
       "bsmt_half_bath\n",
       "0.0    1925\n",
       "1.0     122\n",
       "2.0       4\n",
       "Name: count, dtype: int64"
      ]
     },
     "execution_count": 108,
     "metadata": {},
     "output_type": "execute_result"
    }
   ],
   "source": [
    "# make the changes\n",
    "ames.loc[indexes, 'bsmt_half_bath'] = 0.0\n",
    "\n",
    "# confirm changes\n",
    "nulls_pct(ames, 'bsmt_half_bath')\n",
    "ames['bsmt_half_bath'].value_counts()"
   ]
  },
  {
   "cell_type": "markdown",
   "id": "46af09f9-9e04-4690-bc4c-0e327f084c32",
   "metadata": {},
   "source": [
    "Column successfully cleaned."
   ]
  },
  {
   "cell_type": "markdown",
   "id": "58005702-e587-408e-949b-0a47c64a4a5b",
   "metadata": {},
   "source": [
    "---\n",
    "Column: `fireplace_qu`<br>\n",
    "Ordinal data."
   ]
  },
  {
   "cell_type": "code",
   "execution_count": 111,
   "id": "4f76c7ce-4c2f-4546-9674-db5bdad99db2",
   "metadata": {
    "tags": []
   },
   "outputs": [
    {
     "name": "stdout",
     "output_type": "stream",
     "text": [
      "Missing percentage: 48.76; Rows: 1000\n"
     ]
    },
    {
     "data": {
      "text/plain": [
       "fireplace_qu\n",
       "NaN    1000\n",
       "Gd      523\n",
       "TA      407\n",
       "Fa       59\n",
       "Po       31\n",
       "Ex       31\n",
       "Name: count, dtype: int64"
      ]
     },
     "execution_count": 111,
     "metadata": {},
     "output_type": "execute_result"
    }
   ],
   "source": [
    "# check value counts\n",
    "nulls_pct(ames, 'fireplace_qu')\n",
    "ames['fireplace_qu'].value_counts(dropna = False)"
   ]
  },
  {
   "cell_type": "markdown",
   "id": "0a473bd8-09f9-41bd-bf22-46b4459d19dc",
   "metadata": {},
   "source": [
    "Per the data dictionary, this ordinal column takes on six different values, where `Ex` is for Excellent..., `Gd` is for Good..., `TA` is for Average..., `Fa` is for Fair..., `Po` is for Poor... and `NA` is for No Fireplace.<br>\n",
    "Based on the patterns observed thus far, it is safe to assume that the `NA` label is what's likely driving all the `NaN` values.  Change them to `Nf`."
   ]
  },
  {
   "cell_type": "code",
   "execution_count": 113,
   "id": "c68acbfc-111c-41ac-8018-8d7c4bf17de4",
   "metadata": {
    "tags": []
   },
   "outputs": [],
   "source": [
    "# make the change\n",
    "indexes = ames[ames['fireplace_qu'].isnull()].index.tolist()\n",
    "ames.loc[indexes,'fireplace_qu'] = 'Nf'"
   ]
  },
  {
   "cell_type": "code",
   "execution_count": 114,
   "id": "cde5402f-25bf-471d-884e-137e89257e4e",
   "metadata": {
    "tags": []
   },
   "outputs": [
    {
     "name": "stdout",
     "output_type": "stream",
     "text": [
      "Missing percentage: 0.0; Rows: 0\n"
     ]
    },
    {
     "data": {
      "text/plain": [
       "fireplace_qu\n",
       "Nf    1000\n",
       "Gd     523\n",
       "TA     407\n",
       "Fa      59\n",
       "Po      31\n",
       "Ex      31\n",
       "Name: count, dtype: int64"
      ]
     },
     "execution_count": 114,
     "metadata": {},
     "output_type": "execute_result"
    }
   ],
   "source": [
    "# confirm changes\n",
    "nulls_pct(ames, 'fireplace_qu')\n",
    "ames['fireplace_qu'].value_counts()"
   ]
  },
  {
   "cell_type": "markdown",
   "id": "9e46a04a-c931-4de3-b12c-96195fa21903",
   "metadata": {},
   "source": [
    "All rows successfully cleaned."
   ]
  },
  {
   "cell_type": "markdown",
   "id": "e3ba26b8-c31c-464d-831a-cac59f58f69b",
   "metadata": {},
   "source": [
    "---\n",
    "Column: `garage_type`<br>\n",
    "Nominal data."
   ]
  },
  {
   "cell_type": "code",
   "execution_count": 117,
   "id": "ecc4f28d-83a5-4ee8-bfde-5cd5bb4b49f2",
   "metadata": {
    "tags": []
   },
   "outputs": [
    {
     "name": "stdout",
     "output_type": "stream",
     "text": [
      "Missing percentage: 5.51; Rows: 113\n"
     ]
    },
    {
     "data": {
      "text/plain": [
       "garage_type\n",
       "Attchd     1213\n",
       "Detchd      536\n",
       "BuiltIn     132\n",
       "NaN         113\n",
       "Basment      27\n",
       "2Types       19\n",
       "CarPort      11\n",
       "Name: count, dtype: int64"
      ]
     },
     "execution_count": 117,
     "metadata": {},
     "output_type": "execute_result"
    }
   ],
   "source": [
    "# check value counts\n",
    "nulls_pct(ames, 'garage_type')\n",
    "ames['garage_type'].value_counts(dropna = False)"
   ]
  },
  {
   "cell_type": "markdown",
   "id": "d3b79ef6-3cc3-4c36-8d5f-9673ed149a9e",
   "metadata": {},
   "source": [
    "Per the data dictionary, this nominal column can take on seven different categories, where `2Types` is for properties with more than one type of garage, `Attchd` is for Attached to home, `Basment` is for Basement Garage, `BuiltIn` is for for the garage being part of the house, `CarPort` is for Car Ports, `Detchd` is for Detached from home and `NA` is for No Garage.<br>\n",
    "The pattern repeats, it is safe to assume that the `NA` label is likely driving the `NaN` values, therefore change all these rows to `Ng`."
   ]
  },
  {
   "cell_type": "code",
   "execution_count": 119,
   "id": "4457874c-0c2c-4fc8-86a1-305d08c2f070",
   "metadata": {
    "tags": []
   },
   "outputs": [],
   "source": [
    "# make the changes\n",
    "indexes = ames[ames['garage_type'].isnull()].index.tolist()\n",
    "ames.loc[indexes, 'garage_type'] = 'Ng'"
   ]
  },
  {
   "cell_type": "code",
   "execution_count": 120,
   "id": "32c82885-bbc0-419d-a2f2-5353650d7fae",
   "metadata": {
    "tags": []
   },
   "outputs": [
    {
     "name": "stdout",
     "output_type": "stream",
     "text": [
      "Missing percentage: 0.0; Rows: 0\n"
     ]
    },
    {
     "data": {
      "text/plain": [
       "garage_type\n",
       "Attchd     1213\n",
       "Detchd      536\n",
       "BuiltIn     132\n",
       "Ng          113\n",
       "Basment      27\n",
       "2Types       19\n",
       "CarPort      11\n",
       "Name: count, dtype: int64"
      ]
     },
     "execution_count": 120,
     "metadata": {},
     "output_type": "execute_result"
    }
   ],
   "source": [
    "# confirm changes\n",
    "nulls_pct(ames, 'garage_type')\n",
    "ames['garage_type'].value_counts()"
   ]
  },
  {
   "cell_type": "markdown",
   "id": "6fb5cd13-679c-4051-8415-b5048fe345bf",
   "metadata": {},
   "source": [
    "All rows successfully cleaned."
   ]
  },
  {
   "cell_type": "markdown",
   "id": "d05aca0e-142a-4ed7-8643-5bb3274fbc4d",
   "metadata": {},
   "source": [
    "---\n",
    "Column: `garage_yr_blt` and `garage_finish`<br>\n",
    "Discrete and ordinal data respectively."
   ]
  },
  {
   "cell_type": "code",
   "execution_count": 123,
   "id": "ce5bab00-5a06-4052-82c2-26ef986e2a7c",
   "metadata": {
    "tags": []
   },
   "outputs": [
    {
     "name": "stdout",
     "output_type": "stream",
     "text": [
      "Missing percentage: 5.56; Rows: 114\n"
     ]
    },
    {
     "data": {
      "text/plain": [
       "garage_yr_blt\n",
       "NaN       114\n",
       "2005.0    105\n",
       "2007.0     84\n",
       "2006.0     80\n",
       "2004.0     72\n",
       "         ... \n",
       "1918.0      1\n",
       "2207.0      1\n",
       "1933.0      1\n",
       "1895.0      1\n",
       "1919.0      1\n",
       "Name: count, Length: 101, dtype: int64"
      ]
     },
     "execution_count": 123,
     "metadata": {},
     "output_type": "execute_result"
    }
   ],
   "source": [
    "# check value counts for garage_yr_blt\n",
    "nulls_pct(ames, 'garage_yr_blt')\n",
    "ames['garage_yr_blt'].value_counts(dropna = False)"
   ]
  },
  {
   "cell_type": "code",
   "execution_count": 227,
   "id": "2523ec34-96e8-4311-801a-04946c7399dc",
   "metadata": {
    "tags": []
   },
   "outputs": [
    {
     "name": "stdout",
     "output_type": "stream",
     "text": [
      "[1900.0, 1916.0, 1920.0, 1924.0, 1930.0, 1931.0, 1935.0, 1937.0, 1939.0, 1949.0, 1951.0, 1952.0, 1953.0, 1954.0, 1955.0, 1956.0, 1957.0, 1958.0, 1959.0, 1960.0, 1961.0, 1963.0, 1964.0, 1965.0, 1966.0, 1968.0, 1969.0, 1971.0, 1972.0, 1973.0, 1976.0, 1977.0, 1978.0, 1979.0, 1981.0, 1986.0, 1992.0, 1994.0, 1995.0, 1996.0, 1997.0, 1999.0, 2000.0, 2001.0, 2003.0, 2004.0, 2005.0, 2006.0, 2007.0, 2009.0, nan, 1895.0, 1896.0, 1910.0, 1914.0, 1915.0, 1917.0, 1918.0, 1919.0, 1921.0, 1922.0, 1923.0, 1925.0, 1926.0, 1927.0, 1928.0, 1929.0, 1932.0, 1933.0, 1934.0, 1936.0, 1938.0, 1940.0, 1941.0, 1942.0, 1945.0, 1946.0, 1947.0, 1948.0, 1950.0, 1962.0, 1967.0, 1970.0, 1974.0, 1975.0, 1980.0, 1982.0, 1983.0, 1984.0, 1985.0, 1987.0, 1988.0, 1989.0, 1990.0, 1991.0, 1993.0, 1998.0, 2002.0, 2008.0, 2010.0, 2207.0]\n"
     ]
    }
   ],
   "source": [
    "# check all unique year values\n",
    "print(sorted(ames['garage_yr_blt'].unique()))"
   ]
  },
  {
   "cell_type": "markdown",
   "id": "08e90c27-f7ec-410f-a5cb-95e72b8710d0",
   "metadata": {},
   "source": [
    "These years are listed as floats, convert to integers.  Also, look into rows for which the year is **2207**."
   ]
  },
  {
   "cell_type": "code",
   "execution_count": 124,
   "id": "f0c77242-2b99-47ab-8d4c-ac3903658330",
   "metadata": {
    "tags": []
   },
   "outputs": [
    {
     "name": "stdout",
     "output_type": "stream",
     "text": [
      "Missing percentage: 5.56; Rows: 114\n"
     ]
    },
    {
     "data": {
      "text/plain": [
       "garage_finish\n",
       "Unf    849\n",
       "RFn    579\n",
       "Fin    509\n",
       "NaN    114\n",
       "Name: count, dtype: int64"
      ]
     },
     "execution_count": 124,
     "metadata": {},
     "output_type": "execute_result"
    }
   ],
   "source": [
    "# check value counts for garage_finish\n",
    "nulls_pct(ames, 'garage_finish')\n",
    "ames['garage_finish'].value_counts(dropna = False"
   ]
  },
  {
   "cell_type": "markdown",
   "id": "bb7a61ca-09bb-48f6-bbce-a328fea01f2f",
   "metadata": {},
   "source": [
    "Both columns have the same number of missing values.  But, since `garage_finsh` takes on four distinct ordinal values, it makes sense to fix this column first, because it may help with fixing `garage_yr_blt`.<br>\n",
    "The possible categories for `garage_finish` are `Fin` for Finished, `RFn` for Rough Finished, `Unf` for Unfinished and `NA` for No Garage.  Per the observed pattern on this dataset, it is safe to assume that all `NaN` values in the `garage_finish` column are likely driven by the label `NA`.  Change these values to `Ng` (No Garage)."
   ]
  },
  {
   "cell_type": "code",
   "execution_count": 126,
   "id": "4d3aa0de-41e3-4e72-98cb-2078adb7e4b8",
   "metadata": {
    "tags": []
   },
   "outputs": [],
   "source": [
    "# make changes\n",
    "indexes = ames[ames['garage_finish'].isnull()].index.tolist()\n",
    "ames.loc[indexes, 'garage_finish'] = 'Ng'"
   ]
  },
  {
   "cell_type": "code",
   "execution_count": 127,
   "id": "a1bc4090-3123-4eb7-9183-a696a9d20f69",
   "metadata": {
    "tags": []
   },
   "outputs": [
    {
     "name": "stdout",
     "output_type": "stream",
     "text": [
      "Missing percentage: 0.0; Rows: 0\n"
     ]
    },
    {
     "data": {
      "text/plain": [
       "garage_finish\n",
       "Unf    849\n",
       "RFn    579\n",
       "Fin    509\n",
       "Ng     114\n",
       "Name: count, dtype: int64"
      ]
     },
     "execution_count": 127,
     "metadata": {},
     "output_type": "execute_result"
    }
   ],
   "source": [
    "# confirm changes\n",
    "nulls_pct(ames, 'garage_finish')\n",
    "ames['garage_finish'].value_counts()"
   ]
  },
  {
   "cell_type": "markdown",
   "id": "e4271bd4-1600-45fc-84c9-3e4d974ad119",
   "metadata": {},
   "source": [
    "All values successfully changed to `Ng`.  Now compare the current indexes with the indexes for `NaN` in the `garage_yr_blt` column to see if they are the same 114 rows."
   ]
  },
  {
   "cell_type": "code",
   "execution_count": 129,
   "id": "1cf0b9fa-4823-4530-ad5e-ae3f2b803099",
   "metadata": {
    "tags": []
   },
   "outputs": [
    {
     "data": {
      "text/plain": [
       "True"
      ]
     },
     "execution_count": 129,
     "metadata": {},
     "output_type": "execute_result"
    }
   ],
   "source": [
    "# compare indexes\n",
    "ames[ames['garage_yr_blt'].isnull()].index.tolist() == indexes # the indexes variable has the most recent indexes from 'garage_finish'"
   ]
  },
  {
   "cell_type": "markdown",
   "id": "299e9617-5124-42b1-b5db-f838eaa91836",
   "metadata": {},
   "source": [
    "The rows match.  However, this column stores year values in four-digit format, since these rows are for properties that have no garages, change all `NaN` cells to 9999 as integer."
   ]
  },
  {
   "cell_type": "code",
   "execution_count": 236,
   "id": "d6ee22dd-6879-4662-8126-8656891c3899",
   "metadata": {
    "tags": []
   },
   "outputs": [],
   "source": [
    "# make changes\n",
    "ames.loc[indexes, 'garage_yr_blt'] = 9999"
   ]
  },
  {
   "cell_type": "code",
   "execution_count": 238,
   "id": "1d8aa874-bae4-4c69-90e8-2dec38e5ccbc",
   "metadata": {
    "tags": []
   },
   "outputs": [
    {
     "name": "stdout",
     "output_type": "stream",
     "text": [
      "Missing percentage: 0.0; Rows: 0\n"
     ]
    },
    {
     "data": {
      "text/plain": [
       "garage_yr_blt\n",
       "9999.0    114\n",
       "2005.0    105\n",
       "2007.0     84\n",
       "2006.0     80\n",
       "2004.0     72\n",
       "         ... \n",
       "1918.0      1\n",
       "2207.0      1\n",
       "1933.0      1\n",
       "1895.0      1\n",
       "1919.0      1\n",
       "Name: count, Length: 101, dtype: int64"
      ]
     },
     "execution_count": 238,
     "metadata": {},
     "output_type": "execute_result"
    }
   ],
   "source": [
    "# confirm changes\n",
    "nulls_pct(ames, 'garage_yr_blt')\n",
    "ames['garage_yr_blt'].value_counts()"
   ]
  },
  {
   "cell_type": "markdown",
   "id": "81223781-51d3-4afc-a3d6-b0bf01c1649b",
   "metadata": {},
   "source": [
    "All rows are successfully changed to 9999.  Now convert all year values to integers."
   ]
  },
  {
   "cell_type": "code",
   "execution_count": 249,
   "id": "686f8242-b5a2-49e9-a6af-461225353098",
   "metadata": {
    "tags": []
   },
   "outputs": [
    {
     "data": {
      "text/plain": [
       "722     9999\n",
       "114     9999\n",
       "120     9999\n",
       "457     9999\n",
       "1814    9999\n",
       "        ... \n",
       "12      1900\n",
       "217     1900\n",
       "520     1900\n",
       "410     1896\n",
       "1793    1895\n",
       "Name: garage_yr_blt, Length: 2051, dtype: int32"
      ]
     },
     "execution_count": 249,
     "metadata": {},
     "output_type": "execute_result"
    }
   ],
   "source": [
    "ames['garage_yr_blt'] = ames['garage_yr_blt'].astype(int)\n",
    "# confirm change\n",
    "ames['garage_yr_blt'].sort_values(ascending = False)"
   ]
  },
  {
   "cell_type": "markdown",
   "id": "00536d94-0d61-4671-b890-df0d0c198629",
   "metadata": {},
   "source": [
    "All years are now integers.  Next, investigate row(s) where the year is **2207**."
   ]
  },
  {
   "cell_type": "code",
   "execution_count": 252,
   "id": "c8aaddc8-9ec0-4c28-a56a-6b2bd6f00140",
   "metadata": {
    "tags": []
   },
   "outputs": [
    {
     "data": {
      "text/html": [
       "<div>\n",
       "<style scoped>\n",
       "    .dataframe tbody tr th:only-of-type {\n",
       "        vertical-align: middle;\n",
       "    }\n",
       "\n",
       "    .dataframe tbody tr th {\n",
       "        vertical-align: top;\n",
       "    }\n",
       "\n",
       "    .dataframe thead th {\n",
       "        text-align: right;\n",
       "    }\n",
       "</style>\n",
       "<table border=\"1\" class=\"dataframe\">\n",
       "  <thead>\n",
       "    <tr style=\"text-align: right;\">\n",
       "      <th></th>\n",
       "      <th>id</th>\n",
       "      <th>pid</th>\n",
       "      <th>ms_subclass</th>\n",
       "      <th>ms_zoning</th>\n",
       "      <th>lot_frontage</th>\n",
       "      <th>lot_area</th>\n",
       "      <th>street</th>\n",
       "      <th>alley</th>\n",
       "      <th>lot_shape</th>\n",
       "      <th>land_contour</th>\n",
       "      <th>...</th>\n",
       "      <th>screen_porch</th>\n",
       "      <th>pool_area</th>\n",
       "      <th>pool_qc</th>\n",
       "      <th>fence</th>\n",
       "      <th>misc_feature</th>\n",
       "      <th>misc_val</th>\n",
       "      <th>mo_sold</th>\n",
       "      <th>yr_sold</th>\n",
       "      <th>sale_type</th>\n",
       "      <th>saleprice</th>\n",
       "    </tr>\n",
       "  </thead>\n",
       "  <tbody>\n",
       "    <tr>\n",
       "      <th>1699</th>\n",
       "      <td>2261</td>\n",
       "      <td>916384070</td>\n",
       "      <td>20</td>\n",
       "      <td>RL</td>\n",
       "      <td>68.0</td>\n",
       "      <td>8298</td>\n",
       "      <td>Pave</td>\n",
       "      <td>No_Alley</td>\n",
       "      <td>IR1</td>\n",
       "      <td>HLS</td>\n",
       "      <td>...</td>\n",
       "      <td>0</td>\n",
       "      <td>0</td>\n",
       "      <td>NaN</td>\n",
       "      <td>NaN</td>\n",
       "      <td>NaN</td>\n",
       "      <td>0</td>\n",
       "      <td>9</td>\n",
       "      <td>2007</td>\n",
       "      <td>New</td>\n",
       "      <td>267300</td>\n",
       "    </tr>\n",
       "  </tbody>\n",
       "</table>\n",
       "<p>1 rows × 81 columns</p>\n",
       "</div>"
      ],
      "text/plain": [
       "        id        pid  ms_subclass ms_zoning  lot_frontage  lot_area street  \\\n",
       "1699  2261  916384070           20        RL          68.0      8298   Pave   \n",
       "\n",
       "         alley lot_shape land_contour  ... screen_porch pool_area pool_qc  \\\n",
       "1699  No_Alley       IR1          HLS  ...            0         0     NaN   \n",
       "\n",
       "     fence misc_feature misc_val mo_sold yr_sold  sale_type  saleprice  \n",
       "1699   NaN          NaN        0       9    2007        New     267300  \n",
       "\n",
       "[1 rows x 81 columns]"
      ]
     },
     "execution_count": 252,
     "metadata": {},
     "output_type": "execute_result"
    }
   ],
   "source": [
    "ames[ames['garage_yr_blt'] == 2207]"
   ]
  },
  {
   "cell_type": "markdown",
   "id": "e897c59a-2a72-48c1-b23d-5e2f704f155b",
   "metadata": {},
   "source": [
    "It's only one row.  Check against `year_built` column (original construction date) and assume the garage was also part of the original construction.  Assign that year value to `garage_yr_blt`."
   ]
  },
  {
   "cell_type": "code",
   "execution_count": 257,
   "id": "093ba53a-624c-4175-9305-36972500e146",
   "metadata": {
    "tags": []
   },
   "outputs": [
    {
     "data": {
      "text/plain": [
       "1699    2006\n",
       "Name: year_built, dtype: int64"
      ]
     },
     "execution_count": 257,
     "metadata": {},
     "output_type": "execute_result"
    }
   ],
   "source": [
    "ames[ames['garage_yr_blt'] == 2207]['year_built']"
   ]
  },
  {
   "cell_type": "code",
   "execution_count": 263,
   "id": "7dd146cf-d82d-4be8-8217-7fa46b8a3461",
   "metadata": {
    "tags": []
   },
   "outputs": [
    {
     "data": {
      "text/plain": [
       "2006"
      ]
     },
     "execution_count": 263,
     "metadata": {},
     "output_type": "execute_result"
    }
   ],
   "source": [
    "# assign 2006 to 'garage_yr_blt' column, row index 1699, and confirm\n",
    "ames.loc[1699,'garage_yr_blt'] = 2006\n",
    "ames.loc[1699,'garage_yr_blt']"
   ]
  },
  {
   "cell_type": "code",
   "execution_count": 265,
   "id": "52708966-4903-49fd-93e4-98eb42fde8f8",
   "metadata": {
    "tags": []
   },
   "outputs": [
    {
     "name": "stdout",
     "output_type": "stream",
     "text": [
      "[1895, 1896, 1900, 1910, 1914, 1915, 1916, 1917, 1918, 1919, 1920, 1921, 1922, 1923, 1924, 1925, 1926, 1927, 1928, 1929, 1930, 1931, 1932, 1933, 1934, 1935, 1936, 1937, 1938, 1939, 1940, 1941, 1942, 1945, 1946, 1947, 1948, 1949, 1950, 1951, 1952, 1953, 1954, 1955, 1956, 1957, 1958, 1959, 1960, 1961, 1962, 1963, 1964, 1965, 1966, 1967, 1968, 1969, 1970, 1971, 1972, 1973, 1974, 1975, 1976, 1977, 1978, 1979, 1980, 1981, 1982, 1983, 1984, 1985, 1986, 1987, 1988, 1989, 1990, 1991, 1992, 1993, 1994, 1995, 1996, 1997, 1998, 1999, 2000, 2001, 2002, 2003, 2004, 2005, 2006, 2007, 2008, 2009, 2010, 9999]\n"
     ]
    }
   ],
   "source": [
    "# print unique years again, just to make sure\n",
    "print(sorted(ames['garage_yr_blt'].unique()))"
   ]
  },
  {
   "cell_type": "markdown",
   "id": "0da233b5-3c17-41e1-a961-2057b17c2fef",
   "metadata": {},
   "source": [
    "All rows successfully cleaned."
   ]
  },
  {
   "cell_type": "markdown",
   "id": "cb2fd314-5a4c-4bd4-965e-15270125493c",
   "metadata": {
    "tags": []
   },
   "source": [
    "---\n",
    "Columns: `garage_qual` and `garage_cond`<br>\n",
    "Both ordinal data.<br>"
   ]
  },
  {
   "cell_type": "code",
   "execution_count": 279,
   "id": "e5514e7d-74f2-43fb-9296-cfe2865e966d",
   "metadata": {
    "tags": []
   },
   "outputs": [
    {
     "name": "stdout",
     "output_type": "stream",
     "text": [
      "Missing percentage: 5.56; Rows: 114\n"
     ]
    },
    {
     "data": {
      "text/plain": [
       "garage_qual\n",
       "TA     1832\n",
       "NaN     114\n",
       "Fa       82\n",
       "Gd       18\n",
       "Ex        3\n",
       "Po        2\n",
       "Name: count, dtype: int64"
      ]
     },
     "execution_count": 279,
     "metadata": {},
     "output_type": "execute_result"
    }
   ],
   "source": [
    "# check value counts for 'garage_qual'\n",
    "nulls_pct(ames,'garage_qual')\n",
    "ames['garage_qual'].value_counts(dropna = False)"
   ]
  },
  {
   "cell_type": "code",
   "execution_count": 281,
   "id": "004ed5d8-f506-476c-8fbb-d08f7d3aeed0",
   "metadata": {
    "tags": []
   },
   "outputs": [
    {
     "name": "stdout",
     "output_type": "stream",
     "text": [
      "Missing percentage: 5.56; Rows: 114\n"
     ]
    },
    {
     "data": {
      "text/plain": [
       "garage_cond\n",
       "TA     1868\n",
       "NaN     114\n",
       "Fa       47\n",
       "Gd       12\n",
       "Po        8\n",
       "Ex        2\n",
       "Name: count, dtype: int64"
      ]
     },
     "execution_count": 281,
     "metadata": {},
     "output_type": "execute_result"
    }
   ],
   "source": [
    "# check value counts for 'garage_cond'\n",
    "nulls_pct(ames,'garage_cond')\n",
    "ames['garage_cond'].value_counts(dropna = False)"
   ]
  },
  {
   "cell_type": "markdown",
   "id": "77b97a54-fae2-4eeb-bd8e-bb6bcc64a06c",
   "metadata": {},
   "source": [
    "These two columns have the same number of missing values (114) as `garage_yr_blt` and `garage_finish`.  Since these two columns also deal with garage features, and one of the categories for both is `NA` (No Garage), it is once again assumed that this is what is driving the `NaN` values.  Change all `NA` rows to `Ng`."
   ]
  },
  {
   "cell_type": "code",
   "execution_count": 296,
   "id": "43c35e05-1c21-479c-82fe-c43b5ec99092",
   "metadata": {
    "tags": []
   },
   "outputs": [
    {
     "data": {
      "text/plain": [
       "True"
      ]
     },
     "execution_count": 296,
     "metadata": {},
     "output_type": "execute_result"
    }
   ],
   "source": [
    "# make the changes\n",
    "indexes = ames['garage_qual'].isnull().index.tolist()\n",
    "ames.loc[indexes,'garage_qual'] = 'Ng'\n",
    "\n",
    "ames.loc[indexes,'garage_cond'].isnull().index.tolist() == indexes # if TRUE, use same indexes"
   ]
  },
  {
   "cell_type": "code",
   "execution_count": 298,
   "id": "b7d540c3-bf88-4d37-850f-bbebd7edfa22",
   "metadata": {
    "tags": []
   },
   "outputs": [],
   "source": [
    "# make change\n",
    "ames.loc[indexes, 'garage_cond'] = 'Ng'"
   ]
  },
  {
   "cell_type": "code",
   "execution_count": 302,
   "id": "b4083b26-48b9-47af-8c4f-8c18ced05017",
   "metadata": {
    "tags": []
   },
   "outputs": [
    {
     "name": "stdout",
     "output_type": "stream",
     "text": [
      "Missing percentage: 0.0; Rows: 0\n"
     ]
    },
    {
     "data": {
      "text/plain": [
       "garage_qual\n",
       "Ng    2051\n",
       "Name: count, dtype: int64"
      ]
     },
     "execution_count": 302,
     "metadata": {},
     "output_type": "execute_result"
    }
   ],
   "source": [
    "# confirm changes\n",
    "nulls_pct(ames, 'garage_qual')\n",
    "ames['garage_qual'].value_counts()"
   ]
  },
  {
   "cell_type": "code",
   "execution_count": 304,
   "id": "c70d36fc-479a-4d90-8943-0c9f4608e9da",
   "metadata": {
    "tags": []
   },
   "outputs": [
    {
     "name": "stdout",
     "output_type": "stream",
     "text": [
      "Missing percentage: 0.0; Rows: 0\n"
     ]
    },
    {
     "data": {
      "text/plain": [
       "garage_cond\n",
       "Ng    2051\n",
       "Name: count, dtype: int64"
      ]
     },
     "execution_count": 304,
     "metadata": {},
     "output_type": "execute_result"
    }
   ],
   "source": [
    "# confirm changes\n",
    "nulls_pct(ames, 'garage_cond')\n",
    "ames['garage_cond'].value_counts()"
   ]
  },
  {
   "cell_type": "markdown",
   "id": "3bb61cef-fcb0-45f6-8848-641660357449",
   "metadata": {},
   "source": [
    "All rows successfully cleaned."
   ]
  },
  {
   "cell_type": "markdown",
   "id": "dd28fb95-d380-4ba0-9e68-ad93c7712966",
   "metadata": {},
   "source": [
    "---\n",
    "Column: `garage_cars`<br>\n",
    "Discrete data."
   ]
  },
  {
   "cell_type": "code",
   "execution_count": 308,
   "id": "054c7d3a-8814-4285-b855-a50a9fcbd498",
   "metadata": {
    "tags": []
   },
   "outputs": [
    {
     "name": "stdout",
     "output_type": "stream",
     "text": [
      "Missing percentage: 0.05; Rows: 1\n"
     ]
    },
    {
     "data": {
      "text/plain": [
       "garage_cars\n",
       "2.0    1136\n",
       "1.0     524\n",
       "3.0     263\n",
       "0.0     113\n",
       "4.0      13\n",
       "5.0       1\n",
       "NaN       1\n",
       "Name: count, dtype: int64"
      ]
     },
     "execution_count": 308,
     "metadata": {},
     "output_type": "execute_result"
    }
   ],
   "source": [
    "# check value counts\n",
    "nulls_pct(ames,'garage_cars')\n",
    "ames['garage_cars'].value_counts(dropna = False)"
   ]
  },
  {
   "cell_type": "code",
   "execution_count": 318,
   "id": "1eaa3a50-fd23-48af-9080-bdba7477728f",
   "metadata": {
    "tags": []
   },
   "outputs": [
    {
     "data": {
      "text/plain": [
       "1712    Detchd\n",
       "Name: garage_type, dtype: object"
      ]
     },
     "execution_count": 318,
     "metadata": {},
     "output_type": "execute_result"
    }
   ],
   "source": [
    "# check unique missing value against 'garage_type' col\n",
    "ames[ames['garage_cars'].isnull()]['garage_type']"
   ]
  },
  {
   "cell_type": "markdown",
   "id": "b6336443-aafd-4fe5-91d0-f23f2875fb3c",
   "metadata": {},
   "source": [
    "This property has a detached garage. From previous cells, it was noted the number of properties with datached garages is 536.  Check those rows to see the most prevalent value for `garage_cars`, assign that value to row index 1712. "
   ]
  },
  {
   "cell_type": "code",
   "execution_count": 327,
   "id": "bf23ab90-a4c2-4bb8-b22e-af5c410d9268",
   "metadata": {
    "tags": []
   },
   "outputs": [
    {
     "data": {
      "text/plain": [
       "garage_cars\n",
       "2.0    273\n",
       "1.0    251\n",
       "3.0      8\n",
       "4.0      2\n",
       "5.0      1\n",
       "NaN      1\n",
       "Name: count, dtype: int64"
      ]
     },
     "execution_count": 327,
     "metadata": {},
     "output_type": "execute_result"
    }
   ],
   "source": [
    "ames[ames['garage_type'] == 'Detchd']['garage_cars'].value_counts(dropna = False)"
   ]
  },
  {
   "cell_type": "markdown",
   "id": "492f3b28-858e-4952-891b-aac0f1e1d42c",
   "metadata": {},
   "source": [
    "The most prevalent value is 2, assign that to row index 1712."
   ]
  },
  {
   "cell_type": "code",
   "execution_count": 331,
   "id": "5072819a-8d6b-4225-ab11-e189374d4889",
   "metadata": {
    "tags": []
   },
   "outputs": [],
   "source": [
    "ames.loc[1712, 'garage_cars'] = 2"
   ]
  },
  {
   "cell_type": "code",
   "execution_count": 333,
   "id": "dfa75f24-fd18-48d8-a174-70bb7c0fd3b1",
   "metadata": {
    "tags": []
   },
   "outputs": [
    {
     "name": "stdout",
     "output_type": "stream",
     "text": [
      "Missing percentage: 0.0; Rows: 0\n"
     ]
    },
    {
     "data": {
      "text/plain": [
       "garage_cars\n",
       "2.0    1137\n",
       "1.0     524\n",
       "3.0     263\n",
       "0.0     113\n",
       "4.0      13\n",
       "5.0       1\n",
       "Name: count, dtype: int64"
      ]
     },
     "execution_count": 333,
     "metadata": {},
     "output_type": "execute_result"
    }
   ],
   "source": [
    "# confirm change\n",
    "nulls_pct(ames, 'garage_cars')\n",
    "ames['garage_cars'].value_counts()"
   ]
  },
  {
   "cell_type": "markdown",
   "id": "c1a45942-c241-412d-8953-671f7e1f0db0",
   "metadata": {},
   "source": [
    "All rows successfully cleaned."
   ]
  },
  {
   "cell_type": "markdown",
   "id": "b7272c85-2a08-4370-ad36-cf5b6195151a",
   "metadata": {},
   "source": [
    "---\n",
    "Column: `garage_area`<br>\n",
    "Continuous data."
   ]
  },
  {
   "cell_type": "code",
   "execution_count": 337,
   "id": "65144704-ecd5-4b0b-8002-c469663813dc",
   "metadata": {
    "tags": []
   },
   "outputs": [
    {
     "name": "stdout",
     "output_type": "stream",
     "text": [
      "Missing percentage: 0.05; Rows: 1\n"
     ]
    },
    {
     "data": {
      "text/plain": [
       "count    2050.000000\n",
       "mean      473.671707\n",
       "std       215.934561\n",
       "min         0.000000\n",
       "25%       319.000000\n",
       "50%       480.000000\n",
       "75%       576.000000\n",
       "max      1418.000000\n",
       "Name: garage_area, dtype: float64"
      ]
     },
     "execution_count": 337,
     "metadata": {},
     "output_type": "execute_result"
    }
   ],
   "source": [
    "# check column stats\n",
    "nulls_pct(ames, 'garage_area')\n",
    "ames['garage_area'].describe()"
   ]
  },
  {
   "cell_type": "code",
   "execution_count": 339,
   "id": "9721779e-8e65-4d12-b0bd-e9c5c6d2fb66",
   "metadata": {
    "tags": []
   },
   "outputs": [
    {
     "data": {
      "text/plain": [
       "1712    Detchd\n",
       "Name: garage_type, dtype: object"
      ]
     },
     "execution_count": 339,
     "metadata": {},
     "output_type": "execute_result"
    }
   ],
   "source": [
    "# select row with missing value, check if property has a garage\n",
    "ames[ames['garage_area'].isnull()]['garage_type']"
   ]
  },
  {
   "cell_type": "markdown",
   "id": "53c75c7a-68a5-4ece-a6cc-356baf1790c8",
   "metadata": {},
   "source": [
    "This is the same row from the previous cell, the `garage_cars` column.  A value of 2 was assigned to it. Check the average area of detached garages with 2-car capacity and assign that value to this row, index 1712."
   ]
  },
  {
   "cell_type": "code",
   "execution_count": 391,
   "id": "2299feaa-3991-4164-a2b7-77cef1958086",
   "metadata": {
    "tags": []
   },
   "outputs": [
    {
     "data": {
      "text/plain": [
       "532.7619047619048"
      ]
     },
     "execution_count": 391,
     "metadata": {},
     "output_type": "execute_result"
    }
   ],
   "source": [
    "# get mean area of detached garages with 2 car capacity\n",
    "\n",
    "boolean_mask = (ames['garage_type'] == 'Detchd') & (ames['garage_cars'] == 2)  # << consulted chatgpt to recall this one\n",
    "avg_area = ames.loc[boolean_mask, 'garage_area'].mean()\n",
    "avg_area"
   ]
  },
  {
   "cell_type": "code",
   "execution_count": 394,
   "id": "d3cc64d4-6f55-49f1-978b-bc596f16efec",
   "metadata": {
    "tags": []
   },
   "outputs": [],
   "source": [
    "# make the change\n",
    "ames.loc[1712, 'garage_area'] = avg_area"
   ]
  },
  {
   "cell_type": "code",
   "execution_count": 396,
   "id": "c2d9bf6c-abee-47f4-9299-26cb8304ec6c",
   "metadata": {
    "tags": []
   },
   "outputs": [
    {
     "name": "stdout",
     "output_type": "stream",
     "text": [
      "Missing percentage: 0.0; Rows: 0\n"
     ]
    },
    {
     "data": {
      "text/plain": [
       "count    2051.000000\n",
       "mean      473.700518\n",
       "std       215.885830\n",
       "min         0.000000\n",
       "25%       319.000000\n",
       "50%       480.000000\n",
       "75%       576.000000\n",
       "max      1418.000000\n",
       "Name: garage_area, dtype: float64"
      ]
     },
     "execution_count": 396,
     "metadata": {},
     "output_type": "execute_result"
    }
   ],
   "source": [
    "# confirm change\n",
    "nulls_pct(ames, 'garage_area')\n",
    "ames['garage_area'].describe()"
   ]
  },
  {
   "cell_type": "markdown",
   "id": "f787ec9f-a126-4891-abde-5541f45e5cb6",
   "metadata": {},
   "source": [
    "All rows successfully cleaned."
   ]
  },
  {
   "cell_type": "markdown",
   "id": "3499a3ae-fbfc-4312-866e-d7193e1bc0d2",
   "metadata": {},
   "source": [
    "---\n",
    "Column: `pool_qc`<br>\n",
    "Ordinal data."
   ]
  },
  {
   "cell_type": "code",
   "execution_count": 400,
   "id": "90cff540-c2ba-4c8b-806b-725c0f73a332",
   "metadata": {
    "tags": []
   },
   "outputs": [
    {
     "name": "stdout",
     "output_type": "stream",
     "text": [
      "Missing percentage: 99.56; Rows: 2042\n"
     ]
    },
    {
     "data": {
      "text/plain": [
       "pool_qc\n",
       "NaN    2042\n",
       "Gd        4\n",
       "Fa        2\n",
       "TA        2\n",
       "Ex        1\n",
       "Name: count, dtype: int64"
      ]
     },
     "execution_count": 400,
     "metadata": {},
     "output_type": "execute_result"
    }
   ],
   "source": [
    "# check value counts \n",
    "nulls_pct(ames, 'pool_qc')\n",
    "ames['pool_qc'].value_counts(dropna = False)"
   ]
  },
  {
   "cell_type": "markdown",
   "id": "25ca95e3-9beb-4226-8733-80437324539b",
   "metadata": {},
   "source": [
    "Per the data dictionary, this column can take on five different categories.  They are: `Ex` for Excellent, `Gd` for Good, `TA` for Average/Typical, `Fa` for Fair and `NA` for No Pool.<br>\n",
    "Given the well observed pattern with this data set, it is safely assumed that all `NaN` values are being driven by the `NA` label.  Change all these rows to `Np`."
   ]
  },
  {
   "cell_type": "code",
   "execution_count": 405,
   "id": "41c56984-1be2-4ddf-a56c-48dd689b3424",
   "metadata": {
    "tags": []
   },
   "outputs": [],
   "source": [
    "# make the changes\n",
    "indexes = ames[ames['pool_qc'].isnull()].index.tolist()\n",
    "ames.loc[indexes, 'pool_qc'] = 'Np'"
   ]
  },
  {
   "cell_type": "code",
   "execution_count": 407,
   "id": "f24fd2bc-4377-4194-b70b-c13ca23cf737",
   "metadata": {
    "tags": []
   },
   "outputs": [
    {
     "name": "stdout",
     "output_type": "stream",
     "text": [
      "Missing percentage: 0.0; Rows: 0\n"
     ]
    },
    {
     "data": {
      "text/plain": [
       "pool_qc\n",
       "Np    2042\n",
       "Gd       4\n",
       "Fa       2\n",
       "TA       2\n",
       "Ex       1\n",
       "Name: count, dtype: int64"
      ]
     },
     "execution_count": 407,
     "metadata": {},
     "output_type": "execute_result"
    }
   ],
   "source": [
    "# confirm changes\n",
    "nulls_pct(ames, 'pool_qc')\n",
    "ames['pool_qc'].value_counts()"
   ]
  },
  {
   "cell_type": "markdown",
   "id": "21fdaaef-9c2a-4b96-8b62-fac859713bee",
   "metadata": {},
   "source": [
    "All rows successfully cleaned."
   ]
  },
  {
   "cell_type": "markdown",
   "id": "76cf5c6d-afe7-4d99-80c5-d73d8c679f38",
   "metadata": {},
   "source": [
    "---\n",
    "Column: `fence`<br>\n",
    "Ordinal data."
   ]
  },
  {
   "cell_type": "code",
   "execution_count": 413,
   "id": "be1f7f48-bd16-4829-b798-f827467ebbad",
   "metadata": {
    "tags": []
   },
   "outputs": [
    {
     "name": "stdout",
     "output_type": "stream",
     "text": [
      "Missing percentage: 80.5; Rows: 1651\n"
     ]
    },
    {
     "data": {
      "text/plain": [
       "fence\n",
       "NaN      1651\n",
       "MnPrv     227\n",
       "GdPrv      83\n",
       "GdWo       80\n",
       "MnWw       10\n",
       "Name: count, dtype: int64"
      ]
     },
     "execution_count": 413,
     "metadata": {},
     "output_type": "execute_result"
    }
   ],
   "source": [
    "# check value counts\n",
    "nulls_pct(ames, 'fence')\n",
    "ames['fence'].value_counts(dropna = False)"
   ]
  },
  {
   "cell_type": "markdown",
   "id": "a42403a0-b1c2-471e-b585-28dfa753e126",
   "metadata": {},
   "source": [
    "Per data dictionary this column can take on five different values.  They are: `GdPrv` for Good Privacy, `MnPrv` for Minimum Privacy, `GdWo` for Good Wood, `MnWw` for Minimum Wood/Wire and `NA` for No Fence.<br>\n",
    "Change all `NA` values to `NoFe`."
   ]
  },
  {
   "cell_type": "code",
   "execution_count": 420,
   "id": "7e14aa67-b9f6-43e4-8c86-a46b242b30fb",
   "metadata": {
    "tags": []
   },
   "outputs": [],
   "source": [
    "# make the changes\n",
    "indexes = ames[ames['fence'].isnull()].index.tolist()\n",
    "ames.loc[indexes, 'fence'] = 'NoFe'"
   ]
  },
  {
   "cell_type": "code",
   "execution_count": 422,
   "id": "482a514a-e149-4b23-a933-0cc44c14ce02",
   "metadata": {
    "tags": []
   },
   "outputs": [
    {
     "name": "stdout",
     "output_type": "stream",
     "text": [
      "Missing percentage: 0.0; Rows: 0\n"
     ]
    },
    {
     "data": {
      "text/plain": [
       "fence\n",
       "NoFe     1651\n",
       "MnPrv     227\n",
       "GdPrv      83\n",
       "GdWo       80\n",
       "MnWw       10\n",
       "Name: count, dtype: int64"
      ]
     },
     "execution_count": 422,
     "metadata": {},
     "output_type": "execute_result"
    }
   ],
   "source": [
    "# confirm changes\n",
    "nulls_pct(ames, 'fence')\n",
    "ames['fence'].value_counts()"
   ]
  },
  {
   "cell_type": "markdown",
   "id": "8195abd5-cd00-4cbd-8787-853464ecfe11",
   "metadata": {},
   "source": [
    "All rows successfully cleaned."
   ]
  },
  {
   "cell_type": "markdown",
   "id": "dd83b29d-4177-4284-baf6-1a2d34de039f",
   "metadata": {},
   "source": [
    "---\n",
    "Column: `misc_feature`<br>\n",
    "Nonimal data."
   ]
  },
  {
   "cell_type": "code",
   "execution_count": 426,
   "id": "971fa187-e80c-4b80-8e5b-b367a47419de",
   "metadata": {
    "tags": []
   },
   "outputs": [
    {
     "name": "stdout",
     "output_type": "stream",
     "text": [
      "Missing percentage: 96.83; Rows: 1986\n"
     ]
    },
    {
     "data": {
      "text/plain": [
       "misc_feature\n",
       "NaN     1986\n",
       "Shed      56\n",
       "Gar2       4\n",
       "Othr       3\n",
       "TenC       1\n",
       "Elev       1\n",
       "Name: count, dtype: int64"
      ]
     },
     "execution_count": 426,
     "metadata": {},
     "output_type": "execute_result"
    }
   ],
   "source": [
    "# check value counts\n",
    "nulls_pct(ames, 'misc_feature')\n",
    "ames['misc_feature'].value_counts(dropna = False)"
   ]
  },
  {
   "cell_type": "markdown",
   "id": "fdb7c9ac-1f39-45ac-87a3-d74797745174",
   "metadata": {},
   "source": [
    "Per data dictionary, this column can take on six different values.  They are: `Elev` for Elevator, `Gar2` for 2nd Garage..., `Othr` for Other, `Shed` for sheds over 100 SF, `TenC` for Tennis Court and `NA` for None.<br>\n",
    "Change all `NaN` values to `NoFea` for no features instead of none."
   ]
  },
  {
   "cell_type": "code",
   "execution_count": 431,
   "id": "5262eeae-0451-4f4e-b91c-45e0bcf23f61",
   "metadata": {
    "tags": []
   },
   "outputs": [],
   "source": [
    "# make the changes\n",
    "indexes = ames[ames['misc_feature'].isnull()].index.tolist()\n",
    "ames.loc[indexes, 'misc_feature'] = 'NoFea'"
   ]
  },
  {
   "cell_type": "code",
   "execution_count": 433,
   "id": "6a558300-1154-4007-a854-2477d5b50dbe",
   "metadata": {
    "tags": []
   },
   "outputs": [
    {
     "name": "stdout",
     "output_type": "stream",
     "text": [
      "Missing percentage: 0.0; Rows: 0\n"
     ]
    },
    {
     "data": {
      "text/plain": [
       "misc_feature\n",
       "NoFea    1986\n",
       "Shed       56\n",
       "Gar2        4\n",
       "Othr        3\n",
       "TenC        1\n",
       "Elev        1\n",
       "Name: count, dtype: int64"
      ]
     },
     "execution_count": 433,
     "metadata": {},
     "output_type": "execute_result"
    }
   ],
   "source": [
    "# confirm changes\n",
    "nulls_pct(ames, 'misc_feature')\n",
    "ames['misc_feature'].value_counts()"
   ]
  },
  {
   "cell_type": "code",
   "execution_count": null,
   "id": "4425bf0d-a097-495a-80e5-d040a6010c9a",
   "metadata": {},
   "outputs": [],
   "source": []
  }
 ],
 "metadata": {
  "kernelspec": {
   "display_name": "Python 3 (ipykernel)",
   "language": "python",
   "name": "python3"
  },
  "language_info": {
   "codemirror_mode": {
    "name": "ipython",
    "version": 3
   },
   "file_extension": ".py",
   "mimetype": "text/x-python",
   "name": "python",
   "nbconvert_exporter": "python",
   "pygments_lexer": "ipython3",
   "version": "3.11.5"
  }
 },
 "nbformat": 4,
 "nbformat_minor": 5
}
